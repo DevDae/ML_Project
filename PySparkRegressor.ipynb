{
  "nbformat": 4,
  "nbformat_minor": 0,
  "metadata": {
    "colab": {
      "name": "PySparkRegressor.ipynb",
      "provenance": [],
      "collapsed_sections": [],
      "include_colab_link": true
    },
    "kernelspec": {
      "name": "python3",
      "display_name": "Python 3"
    },
    "language_info": {
      "name": "python"
    }
  },
  "cells": [
    {
      "cell_type": "markdown",
      "metadata": {
        "id": "view-in-github",
        "colab_type": "text"
      },
      "source": [
        "<a href=\"https://colab.research.google.com/github/KW-ML/ML_Project/blob/main/PySparkRegressor.ipynb\" target=\"_parent\"><img src=\"https://colab.research.google.com/assets/colab-badge.svg\" alt=\"Open In Colab\"/></a>"
      ]
    },
    {
      "cell_type": "code",
      "source": [
        "!sudo apt-get install -y fonts-nanum\n",
        "!sudo fc-cache -fv\n",
        "!rm ~/.cache/matplotlib -rf"
      ],
      "metadata": {
        "colab": {
          "base_uri": "https://localhost:8080/"
        },
        "id": "TxI8QWZ-U2id",
        "outputId": "18210d1c-5819-4afd-98fc-f52a098ba8a2"
      },
      "execution_count": null,
      "outputs": [
        {
          "output_type": "stream",
          "name": "stdout",
          "text": [
            "E: dpkg was interrupted, you must manually run 'sudo dpkg --configure -a' to correct the problem. \n",
            "/usr/share/fonts: caching, new cache contents: 0 fonts, 1 dirs\n",
            "/usr/share/fonts/truetype: caching, new cache contents: 0 fonts, 3 dirs\n",
            "/usr/share/fonts/truetype/humor-sans: caching, new cache contents: 1 fonts, 0 dirs\n",
            "/usr/share/fonts/truetype/liberation: caching, new cache contents: 16 fonts, 0 dirs\n",
            "/usr/share/fonts/truetype/nanum: caching, new cache contents: 10 fonts, 0 dirs\n",
            "/usr/local/share/fonts: caching, new cache contents: 0 fonts, 0 dirs\n",
            "/root/.local/share/fonts: skipping, no such directory\n",
            "/root/.fonts: skipping, no such directory\n",
            "/var/cache/fontconfig: cleaning cache directory\n",
            "/root/.cache/fontconfig: not cleaning non-existent cache directory\n",
            "/root/.fontconfig: not cleaning non-existent cache directory\n",
            "fc-cache: succeeded\n"
          ]
        }
      ]
    },
    {
      "cell_type": "code",
      "execution_count": null,
      "metadata": {
        "id": "2fcLX7e0Imql"
      },
      "outputs": [],
      "source": [
        "import pandas as pd\n",
        "import numpy as np\n",
        "import seaborn as sns\n",
        "import matplotlib.pyplot as plt\n",
        "import seaborn as sns\n",
        "\n",
        "import sys\n",
        "\n",
        "# 커널을 구성하다보면 에러는 아니지만, 빨간색 네모 박스 warning이 뜨는 경우를 제거 \n",
        "import warnings\n",
        "warnings.filterwarnings('ignore')"
      ]
    },
    {
      "cell_type": "code",
      "source": [
        "from google.colab import drive\n",
        "drive.mount('/content/drive')"
      ],
      "metadata": {
        "colab": {
          "base_uri": "https://localhost:8080/"
        },
        "id": "Y-oMyP4WIqTk",
        "outputId": "c0327210-f53d-4156-f3a7-c133936177c1"
      },
      "execution_count": null,
      "outputs": [
        {
          "output_type": "stream",
          "name": "stdout",
          "text": [
            "Mounted at /content/drive\n"
          ]
        }
      ]
    },
    {
      "cell_type": "code",
      "source": [
        "data = pd.read_csv('/content/drive/MyDrive/기계학습팀플/코드/data/바이너리인코딩.csv',encoding='utf-8',)\n",
        "data.drop(['Unnamed: 0'], axis = 1, inplace = True)"
      ],
      "metadata": {
        "colab": {
          "base_uri": "https://localhost:8080/",
          "height": 520
        },
        "id": "ateEU7CnIxbI",
        "outputId": "dc0f9c98-0717-4791-f4d3-9f96b4d67157"
      },
      "execution_count": null,
      "outputs": [
        {
          "output_type": "execute_result",
          "data": {
            "text/plain": [
              "         시설용량    생물학적       고도      유입하수량  생물학적 유입하수량   고도 유입하수량        방류량  \\\n",
              "0      860000       0   860000   557225.3         0.0   557225.3   561135.4   \n",
              "1     1590000  100000  1490000  1263583.9    126961.3  1136622.6  1284644.9   \n",
              "2     1630000  120000  1510000  1607080.8    150526.6  1456554.2  1607080.8   \n",
              "3      900000       0   900000   752384.9         0.0   752384.9   752384.9   \n",
              "4      120000       0   120000    51697.2         0.0    51697.2    52037.6   \n",
              "...       ...     ...      ...        ...         ...        ...        ...   \n",
              "4275       30       0       30       25.5         0.0       25.5       25.5   \n",
              "4276       30       0       30       11.1         0.0       11.1       11.1   \n",
              "4277       25       0       25        6.2         0.0        6.2        6.2   \n",
              "4278       23       0       23        7.9         0.0        7.9        7.9   \n",
              "4279       10       0       10        7.1         0.0        7.1        7.1   \n",
              "\n",
              "      생물학적 방류량     고도 방류량  유입 BOD  ...  수계_0  수계_1  수계_2  준공일_day  가동개시일_day  \\\n",
              "0          0.0   561135.4   131.0  ...     0     0     1    12238      12238   \n",
              "1     148022.3  1136622.6   140.1  ...     0     0     1    16172      16172   \n",
              "2     150526.6  1456554.2   121.9  ...     0     0     1    12238      12359   \n",
              "3          0.0   752384.9   145.2  ...     0     0     1    12076      12076   \n",
              "4          0.0    52037.6   115.7  ...     0     1     0     5479       5478   \n",
              "...        ...        ...     ...  ...   ...   ...   ...      ...        ...   \n",
              "4275       0.0       25.5    42.0  ...     0     1     1     5847       5847   \n",
              "4276       0.0       11.1    79.3  ...     0     1     1     5524       5524   \n",
              "4277       0.0        6.2    63.1  ...     0     1     1     6095       6095   \n",
              "4278       0.0        7.9   200.1  ...     0     1     1     7988       7988   \n",
              "4279       0.0        7.1    50.2  ...     0     1     1     5897       5897   \n",
              "\n",
              "      방류수소독방법_염소  방류수소독방법_자외선  방류수소독방법_오존  방류수소독방법_기타  처리효율  \n",
              "0              1            0           0           0  98.3  \n",
              "1              1            0           1           0  95.9  \n",
              "2              1            0           0           0  97.0  \n",
              "3              1            0           0           1  96.6  \n",
              "4              0            1           0           0  97.2  \n",
              "...          ...          ...         ...         ...   ...  \n",
              "4275           1            1           1           1  88.1  \n",
              "4276           1            1           1           1  95.8  \n",
              "4277           1            1           1           1  93.7  \n",
              "4278           1            1           1           1  95.4  \n",
              "4279           1            1           1           1  85.7  \n",
              "\n",
              "[4280 rows x 58 columns]"
            ],
            "text/html": [
              "\n",
              "  <div id=\"df-d58d47cf-ecb6-4566-a777-e67b53ab94c4\">\n",
              "    <div class=\"colab-df-container\">\n",
              "      <div>\n",
              "<style scoped>\n",
              "    .dataframe tbody tr th:only-of-type {\n",
              "        vertical-align: middle;\n",
              "    }\n",
              "\n",
              "    .dataframe tbody tr th {\n",
              "        vertical-align: top;\n",
              "    }\n",
              "\n",
              "    .dataframe thead th {\n",
              "        text-align: right;\n",
              "    }\n",
              "</style>\n",
              "<table border=\"1\" class=\"dataframe\">\n",
              "  <thead>\n",
              "    <tr style=\"text-align: right;\">\n",
              "      <th></th>\n",
              "      <th>시설용량</th>\n",
              "      <th>생물학적</th>\n",
              "      <th>고도</th>\n",
              "      <th>유입하수량</th>\n",
              "      <th>생물학적 유입하수량</th>\n",
              "      <th>고도 유입하수량</th>\n",
              "      <th>방류량</th>\n",
              "      <th>생물학적 방류량</th>\n",
              "      <th>고도 방류량</th>\n",
              "      <th>유입 BOD</th>\n",
              "      <th>...</th>\n",
              "      <th>수계_0</th>\n",
              "      <th>수계_1</th>\n",
              "      <th>수계_2</th>\n",
              "      <th>준공일_day</th>\n",
              "      <th>가동개시일_day</th>\n",
              "      <th>방류수소독방법_염소</th>\n",
              "      <th>방류수소독방법_자외선</th>\n",
              "      <th>방류수소독방법_오존</th>\n",
              "      <th>방류수소독방법_기타</th>\n",
              "      <th>처리효율</th>\n",
              "    </tr>\n",
              "  </thead>\n",
              "  <tbody>\n",
              "    <tr>\n",
              "      <th>0</th>\n",
              "      <td>860000</td>\n",
              "      <td>0</td>\n",
              "      <td>860000</td>\n",
              "      <td>557225.3</td>\n",
              "      <td>0.0</td>\n",
              "      <td>557225.3</td>\n",
              "      <td>561135.4</td>\n",
              "      <td>0.0</td>\n",
              "      <td>561135.4</td>\n",
              "      <td>131.0</td>\n",
              "      <td>...</td>\n",
              "      <td>0</td>\n",
              "      <td>0</td>\n",
              "      <td>1</td>\n",
              "      <td>12238</td>\n",
              "      <td>12238</td>\n",
              "      <td>1</td>\n",
              "      <td>0</td>\n",
              "      <td>0</td>\n",
              "      <td>0</td>\n",
              "      <td>98.3</td>\n",
              "    </tr>\n",
              "    <tr>\n",
              "      <th>1</th>\n",
              "      <td>1590000</td>\n",
              "      <td>100000</td>\n",
              "      <td>1490000</td>\n",
              "      <td>1263583.9</td>\n",
              "      <td>126961.3</td>\n",
              "      <td>1136622.6</td>\n",
              "      <td>1284644.9</td>\n",
              "      <td>148022.3</td>\n",
              "      <td>1136622.6</td>\n",
              "      <td>140.1</td>\n",
              "      <td>...</td>\n",
              "      <td>0</td>\n",
              "      <td>0</td>\n",
              "      <td>1</td>\n",
              "      <td>16172</td>\n",
              "      <td>16172</td>\n",
              "      <td>1</td>\n",
              "      <td>0</td>\n",
              "      <td>1</td>\n",
              "      <td>0</td>\n",
              "      <td>95.9</td>\n",
              "    </tr>\n",
              "    <tr>\n",
              "      <th>2</th>\n",
              "      <td>1630000</td>\n",
              "      <td>120000</td>\n",
              "      <td>1510000</td>\n",
              "      <td>1607080.8</td>\n",
              "      <td>150526.6</td>\n",
              "      <td>1456554.2</td>\n",
              "      <td>1607080.8</td>\n",
              "      <td>150526.6</td>\n",
              "      <td>1456554.2</td>\n",
              "      <td>121.9</td>\n",
              "      <td>...</td>\n",
              "      <td>0</td>\n",
              "      <td>0</td>\n",
              "      <td>1</td>\n",
              "      <td>12238</td>\n",
              "      <td>12359</td>\n",
              "      <td>1</td>\n",
              "      <td>0</td>\n",
              "      <td>0</td>\n",
              "      <td>0</td>\n",
              "      <td>97.0</td>\n",
              "    </tr>\n",
              "    <tr>\n",
              "      <th>3</th>\n",
              "      <td>900000</td>\n",
              "      <td>0</td>\n",
              "      <td>900000</td>\n",
              "      <td>752384.9</td>\n",
              "      <td>0.0</td>\n",
              "      <td>752384.9</td>\n",
              "      <td>752384.9</td>\n",
              "      <td>0.0</td>\n",
              "      <td>752384.9</td>\n",
              "      <td>145.2</td>\n",
              "      <td>...</td>\n",
              "      <td>0</td>\n",
              "      <td>0</td>\n",
              "      <td>1</td>\n",
              "      <td>12076</td>\n",
              "      <td>12076</td>\n",
              "      <td>1</td>\n",
              "      <td>0</td>\n",
              "      <td>0</td>\n",
              "      <td>1</td>\n",
              "      <td>96.6</td>\n",
              "    </tr>\n",
              "    <tr>\n",
              "      <th>4</th>\n",
              "      <td>120000</td>\n",
              "      <td>0</td>\n",
              "      <td>120000</td>\n",
              "      <td>51697.2</td>\n",
              "      <td>0.0</td>\n",
              "      <td>51697.2</td>\n",
              "      <td>52037.6</td>\n",
              "      <td>0.0</td>\n",
              "      <td>52037.6</td>\n",
              "      <td>115.7</td>\n",
              "      <td>...</td>\n",
              "      <td>0</td>\n",
              "      <td>1</td>\n",
              "      <td>0</td>\n",
              "      <td>5479</td>\n",
              "      <td>5478</td>\n",
              "      <td>0</td>\n",
              "      <td>1</td>\n",
              "      <td>0</td>\n",
              "      <td>0</td>\n",
              "      <td>97.2</td>\n",
              "    </tr>\n",
              "    <tr>\n",
              "      <th>...</th>\n",
              "      <td>...</td>\n",
              "      <td>...</td>\n",
              "      <td>...</td>\n",
              "      <td>...</td>\n",
              "      <td>...</td>\n",
              "      <td>...</td>\n",
              "      <td>...</td>\n",
              "      <td>...</td>\n",
              "      <td>...</td>\n",
              "      <td>...</td>\n",
              "      <td>...</td>\n",
              "      <td>...</td>\n",
              "      <td>...</td>\n",
              "      <td>...</td>\n",
              "      <td>...</td>\n",
              "      <td>...</td>\n",
              "      <td>...</td>\n",
              "      <td>...</td>\n",
              "      <td>...</td>\n",
              "      <td>...</td>\n",
              "      <td>...</td>\n",
              "    </tr>\n",
              "    <tr>\n",
              "      <th>4275</th>\n",
              "      <td>30</td>\n",
              "      <td>0</td>\n",
              "      <td>30</td>\n",
              "      <td>25.5</td>\n",
              "      <td>0.0</td>\n",
              "      <td>25.5</td>\n",
              "      <td>25.5</td>\n",
              "      <td>0.0</td>\n",
              "      <td>25.5</td>\n",
              "      <td>42.0</td>\n",
              "      <td>...</td>\n",
              "      <td>0</td>\n",
              "      <td>1</td>\n",
              "      <td>1</td>\n",
              "      <td>5847</td>\n",
              "      <td>5847</td>\n",
              "      <td>1</td>\n",
              "      <td>1</td>\n",
              "      <td>1</td>\n",
              "      <td>1</td>\n",
              "      <td>88.1</td>\n",
              "    </tr>\n",
              "    <tr>\n",
              "      <th>4276</th>\n",
              "      <td>30</td>\n",
              "      <td>0</td>\n",
              "      <td>30</td>\n",
              "      <td>11.1</td>\n",
              "      <td>0.0</td>\n",
              "      <td>11.1</td>\n",
              "      <td>11.1</td>\n",
              "      <td>0.0</td>\n",
              "      <td>11.1</td>\n",
              "      <td>79.3</td>\n",
              "      <td>...</td>\n",
              "      <td>0</td>\n",
              "      <td>1</td>\n",
              "      <td>1</td>\n",
              "      <td>5524</td>\n",
              "      <td>5524</td>\n",
              "      <td>1</td>\n",
              "      <td>1</td>\n",
              "      <td>1</td>\n",
              "      <td>1</td>\n",
              "      <td>95.8</td>\n",
              "    </tr>\n",
              "    <tr>\n",
              "      <th>4277</th>\n",
              "      <td>25</td>\n",
              "      <td>0</td>\n",
              "      <td>25</td>\n",
              "      <td>6.2</td>\n",
              "      <td>0.0</td>\n",
              "      <td>6.2</td>\n",
              "      <td>6.2</td>\n",
              "      <td>0.0</td>\n",
              "      <td>6.2</td>\n",
              "      <td>63.1</td>\n",
              "      <td>...</td>\n",
              "      <td>0</td>\n",
              "      <td>1</td>\n",
              "      <td>1</td>\n",
              "      <td>6095</td>\n",
              "      <td>6095</td>\n",
              "      <td>1</td>\n",
              "      <td>1</td>\n",
              "      <td>1</td>\n",
              "      <td>1</td>\n",
              "      <td>93.7</td>\n",
              "    </tr>\n",
              "    <tr>\n",
              "      <th>4278</th>\n",
              "      <td>23</td>\n",
              "      <td>0</td>\n",
              "      <td>23</td>\n",
              "      <td>7.9</td>\n",
              "      <td>0.0</td>\n",
              "      <td>7.9</td>\n",
              "      <td>7.9</td>\n",
              "      <td>0.0</td>\n",
              "      <td>7.9</td>\n",
              "      <td>200.1</td>\n",
              "      <td>...</td>\n",
              "      <td>0</td>\n",
              "      <td>1</td>\n",
              "      <td>1</td>\n",
              "      <td>7988</td>\n",
              "      <td>7988</td>\n",
              "      <td>1</td>\n",
              "      <td>1</td>\n",
              "      <td>1</td>\n",
              "      <td>1</td>\n",
              "      <td>95.4</td>\n",
              "    </tr>\n",
              "    <tr>\n",
              "      <th>4279</th>\n",
              "      <td>10</td>\n",
              "      <td>0</td>\n",
              "      <td>10</td>\n",
              "      <td>7.1</td>\n",
              "      <td>0.0</td>\n",
              "      <td>7.1</td>\n",
              "      <td>7.1</td>\n",
              "      <td>0.0</td>\n",
              "      <td>7.1</td>\n",
              "      <td>50.2</td>\n",
              "      <td>...</td>\n",
              "      <td>0</td>\n",
              "      <td>1</td>\n",
              "      <td>1</td>\n",
              "      <td>5897</td>\n",
              "      <td>5897</td>\n",
              "      <td>1</td>\n",
              "      <td>1</td>\n",
              "      <td>1</td>\n",
              "      <td>1</td>\n",
              "      <td>85.7</td>\n",
              "    </tr>\n",
              "  </tbody>\n",
              "</table>\n",
              "<p>4280 rows × 58 columns</p>\n",
              "</div>\n",
              "      <button class=\"colab-df-convert\" onclick=\"convertToInteractive('df-d58d47cf-ecb6-4566-a777-e67b53ab94c4')\"\n",
              "              title=\"Convert this dataframe to an interactive table.\"\n",
              "              style=\"display:none;\">\n",
              "        \n",
              "  <svg xmlns=\"http://www.w3.org/2000/svg\" height=\"24px\"viewBox=\"0 0 24 24\"\n",
              "       width=\"24px\">\n",
              "    <path d=\"M0 0h24v24H0V0z\" fill=\"none\"/>\n",
              "    <path d=\"M18.56 5.44l.94 2.06.94-2.06 2.06-.94-2.06-.94-.94-2.06-.94 2.06-2.06.94zm-11 1L8.5 8.5l.94-2.06 2.06-.94-2.06-.94L8.5 2.5l-.94 2.06-2.06.94zm10 10l.94 2.06.94-2.06 2.06-.94-2.06-.94-.94-2.06-.94 2.06-2.06.94z\"/><path d=\"M17.41 7.96l-1.37-1.37c-.4-.4-.92-.59-1.43-.59-.52 0-1.04.2-1.43.59L10.3 9.45l-7.72 7.72c-.78.78-.78 2.05 0 2.83L4 21.41c.39.39.9.59 1.41.59.51 0 1.02-.2 1.41-.59l7.78-7.78 2.81-2.81c.8-.78.8-2.07 0-2.86zM5.41 20L4 18.59l7.72-7.72 1.47 1.35L5.41 20z\"/>\n",
              "  </svg>\n",
              "      </button>\n",
              "      \n",
              "  <style>\n",
              "    .colab-df-container {\n",
              "      display:flex;\n",
              "      flex-wrap:wrap;\n",
              "      gap: 12px;\n",
              "    }\n",
              "\n",
              "    .colab-df-convert {\n",
              "      background-color: #E8F0FE;\n",
              "      border: none;\n",
              "      border-radius: 50%;\n",
              "      cursor: pointer;\n",
              "      display: none;\n",
              "      fill: #1967D2;\n",
              "      height: 32px;\n",
              "      padding: 0 0 0 0;\n",
              "      width: 32px;\n",
              "    }\n",
              "\n",
              "    .colab-df-convert:hover {\n",
              "      background-color: #E2EBFA;\n",
              "      box-shadow: 0px 1px 2px rgba(60, 64, 67, 0.3), 0px 1px 3px 1px rgba(60, 64, 67, 0.15);\n",
              "      fill: #174EA6;\n",
              "    }\n",
              "\n",
              "    [theme=dark] .colab-df-convert {\n",
              "      background-color: #3B4455;\n",
              "      fill: #D2E3FC;\n",
              "    }\n",
              "\n",
              "    [theme=dark] .colab-df-convert:hover {\n",
              "      background-color: #434B5C;\n",
              "      box-shadow: 0px 1px 3px 1px rgba(0, 0, 0, 0.15);\n",
              "      filter: drop-shadow(0px 1px 2px rgba(0, 0, 0, 0.3));\n",
              "      fill: #FFFFFF;\n",
              "    }\n",
              "  </style>\n",
              "\n",
              "      <script>\n",
              "        const buttonEl =\n",
              "          document.querySelector('#df-d58d47cf-ecb6-4566-a777-e67b53ab94c4 button.colab-df-convert');\n",
              "        buttonEl.style.display =\n",
              "          google.colab.kernel.accessAllowed ? 'block' : 'none';\n",
              "\n",
              "        async function convertToInteractive(key) {\n",
              "          const element = document.querySelector('#df-d58d47cf-ecb6-4566-a777-e67b53ab94c4');\n",
              "          const dataTable =\n",
              "            await google.colab.kernel.invokeFunction('convertToInteractive',\n",
              "                                                     [key], {});\n",
              "          if (!dataTable) return;\n",
              "\n",
              "          const docLinkHtml = 'Like what you see? Visit the ' +\n",
              "            '<a target=\"_blank\" href=https://colab.research.google.com/notebooks/data_table.ipynb>data table notebook</a>'\n",
              "            + ' to learn more about interactive tables.';\n",
              "          element.innerHTML = '';\n",
              "          dataTable['output_type'] = 'display_data';\n",
              "          await google.colab.output.renderOutput(dataTable, element);\n",
              "          const docLink = document.createElement('div');\n",
              "          docLink.innerHTML = docLinkHtml;\n",
              "          element.appendChild(docLink);\n",
              "        }\n",
              "      </script>\n",
              "    </div>\n",
              "  </div>\n",
              "  "
            ]
          },
          "metadata": {},
          "execution_count": 6
        }
      ]
    },
    {
      "cell_type": "code",
      "source": [
        "data = data.drop(['방류 BOD', '유입 BOD' ], axis=1)"
      ],
      "metadata": {
        "id": "-3scoFSu46w4"
      },
      "execution_count": null,
      "outputs": []
    },
    {
      "cell_type": "code",
      "source": [
        "#처리효율이 0인 값들은 유입 방류되는 값이 존재하지 않음\n",
        "deleteIndex = data[data['처리효율']== 0].index\n",
        "data = data.drop(deleteIndex)"
      ],
      "metadata": {
        "id": "ROT3gKhOhYQB"
      },
      "execution_count": null,
      "outputs": []
    },
    {
      "cell_type": "code",
      "source": [
        "df = data.copy()"
      ],
      "metadata": {
        "id": "gSg2bWyAI5iJ"
      },
      "execution_count": null,
      "outputs": []
    },
    {
      "cell_type": "markdown",
      "source": [
        "# **Pyspark Regression with Factorization Machines Regressor**"
      ],
      "metadata": {
        "id": "9_pN8JDFKx6I"
      }
    },
    {
      "cell_type": "code",
      "source": [
        "!pip install pyspark"
      ],
      "metadata": {
        "colab": {
          "base_uri": "https://localhost:8080/"
        },
        "id": "1WqvhDyNobHo",
        "outputId": "73458f25-0977-4c64-f0d2-8ea61ececaa6"
      },
      "execution_count": null,
      "outputs": [
        {
          "output_type": "stream",
          "name": "stdout",
          "text": [
            "Looking in indexes: https://pypi.org/simple, https://us-python.pkg.dev/colab-wheels/public/simple/\n",
            "Collecting pyspark\n",
            "  Downloading pyspark-3.2.1.tar.gz (281.4 MB)\n",
            "\u001b[K     |████████████████████████████████| 281.4 MB 33 kB/s \n",
            "\u001b[?25hCollecting py4j==0.10.9.3\n",
            "  Downloading py4j-0.10.9.3-py2.py3-none-any.whl (198 kB)\n",
            "\u001b[K     |████████████████████████████████| 198 kB 49.3 MB/s \n",
            "\u001b[?25hBuilding wheels for collected packages: pyspark\n",
            "  Building wheel for pyspark (setup.py) ... \u001b[?25l\u001b[?25hdone\n",
            "  Created wheel for pyspark: filename=pyspark-3.2.1-py2.py3-none-any.whl size=281853642 sha256=a0cfffef9cc3cb72eb345bdb5b33e65986c3cddfa237bea728e62dc689c849b4\n",
            "  Stored in directory: /root/.cache/pip/wheels/9f/f5/07/7cd8017084dce4e93e84e92efd1e1d5334db05f2e83bcef74f\n",
            "Successfully built pyspark\n",
            "Installing collected packages: py4j, pyspark\n",
            "Successfully installed py4j-0.10.9.3 pyspark-3.2.1\n"
          ]
        }
      ]
    },
    {
      "cell_type": "code",
      "source": [
        "from pyspark.ml.regression import FMRegressor\n",
        "from pyspark import SparkContext\n",
        "from pyspark.sql import SQLContext\n",
        "from pyspark.ml.feature import VectorAssembler\n",
        "from pyspark.ml.evaluation import RegressionEvaluator"
      ],
      "metadata": {
        "id": "2Ra8I9EfI8Nq"
      },
      "execution_count": null,
      "outputs": []
    },
    {
      "cell_type": "code",
      "source": [
        "sc = SparkContext().getOrCreate()\n",
        "sqlContext = SQLContext(sc)\n",
        "\n",
        "data = sqlContext.createDataFrame(df)\n",
        "print(data.printSchema()) "
      ],
      "metadata": {
        "colab": {
          "base_uri": "https://localhost:8080/"
        },
        "id": "yPm-skWlq43b",
        "outputId": "1ba7cca9-3d05-407c-ff03-b0528b7fe1ab"
      },
      "execution_count": null,
      "outputs": [
        {
          "output_type": "stream",
          "name": "stdout",
          "text": [
            "root\n",
            " |-- 시설용량: long (nullable = true)\n",
            " |-- 생물학적: long (nullable = true)\n",
            " |-- 고도: long (nullable = true)\n",
            " |-- 유입하수량: double (nullable = true)\n",
            " |-- 생물학적 유입하수량: double (nullable = true)\n",
            " |-- 고도 유입하수량: double (nullable = true)\n",
            " |-- 방류량: double (nullable = true)\n",
            " |-- 생물학적 방류량: double (nullable = true)\n",
            " |-- 고도 방류량: double (nullable = true)\n",
            " |-- 유입 COD: double (nullable = true)\n",
            " |-- 방류 COD: double (nullable = true)\n",
            " |-- 유입 SS: double (nullable = true)\n",
            " |-- 방류 SS: double (nullable = true)\n",
            " |-- 유입 T-N: double (nullable = true)\n",
            " |-- 방류 T-N: double (nullable = true)\n",
            " |-- 유입 T-P: double (nullable = true)\n",
            " |-- 방류 T-P: double (nullable = true)\n",
            " |-- 유입 총대장균군수: long (nullable = true)\n",
            " |-- 방류 총대장균군수: long (nullable = true)\n",
            " |-- 처리부하량: double (nullable = true)\n",
            " |-- 연계처리량_분뇨: double (nullable = true)\n",
            " |-- 연계처리량_축산: double (nullable = true)\n",
            " |-- 연계처리량_침출수: double (nullable = true)\n",
            " |-- 연계처리량_기타: double (nullable = true)\n",
            " |-- 사업비(백만원): double (nullable = true)\n",
            " |-- 목표수질(BOD)_0: long (nullable = true)\n",
            " |-- 목표수질(BOD)_1: long (nullable = true)\n",
            " |-- 목표수질(BOD)_2: long (nullable = true)\n",
            " |-- 재생에너지 이용률: double (nullable = true)\n",
            " |-- 총 에너지사용량: double (nullable = true)\n",
            " |-- 총 전력사용량: double (nullable = true)\n",
            " |-- 자체 에너지사용량: double (nullable = true)\n",
            " |-- 하수처리량당 (CO2)배출량: double (nullable = true)\n",
            " |-- 위탁비용: double (nullable = true)\n",
            " |-- 직원총수(명): long (nullable = true)\n",
            " |-- 안전사고건수: long (nullable = true)\n",
            " |-- 시도_0: long (nullable = true)\n",
            " |-- 시도_1: long (nullable = true)\n",
            " |-- 시도_2: long (nullable = true)\n",
            " |-- 시도_3: long (nullable = true)\n",
            " |-- 시도_4: long (nullable = true)\n",
            " |-- 운영주체_0: long (nullable = true)\n",
            " |-- 운영주체_1: long (nullable = true)\n",
            " |-- 지역구분_0: long (nullable = true)\n",
            " |-- 지역구분_1: long (nullable = true)\n",
            " |-- 지역구분_2: long (nullable = true)\n",
            " |-- 수계_0: long (nullable = true)\n",
            " |-- 수계_1: long (nullable = true)\n",
            " |-- 수계_2: long (nullable = true)\n",
            " |-- 준공일_day: long (nullable = true)\n",
            " |-- 가동개시일_day: long (nullable = true)\n",
            " |-- 방류수소독방법_염소: long (nullable = true)\n",
            " |-- 방류수소독방법_자외선: long (nullable = true)\n",
            " |-- 방류수소독방법_오존: long (nullable = true)\n",
            " |-- 방류수소독방법_기타: long (nullable = true)\n",
            " |-- 처리효율: double (nullable = true)\n",
            "\n",
            "None\n"
          ]
        }
      ]
    },
    {
      "cell_type": "code",
      "source": [
        "features = df.columns.tolist()\n",
        "\n",
        "va = VectorAssembler(inputCols=features, outputCol='features')\n",
        "\n",
        "va_df = va.transform(data)\n",
        "va_df = va_df.select(['features', '처리효율'])\n",
        "va_df.show(3)"
      ],
      "metadata": {
        "colab": {
          "base_uri": "https://localhost:8080/"
        },
        "id": "bSd_Jg4OrOCT",
        "outputId": "dcae14f6-0a99-420f-9979-8baebbc1bddb"
      },
      "execution_count": null,
      "outputs": [
        {
          "output_type": "stream",
          "name": "stdout",
          "text": [
            "+--------------------+--------+\n",
            "|            features|처리효율|\n",
            "+--------------------+--------+\n",
            "|(56,[0,2,3,5,6,8,...|    98.3|\n",
            "|[1590000.0,100000...|    95.9|\n",
            "|[1630000.0,120000...|    97.0|\n",
            "+--------------------+--------+\n",
            "only showing top 3 rows\n",
            "\n"
          ]
        }
      ]
    },
    {
      "cell_type": "code",
      "source": [
        "(train, test) = va_df.randomSplit([0.7, 0.3])"
      ],
      "metadata": {
        "id": "QtcI2DXNr_YI"
      },
      "execution_count": null,
      "outputs": []
    },
    {
      "cell_type": "code",
      "source": [
        "fmr = FMRegressor(labelCol=\"처리효율\", stepSize=0.05)\n",
        "\n",
        "model = fmr.fit(train)\n",
        "print(model) \n",
        " \n",
        "print(\"Coefficients: \", model.linear)\n",
        "print(\"Intercept: \", model.intercept)"
      ],
      "metadata": {
        "colab": {
          "base_uri": "https://localhost:8080/"
        },
        "id": "56yxHXTRsB5_",
        "outputId": "58688b42-43d8-4a75-8f95-b50748553b90"
      },
      "execution_count": null,
      "outputs": [
        {
          "output_type": "stream",
          "name": "stdout",
          "text": [
            "FMRegressionModel: uid=FMRegressor_1be891448d4a, numFeatures=56, factorSize=8, fitLinear=true, fitIntercept=true\n",
            "Coefficients:  [0.19257171066958828,0.20331877354852348,0.19211546041849017,0.18939480491959826,0.20862473411801022,0.18815396212289723,0.18928615394007553,0.20916339005446105,0.1877765979109034,0.1998136637695463,0.19857119607610887,0.19279479638089767,0.1905886545232369,0.19399712403423444,0.17457524740136032,0.17255033817824436,0.0955259732148095,0.09152488405935996,0.1503175970312776,0.19863052351714944,0.1997833939642564,0.043037848698919134,0.18931104383150166,0.1100992234914758,0.19132861041407126,0.2367227702067737,0.014681954390664952,0.1761221390999344,0.15541741951107704,0.20991111067370077,0.21853977582947068,0.1800137089525938,0.3117035183706913,0.21335983577837908,0.20732612444504186,0.178510291152897,0.09744422634992313,0.2136459110404043,0.02535355413790744,0.05804438110052622,0.22021857176485646,0.16954622467345634,0.16325401827843194,-2.2331406496425346,0.21074320621390785,0.18482094313972688,0.0843884980559698,0.06887469179336324,0.20479866647501607,0.1942391002412486,0.19446226713013365,0.15738007312110808,0.19967517754515215,0.18563077051967714,0.023329508687774725,0.18373773438810836]\n",
            "Intercept:  0.1834865898881944\n"
          ]
        }
      ]
    },
    {
      "cell_type": "code",
      "source": [
        "tdata = model.transform(test)\n",
        "tdata.show(3)\n",
        "\n",
        "rmse = RegressionEvaluator(labelCol=\"처리효율\", predictionCol=\"prediction\", metricName=\"rmse\")\n",
        "rmse = rmse.evaluate(tdata)\n",
        "mae = RegressionEvaluator(labelCol=\"처리효율\", predictionCol=\"prediction\", metricName=\"mae\")\n",
        "mae = mae.evaluate(tdata)\n",
        "r2 = RegressionEvaluator(labelCol=\"처리효율\", predictionCol=\"prediction\", metricName=\"r2\")\n",
        "r2 = r2.evaluate(tdata)\n",
        "\n",
        "print(\"RMSE: \", rmse)\n",
        "print(\"MAE: \", mae)\n",
        "print(\"R-squared: \", r2)"
      ],
      "metadata": {
        "colab": {
          "base_uri": "https://localhost:8080/"
        },
        "id": "5JbF3dNWsQnU",
        "outputId": "f1e11252-58c4-4095-9e23-51d95cb00c59"
      },
      "execution_count": null,
      "outputs": [
        {
          "output_type": "stream",
          "name": "stdout",
          "text": [
            "+--------------------+--------+--------------------+\n",
            "|            features|처리효율|          prediction|\n",
            "+--------------------+--------+--------------------+\n",
            "|(56,[0,1,2,3,5,6,...|    98.5|5.5067079867963664E7|\n",
            "|(56,[0,1,2,3,5,6,...|    98.2| 5.750696460001539E7|\n",
            "|(56,[0,1,3,4,6,7,...|    94.7|2.3634795792436056E7|\n",
            "+--------------------+--------+--------------------+\n",
            "only showing top 3 rows\n",
            "\n",
            "RMSE:  2350918757.3530884\n",
            "MAE:  298675432.7478338\n",
            "R-squared:  -5.987231865218438e+17\n"
          ]
        }
      ]
    },
    {
      "cell_type": "code",
      "source": [
        "x_ax = range(0, tdata.count())\n",
        "y_pred=tdata.select(\"prediction\").collect()\n",
        "y_orig=tdata.select(\"처리효율\").collect()\n",
        " \n",
        "plt.plot(x_ax, y_orig, label=\"original\")\n",
        "plt.plot(x_ax, y_pred, label=\"predicted\")\n",
        "plt.title(\"Sewer test and predicted data\")\n",
        "plt.xlabel('X-axis')\n",
        "plt.ylabel('Y-axis')\n",
        "plt.legend(loc='best',fancybox=True, shadow=True)\n",
        "plt.grid(True)\n",
        "plt.show() "
      ],
      "metadata": {
        "colab": {
          "base_uri": "https://localhost:8080/",
          "height": 295
        },
        "id": "9ngqnBmCsgZj",
        "outputId": "42842e11-7e1d-44a2-c09b-9db2e653f734"
      },
      "execution_count": null,
      "outputs": [
        {
          "output_type": "display_data",
          "data": {
            "text/plain": [
              "<Figure size 432x288 with 1 Axes>"
            ],
            "image/png": "[encoded data removed]"
          },
          "metadata": {
            "needs_background": "light"
          }
        }
      ]
    },
    {
      "cell_type": "markdown",
      "source": [
        "# **MLlib Gradient-boosted Tree Regression Example with PySpark**"
      ],
      "metadata": {
        "id": "eyx_4LmKuSDb"
      }
    },
    {
      "cell_type": "code",
      "source": [
        "from pyspark import SparkContext\n",
        "from pyspark.sql import SQLContext\n",
        "from pyspark.ml.feature import VectorAssembler\n",
        "from pyspark.ml.regression import GBTRegressor\n",
        "from pyspark.ml.evaluation import RegressionEvaluator"
      ],
      "metadata": {
        "id": "sHVdRAMzJSs7"
      },
      "execution_count": null,
      "outputs": []
    },
    {
      "cell_type": "code",
      "source": [
        "#sc = SparkContext().getOrCreate()\n",
        "sqlContext = SQLContext(sc)\n",
        "\n",
        "data = sqlContext.createDataFrame(df)\n",
        "print(data.printSchema()) "
      ],
      "metadata": {
        "colab": {
          "base_uri": "https://localhost:8080/"
        },
        "id": "FR_G6OLfJdoL",
        "outputId": "f12b4b10-917a-44af-d20d-75f3316a1ef8"
      },
      "execution_count": null,
      "outputs": [
        {
          "output_type": "stream",
          "name": "stdout",
          "text": [
            "root\n",
            " |-- 시설용량: long (nullable = true)\n",
            " |-- 생물학적: long (nullable = true)\n",
            " |-- 고도: long (nullable = true)\n",
            " |-- 유입하수량: double (nullable = true)\n",
            " |-- 생물학적 유입하수량: double (nullable = true)\n",
            " |-- 고도 유입하수량: double (nullable = true)\n",
            " |-- 방류량: double (nullable = true)\n",
            " |-- 생물학적 방류량: double (nullable = true)\n",
            " |-- 고도 방류량: double (nullable = true)\n",
            " |-- 유입 COD: double (nullable = true)\n",
            " |-- 방류 COD: double (nullable = true)\n",
            " |-- 유입 SS: double (nullable = true)\n",
            " |-- 방류 SS: double (nullable = true)\n",
            " |-- 유입 T-N: double (nullable = true)\n",
            " |-- 방류 T-N: double (nullable = true)\n",
            " |-- 유입 T-P: double (nullable = true)\n",
            " |-- 방류 T-P: double (nullable = true)\n",
            " |-- 유입 총대장균군수: long (nullable = true)\n",
            " |-- 방류 총대장균군수: long (nullable = true)\n",
            " |-- 처리부하량: double (nullable = true)\n",
            " |-- 연계처리량_분뇨: double (nullable = true)\n",
            " |-- 연계처리량_축산: double (nullable = true)\n",
            " |-- 연계처리량_침출수: double (nullable = true)\n",
            " |-- 연계처리량_기타: double (nullable = true)\n",
            " |-- 사업비(백만원): double (nullable = true)\n",
            " |-- 목표수질(BOD)_0: long (nullable = true)\n",
            " |-- 목표수질(BOD)_1: long (nullable = true)\n",
            " |-- 목표수질(BOD)_2: long (nullable = true)\n",
            " |-- 재생에너지 이용률: double (nullable = true)\n",
            " |-- 총 에너지사용량: double (nullable = true)\n",
            " |-- 총 전력사용량: double (nullable = true)\n",
            " |-- 자체 에너지사용량: double (nullable = true)\n",
            " |-- 하수처리량당 (CO2)배출량: double (nullable = true)\n",
            " |-- 위탁비용: double (nullable = true)\n",
            " |-- 직원총수(명): long (nullable = true)\n",
            " |-- 안전사고건수: long (nullable = true)\n",
            " |-- 시도_0: long (nullable = true)\n",
            " |-- 시도_1: long (nullable = true)\n",
            " |-- 시도_2: long (nullable = true)\n",
            " |-- 시도_3: long (nullable = true)\n",
            " |-- 시도_4: long (nullable = true)\n",
            " |-- 운영주체_0: long (nullable = true)\n",
            " |-- 운영주체_1: long (nullable = true)\n",
            " |-- 지역구분_0: long (nullable = true)\n",
            " |-- 지역구분_1: long (nullable = true)\n",
            " |-- 지역구분_2: long (nullable = true)\n",
            " |-- 수계_0: long (nullable = true)\n",
            " |-- 수계_1: long (nullable = true)\n",
            " |-- 수계_2: long (nullable = true)\n",
            " |-- 준공일_day: long (nullable = true)\n",
            " |-- 가동개시일_day: long (nullable = true)\n",
            " |-- 방류수소독방법_염소: long (nullable = true)\n",
            " |-- 방류수소독방법_자외선: long (nullable = true)\n",
            " |-- 방류수소독방법_오존: long (nullable = true)\n",
            " |-- 방류수소독방법_기타: long (nullable = true)\n",
            " |-- 처리효율: double (nullable = true)\n",
            "\n",
            "None\n"
          ]
        }
      ]
    },
    {
      "cell_type": "code",
      "source": [
        "features = df.columns.tolist()\n",
        "\n",
        "va = VectorAssembler(inputCols=features, outputCol='features')\n",
        "\n",
        "va_df = va.transform(data)\n",
        "va_df = va_df.select(['features', '처리효율'])\n",
        "va_df.show(3)"
      ],
      "metadata": {
        "colab": {
          "base_uri": "https://localhost:8080/"
        },
        "id": "wS24IWR0JbHN",
        "outputId": "212548ac-a8d8-4d79-ed79-cfc6a2592134"
      },
      "execution_count": null,
      "outputs": [
        {
          "output_type": "stream",
          "name": "stdout",
          "text": [
            "+--------------------+--------+\n",
            "|            features|처리효율|\n",
            "+--------------------+--------+\n",
            "|(56,[0,2,3,5,6,8,...|    98.3|\n",
            "|[1590000.0,100000...|    95.9|\n",
            "|[1630000.0,120000...|    97.0|\n",
            "+--------------------+--------+\n",
            "only showing top 3 rows\n",
            "\n"
          ]
        }
      ]
    },
    {
      "cell_type": "code",
      "source": [
        "(train, test) = va_df.randomSplit([0.7, 0.3])"
      ],
      "metadata": {
        "id": "IQ1zsSTGvMhc"
      },
      "execution_count": null,
      "outputs": []
    },
    {
      "cell_type": "code",
      "source": [
        "gbtr = GBTRegressor(featuresCol='features', labelCol='처리효율', maxIter=50)\n",
        "gbtr = gbtr.fit(train)"
      ],
      "metadata": {
        "id": "PndPpR4mvOpk"
      },
      "execution_count": null,
      "outputs": []
    },
    {
      "cell_type": "code",
      "source": [
        "mdata = gbtr.transform(test)\n",
        "mdata.show(3)\n",
        " \n",
        "rmse=RegressionEvaluator(labelCol=\"처리효율\", predictionCol=\"prediction\", metricName=\"rmse\")\n",
        "rmse=rmse.evaluate(mdata) \n",
        " \n",
        "mae=RegressionEvaluator(labelCol=\"처리효율\", predictionCol=\"prediction\", metricName=\"mae\")\n",
        "mae=mae.evaluate(mdata) \n",
        " \n",
        "r2=RegressionEvaluator(labelCol=\"처리효율\", predictionCol=\"prediction\", metricName=\"r2\")\n",
        "r2=r2.evaluate(mdata)\n",
        "\n",
        "print(\"RMSE: \", rmse)\n",
        "print(\"MAE: \", mae)\n",
        "print(\"R-squared: \", r2)"
      ],
      "metadata": {
        "colab": {
          "base_uri": "https://localhost:8080/"
        },
        "id": "xwELQY68vXcT",
        "outputId": "fcec552c-7984-4379-b06e-0dcd6df30e4a"
      },
      "execution_count": null,
      "outputs": [
        {
          "output_type": "stream",
          "name": "stdout",
          "text": [
            "+--------------------+--------+-----------------+\n",
            "|            features|처리효율|       prediction|\n",
            "+--------------------+--------+-----------------+\n",
            "|(56,[0,1,2,3,5,6,...|    98.5|98.44152134539394|\n",
            "|(56,[0,1,3,4,6,7,...|    98.3|98.35718458355767|\n",
            "|(56,[0,1,3,4,6,7,...|    94.3|94.08235714595423|\n",
            "+--------------------+--------+-----------------+\n",
            "only showing top 3 rows\n",
            "\n",
            "RMSE:  2.0021887170870105\n",
            "MAE:  0.28464512541374853\n",
            "R-squared:  0.7341971173520763\n"
          ]
        }
      ]
    },
    {
      "cell_type": "code",
      "source": [
        "x_ax = range(0, mdata.count())\n",
        "y_pred=mdata.select(\"prediction\").collect()\n",
        "y_orig=mdata.select(\"처리효율\").collect()\n",
        "\n",
        "plt.plot(x_ax, y_orig, label=\"original\")\n",
        "plt.plot(x_ax, y_pred, label=\"predicted\")\n",
        "plt.title(\"Sewer test and predicted data\")\n",
        "plt.xlabel('X-axis')\n",
        "plt.ylabel('Y-axis')\n",
        "plt.legend(loc='best',fancybox=True, shadow=True)\n",
        "plt.grid(True)\n",
        "plt.show() "
      ],
      "metadata": {
        "colab": {
          "base_uri": "https://localhost:8080/",
          "height": 295
        },
        "id": "nVAs_c4yvt3M",
        "outputId": "eea02b7c-974d-4036-bc3d-8b93a1d1388a"
      },
      "execution_count": null,
      "outputs": [
        {
          "output_type": "display_data",
          "data": {
            "text/plain": [
              "<Figure size 432x288 with 1 Axes>"
            ],
            "image/png": "[encoded data removed]"
          },
          "metadata": {
            "needs_background": "light"
          }
        }
      ]
    }
  ]
}