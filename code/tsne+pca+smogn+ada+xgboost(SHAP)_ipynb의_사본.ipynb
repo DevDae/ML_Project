{
  "nbformat": 4,
  "nbformat_minor": 0,
  "metadata": {
    "colab": {
      "name": "tsne+pca+smogn+ada+xgboost(SHAP).ipynb의 사본",
      "provenance": [],
      "collapsed_sections": [],
      "include_colab_link": true
    },
    "kernelspec": {
      "name": "python3",
      "display_name": "Python 3"
    },
    "language_info": {
      "name": "python"
    }
  },
  "cells": [
    {
      "cell_type": "markdown",
      "metadata": {
        "id": "view-in-github",
        "colab_type": "text"
      },
      "source": [
        "<a href=\"https://colab.research.google.com/github/KW-ML/ML_Project/blob/main/code/tsne%2Bpca%2Bsmogn%2Bada%2Bxgboost(SHAP)_ipynb%EC%9D%98_%EC%82%AC%EB%B3%B8.ipynb\" target=\"_parent\"><img src=\"https://colab.research.google.com/assets/colab-badge.svg\" alt=\"Open In Colab\"/></a>"
      ]
    },
    {
      "cell_type": "code",
      "source": [
        "!sudo apt-get install -y fonts-nanum\n",
        "!sudo fc-cache -fv\n",
        "!rm ~/.cache/matplotlib -rf"
      ],
      "metadata": {
        "colab": {
          "base_uri": "https://localhost:8080/"
        },
        "id": "TxI8QWZ-U2id",
        "outputId": "398ee561-c424-4bcc-a5ab-63133aef30d7"
      },
      "execution_count": null,
      "outputs": [
        {
          "output_type": "stream",
          "name": "stdout",
          "text": [
            "Reading package lists... Done\n",
            "Building dependency tree       \n",
            "Reading state information... Done\n",
            "The following package was automatically installed and is no longer required:\n",
            "  libnvidia-common-460\n",
            "Use 'sudo apt autoremove' to remove it.\n",
            "The following NEW packages will be installed:\n",
            "  fonts-nanum\n",
            "0 upgraded, 1 newly installed, 0 to remove and 45 not upgraded.\n",
            "Need to get 9,604 kB of archives.\n",
            "After this operation, 29.5 MB of additional disk space will be used.\n",
            "Get:1 http://archive.ubuntu.com/ubuntu bionic/universe amd64 fonts-nanum all 20170925-1 [9,604 kB]\n",
            "Fetched 9,604 kB in 1s (8,373 kB/s)\n",
            "debconf: unable to initialize frontend: Dialog\n",
            "debconf: (No usable dialog-like program is installed, so the dialog based frontend cannot be used. at /usr/share/perl5/Debconf/FrontEnd/Dialog.pm line 76, <> line 1.)\n",
            "debconf: falling back to frontend: Readline\n",
            "debconf: unable to initialize frontend: Readline\n",
            "debconf: (This frontend requires a controlling tty.)\n",
            "debconf: falling back to frontend: Teletype\n",
            "dpkg-preconfigure: unable to re-open stdin: \n",
            "Selecting previously unselected package fonts-nanum.\n",
            "(Reading database ... 155632 files and directories currently installed.)\n",
            "Preparing to unpack .../fonts-nanum_20170925-1_all.deb ...\n",
            "Unpacking fonts-nanum (20170925-1) ...\n",
            "Setting up fonts-nanum (20170925-1) ...\n",
            "Processing triggers for fontconfig (2.12.6-0ubuntu2) ...\n",
            "/usr/share/fonts: caching, new cache contents: 0 fonts, 1 dirs\n",
            "/usr/share/fonts/truetype: caching, new cache contents: 0 fonts, 3 dirs\n",
            "/usr/share/fonts/truetype/humor-sans: caching, new cache contents: 1 fonts, 0 dirs\n",
            "/usr/share/fonts/truetype/liberation: caching, new cache contents: 16 fonts, 0 dirs\n",
            "/usr/share/fonts/truetype/nanum: caching, new cache contents: 10 fonts, 0 dirs\n",
            "/usr/local/share/fonts: caching, new cache contents: 0 fonts, 0 dirs\n",
            "/root/.local/share/fonts: skipping, no such directory\n",
            "/root/.fonts: skipping, no such directory\n",
            "/var/cache/fontconfig: cleaning cache directory\n",
            "/root/.cache/fontconfig: not cleaning non-existent cache directory\n",
            "/root/.fontconfig: not cleaning non-existent cache directory\n",
            "fc-cache: succeeded\n"
          ]
        }
      ]
    },
    {
      "cell_type": "code",
      "execution_count": null,
      "metadata": {
        "id": "2fcLX7e0Imql"
      },
      "outputs": [],
      "source": [
        "import pandas as pd\n",
        "import numpy as np\n",
        "import seaborn as sns\n",
        "import matplotlib.pyplot as plt\n",
        "import seaborn as sns\n",
        "\n",
        "import sys\n",
        "\n",
        "# 커널을 구성하다보면 에러는 아니지만, 빨간색 네모 박스 warning이 뜨는 경우를 제거 \n",
        "import warnings\n",
        "warnings.filterwarnings('ignore')"
      ]
    },
    {
      "cell_type": "code",
      "source": [
        "from google.colab import drive\n",
        "drive.mount('/content/drive')"
      ],
      "metadata": {
        "colab": {
          "base_uri": "https://localhost:8080/"
        },
        "id": "Y-oMyP4WIqTk",
        "outputId": "e911aa61-b716-4af3-dcd5-b346d2ea6963"
      },
      "execution_count": null,
      "outputs": [
        {
          "output_type": "stream",
          "name": "stdout",
          "text": [
            "Mounted at /content/drive\n"
          ]
        }
      ]
    },
    {
      "cell_type": "code",
      "source": [
        "data = pd.read_csv('/content/drive/MyDrive/기계학습팀플/코드/data/바이너리인코딩.csv',encoding='utf-8')\n",
        "data.drop(['Unnamed: 0'], axis = 1, inplace = True)\n",
        "data"
      ],
      "metadata": {
        "colab": {
          "base_uri": "https://localhost:8080/",
          "height": 485
        },
        "id": "ateEU7CnIxbI",
        "outputId": "9ab86921-2125-44f0-837b-5ec8c8211392"
      },
      "execution_count": null,
      "outputs": [
        {
          "output_type": "execute_result",
          "data": {
            "text/plain": [
              "         시설용량    생물학적       고도      유입하수량  생물학적 유입하수량   고도 유입하수량        방류량  \\\n",
              "0      860000       0   860000   557225.3         0.0   557225.3   561135.4   \n",
              "1     1590000  100000  1490000  1263583.9    126961.3  1136622.6  1284644.9   \n",
              "2     1630000  120000  1510000  1607080.8    150526.6  1456554.2  1607080.8   \n",
              "3      900000       0   900000   752384.9         0.0   752384.9   752384.9   \n",
              "4      120000       0   120000    51697.2         0.0    51697.2    52037.6   \n",
              "...       ...     ...      ...        ...         ...        ...        ...   \n",
              "4275       30       0       30       25.5         0.0       25.5       25.5   \n",
              "4276       30       0       30       11.1         0.0       11.1       11.1   \n",
              "4277       25       0       25        6.2         0.0        6.2        6.2   \n",
              "4278       23       0       23        7.9         0.0        7.9        7.9   \n",
              "4279       10       0       10        7.1         0.0        7.1        7.1   \n",
              "\n",
              "      생물학적 방류량     고도 방류량  유입 BOD  ...  수계_0  수계_1  수계_2  준공일_day  가동개시일_day  \\\n",
              "0          0.0   561135.4   131.0  ...     0     0     1    12238      12238   \n",
              "1     148022.3  1136622.6   140.1  ...     0     0     1    16172      16172   \n",
              "2     150526.6  1456554.2   121.9  ...     0     0     1    12238      12359   \n",
              "3          0.0   752384.9   145.2  ...     0     0     1    12076      12076   \n",
              "4          0.0    52037.6   115.7  ...     0     1     0     5479       5478   \n",
              "...        ...        ...     ...  ...   ...   ...   ...      ...        ...   \n",
              "4275       0.0       25.5    42.0  ...     0     1     1     5847       5847   \n",
              "4276       0.0       11.1    79.3  ...     0     1     1     5524       5524   \n",
              "4277       0.0        6.2    63.1  ...     0     1     1     6095       6095   \n",
              "4278       0.0        7.9   200.1  ...     0     1     1     7988       7988   \n",
              "4279       0.0        7.1    50.2  ...     0     1     1     5897       5897   \n",
              "\n",
              "      방류수소독방법_염소  방류수소독방법_자외선  방류수소독방법_오존  방류수소독방법_기타  처리효율  \n",
              "0              1            0           0           0  98.3  \n",
              "1              1            0           1           0  95.9  \n",
              "2              1            0           0           0  97.0  \n",
              "3              1            0           0           1  96.6  \n",
              "4              0            1           0           0  97.2  \n",
              "...          ...          ...         ...         ...   ...  \n",
              "4275           1            1           1           1  88.1  \n",
              "4276           1            1           1           1  95.8  \n",
              "4277           1            1           1           1  93.7  \n",
              "4278           1            1           1           1  95.4  \n",
              "4279           1            1           1           1  85.7  \n",
              "\n",
              "[4280 rows x 58 columns]"
            ],
            "text/html": [
              "\n",
              "  <div id=\"df-15f8591d-f023-4295-b55f-cf96cc014a8d\">\n",
              "    <div class=\"colab-df-container\">\n",
              "      <div>\n",
              "<style scoped>\n",
              "    .dataframe tbody tr th:only-of-type {\n",
              "        vertical-align: middle;\n",
              "    }\n",
              "\n",
              "    .dataframe tbody tr th {\n",
              "        vertical-align: top;\n",
              "    }\n",
              "\n",
              "    .dataframe thead th {\n",
              "        text-align: right;\n",
              "    }\n",
              "</style>\n",
              "<table border=\"1\" class=\"dataframe\">\n",
              "  <thead>\n",
              "    <tr style=\"text-align: right;\">\n",
              "      <th></th>\n",
              "      <th>시설용량</th>\n",
              "      <th>생물학적</th>\n",
              "      <th>고도</th>\n",
              "      <th>유입하수량</th>\n",
              "      <th>생물학적 유입하수량</th>\n",
              "      <th>고도 유입하수량</th>\n",
              "      <th>방류량</th>\n",
              "      <th>생물학적 방류량</th>\n",
              "      <th>고도 방류량</th>\n",
              "      <th>유입 BOD</th>\n",
              "      <th>...</th>\n",
              "      <th>수계_0</th>\n",
              "      <th>수계_1</th>\n",
              "      <th>수계_2</th>\n",
              "      <th>준공일_day</th>\n",
              "      <th>가동개시일_day</th>\n",
              "      <th>방류수소독방법_염소</th>\n",
              "      <th>방류수소독방법_자외선</th>\n",
              "      <th>방류수소독방법_오존</th>\n",
              "      <th>방류수소독방법_기타</th>\n",
              "      <th>처리효율</th>\n",
              "    </tr>\n",
              "  </thead>\n",
              "  <tbody>\n",
              "    <tr>\n",
              "      <th>0</th>\n",
              "      <td>860000</td>\n",
              "      <td>0</td>\n",
              "      <td>860000</td>\n",
              "      <td>557225.3</td>\n",
              "      <td>0.0</td>\n",
              "      <td>557225.3</td>\n",
              "      <td>561135.4</td>\n",
              "      <td>0.0</td>\n",
              "      <td>561135.4</td>\n",
              "      <td>131.0</td>\n",
              "      <td>...</td>\n",
              "      <td>0</td>\n",
              "      <td>0</td>\n",
              "      <td>1</td>\n",
              "      <td>12238</td>\n",
              "      <td>12238</td>\n",
              "      <td>1</td>\n",
              "      <td>0</td>\n",
              "      <td>0</td>\n",
              "      <td>0</td>\n",
              "      <td>98.3</td>\n",
              "    </tr>\n",
              "    <tr>\n",
              "      <th>1</th>\n",
              "      <td>1590000</td>\n",
              "      <td>100000</td>\n",
              "      <td>1490000</td>\n",
              "      <td>1263583.9</td>\n",
              "      <td>126961.3</td>\n",
              "      <td>1136622.6</td>\n",
              "      <td>1284644.9</td>\n",
              "      <td>148022.3</td>\n",
              "      <td>1136622.6</td>\n",
              "      <td>140.1</td>\n",
              "      <td>...</td>\n",
              "      <td>0</td>\n",
              "      <td>0</td>\n",
              "      <td>1</td>\n",
              "      <td>16172</td>\n",
              "      <td>16172</td>\n",
              "      <td>1</td>\n",
              "      <td>0</td>\n",
              "      <td>1</td>\n",
              "      <td>0</td>\n",
              "      <td>95.9</td>\n",
              "    </tr>\n",
              "    <tr>\n",
              "      <th>2</th>\n",
              "      <td>1630000</td>\n",
              "      <td>120000</td>\n",
              "      <td>1510000</td>\n",
              "      <td>1607080.8</td>\n",
              "      <td>150526.6</td>\n",
              "      <td>1456554.2</td>\n",
              "      <td>1607080.8</td>\n",
              "      <td>150526.6</td>\n",
              "      <td>1456554.2</td>\n",
              "      <td>121.9</td>\n",
              "      <td>...</td>\n",
              "      <td>0</td>\n",
              "      <td>0</td>\n",
              "      <td>1</td>\n",
              "      <td>12238</td>\n",
              "      <td>12359</td>\n",
              "      <td>1</td>\n",
              "      <td>0</td>\n",
              "      <td>0</td>\n",
              "      <td>0</td>\n",
              "      <td>97.0</td>\n",
              "    </tr>\n",
              "    <tr>\n",
              "      <th>3</th>\n",
              "      <td>900000</td>\n",
              "      <td>0</td>\n",
              "      <td>900000</td>\n",
              "      <td>752384.9</td>\n",
              "      <td>0.0</td>\n",
              "      <td>752384.9</td>\n",
              "      <td>752384.9</td>\n",
              "      <td>0.0</td>\n",
              "      <td>752384.9</td>\n",
              "      <td>145.2</td>\n",
              "      <td>...</td>\n",
              "      <td>0</td>\n",
              "      <td>0</td>\n",
              "      <td>1</td>\n",
              "      <td>12076</td>\n",
              "      <td>12076</td>\n",
              "      <td>1</td>\n",
              "      <td>0</td>\n",
              "      <td>0</td>\n",
              "      <td>1</td>\n",
              "      <td>96.6</td>\n",
              "    </tr>\n",
              "    <tr>\n",
              "      <th>4</th>\n",
              "      <td>120000</td>\n",
              "      <td>0</td>\n",
              "      <td>120000</td>\n",
              "      <td>51697.2</td>\n",
              "      <td>0.0</td>\n",
              "      <td>51697.2</td>\n",
              "      <td>52037.6</td>\n",
              "      <td>0.0</td>\n",
              "      <td>52037.6</td>\n",
              "      <td>115.7</td>\n",
              "      <td>...</td>\n",
              "      <td>0</td>\n",
              "      <td>1</td>\n",
              "      <td>0</td>\n",
              "      <td>5479</td>\n",
              "      <td>5478</td>\n",
              "      <td>0</td>\n",
              "      <td>1</td>\n",
              "      <td>0</td>\n",
              "      <td>0</td>\n",
              "      <td>97.2</td>\n",
              "    </tr>\n",
              "    <tr>\n",
              "      <th>...</th>\n",
              "      <td>...</td>\n",
              "      <td>...</td>\n",
              "      <td>...</td>\n",
              "      <td>...</td>\n",
              "      <td>...</td>\n",
              "      <td>...</td>\n",
              "      <td>...</td>\n",
              "      <td>...</td>\n",
              "      <td>...</td>\n",
              "      <td>...</td>\n",
              "      <td>...</td>\n",
              "      <td>...</td>\n",
              "      <td>...</td>\n",
              "      <td>...</td>\n",
              "      <td>...</td>\n",
              "      <td>...</td>\n",
              "      <td>...</td>\n",
              "      <td>...</td>\n",
              "      <td>...</td>\n",
              "      <td>...</td>\n",
              "      <td>...</td>\n",
              "    </tr>\n",
              "    <tr>\n",
              "      <th>4275</th>\n",
              "      <td>30</td>\n",
              "      <td>0</td>\n",
              "      <td>30</td>\n",
              "      <td>25.5</td>\n",
              "      <td>0.0</td>\n",
              "      <td>25.5</td>\n",
              "      <td>25.5</td>\n",
              "      <td>0.0</td>\n",
              "      <td>25.5</td>\n",
              "      <td>42.0</td>\n",
              "      <td>...</td>\n",
              "      <td>0</td>\n",
              "      <td>1</td>\n",
              "      <td>1</td>\n",
              "      <td>5847</td>\n",
              "      <td>5847</td>\n",
              "      <td>1</td>\n",
              "      <td>1</td>\n",
              "      <td>1</td>\n",
              "      <td>1</td>\n",
              "      <td>88.1</td>\n",
              "    </tr>\n",
              "    <tr>\n",
              "      <th>4276</th>\n",
              "      <td>30</td>\n",
              "      <td>0</td>\n",
              "      <td>30</td>\n",
              "      <td>11.1</td>\n",
              "      <td>0.0</td>\n",
              "      <td>11.1</td>\n",
              "      <td>11.1</td>\n",
              "      <td>0.0</td>\n",
              "      <td>11.1</td>\n",
              "      <td>79.3</td>\n",
              "      <td>...</td>\n",
              "      <td>0</td>\n",
              "      <td>1</td>\n",
              "      <td>1</td>\n",
              "      <td>5524</td>\n",
              "      <td>5524</td>\n",
              "      <td>1</td>\n",
              "      <td>1</td>\n",
              "      <td>1</td>\n",
              "      <td>1</td>\n",
              "      <td>95.8</td>\n",
              "    </tr>\n",
              "    <tr>\n",
              "      <th>4277</th>\n",
              "      <td>25</td>\n",
              "      <td>0</td>\n",
              "      <td>25</td>\n",
              "      <td>6.2</td>\n",
              "      <td>0.0</td>\n",
              "      <td>6.2</td>\n",
              "      <td>6.2</td>\n",
              "      <td>0.0</td>\n",
              "      <td>6.2</td>\n",
              "      <td>63.1</td>\n",
              "      <td>...</td>\n",
              "      <td>0</td>\n",
              "      <td>1</td>\n",
              "      <td>1</td>\n",
              "      <td>6095</td>\n",
              "      <td>6095</td>\n",
              "      <td>1</td>\n",
              "      <td>1</td>\n",
              "      <td>1</td>\n",
              "      <td>1</td>\n",
              "      <td>93.7</td>\n",
              "    </tr>\n",
              "    <tr>\n",
              "      <th>4278</th>\n",
              "      <td>23</td>\n",
              "      <td>0</td>\n",
              "      <td>23</td>\n",
              "      <td>7.9</td>\n",
              "      <td>0.0</td>\n",
              "      <td>7.9</td>\n",
              "      <td>7.9</td>\n",
              "      <td>0.0</td>\n",
              "      <td>7.9</td>\n",
              "      <td>200.1</td>\n",
              "      <td>...</td>\n",
              "      <td>0</td>\n",
              "      <td>1</td>\n",
              "      <td>1</td>\n",
              "      <td>7988</td>\n",
              "      <td>7988</td>\n",
              "      <td>1</td>\n",
              "      <td>1</td>\n",
              "      <td>1</td>\n",
              "      <td>1</td>\n",
              "      <td>95.4</td>\n",
              "    </tr>\n",
              "    <tr>\n",
              "      <th>4279</th>\n",
              "      <td>10</td>\n",
              "      <td>0</td>\n",
              "      <td>10</td>\n",
              "      <td>7.1</td>\n",
              "      <td>0.0</td>\n",
              "      <td>7.1</td>\n",
              "      <td>7.1</td>\n",
              "      <td>0.0</td>\n",
              "      <td>7.1</td>\n",
              "      <td>50.2</td>\n",
              "      <td>...</td>\n",
              "      <td>0</td>\n",
              "      <td>1</td>\n",
              "      <td>1</td>\n",
              "      <td>5897</td>\n",
              "      <td>5897</td>\n",
              "      <td>1</td>\n",
              "      <td>1</td>\n",
              "      <td>1</td>\n",
              "      <td>1</td>\n",
              "      <td>85.7</td>\n",
              "    </tr>\n",
              "  </tbody>\n",
              "</table>\n",
              "<p>4280 rows × 58 columns</p>\n",
              "</div>\n",
              "      <button class=\"colab-df-convert\" onclick=\"convertToInteractive('df-15f8591d-f023-4295-b55f-cf96cc014a8d')\"\n",
              "              title=\"Convert this dataframe to an interactive table.\"\n",
              "              style=\"display:none;\">\n",
              "        \n",
              "  <svg xmlns=\"http://www.w3.org/2000/svg\" height=\"24px\"viewBox=\"0 0 24 24\"\n",
              "       width=\"24px\">\n",
              "    <path d=\"M0 0h24v24H0V0z\" fill=\"none\"/>\n",
              "    <path d=\"M18.56 5.44l.94 2.06.94-2.06 2.06-.94-2.06-.94-.94-2.06-.94 2.06-2.06.94zm-11 1L8.5 8.5l.94-2.06 2.06-.94-2.06-.94L8.5 2.5l-.94 2.06-2.06.94zm10 10l.94 2.06.94-2.06 2.06-.94-2.06-.94-.94-2.06-.94 2.06-2.06.94z\"/><path d=\"M17.41 7.96l-1.37-1.37c-.4-.4-.92-.59-1.43-.59-.52 0-1.04.2-1.43.59L10.3 9.45l-7.72 7.72c-.78.78-.78 2.05 0 2.83L4 21.41c.39.39.9.59 1.41.59.51 0 1.02-.2 1.41-.59l7.78-7.78 2.81-2.81c.8-.78.8-2.07 0-2.86zM5.41 20L4 18.59l7.72-7.72 1.47 1.35L5.41 20z\"/>\n",
              "  </svg>\n",
              "      </button>\n",
              "      \n",
              "  <style>\n",
              "    .colab-df-container {\n",
              "      display:flex;\n",
              "      flex-wrap:wrap;\n",
              "      gap: 12px;\n",
              "    }\n",
              "\n",
              "    .colab-df-convert {\n",
              "      background-color: #E8F0FE;\n",
              "      border: none;\n",
              "      border-radius: 50%;\n",
              "      cursor: pointer;\n",
              "      display: none;\n",
              "      fill: #1967D2;\n",
              "      height: 32px;\n",
              "      padding: 0 0 0 0;\n",
              "      width: 32px;\n",
              "    }\n",
              "\n",
              "    .colab-df-convert:hover {\n",
              "      background-color: #E2EBFA;\n",
              "      box-shadow: 0px 1px 2px rgba(60, 64, 67, 0.3), 0px 1px 3px 1px rgba(60, 64, 67, 0.15);\n",
              "      fill: #174EA6;\n",
              "    }\n",
              "\n",
              "    [theme=dark] .colab-df-convert {\n",
              "      background-color: #3B4455;\n",
              "      fill: #D2E3FC;\n",
              "    }\n",
              "\n",
              "    [theme=dark] .colab-df-convert:hover {\n",
              "      background-color: #434B5C;\n",
              "      box-shadow: 0px 1px 3px 1px rgba(0, 0, 0, 0.15);\n",
              "      filter: drop-shadow(0px 1px 2px rgba(0, 0, 0, 0.3));\n",
              "      fill: #FFFFFF;\n",
              "    }\n",
              "  </style>\n",
              "\n",
              "      <script>\n",
              "        const buttonEl =\n",
              "          document.querySelector('#df-15f8591d-f023-4295-b55f-cf96cc014a8d button.colab-df-convert');\n",
              "        buttonEl.style.display =\n",
              "          google.colab.kernel.accessAllowed ? 'block' : 'none';\n",
              "\n",
              "        async function convertToInteractive(key) {\n",
              "          const element = document.querySelector('#df-15f8591d-f023-4295-b55f-cf96cc014a8d');\n",
              "          const dataTable =\n",
              "            await google.colab.kernel.invokeFunction('convertToInteractive',\n",
              "                                                     [key], {});\n",
              "          if (!dataTable) return;\n",
              "\n",
              "          const docLinkHtml = 'Like what you see? Visit the ' +\n",
              "            '<a target=\"_blank\" href=https://colab.research.google.com/notebooks/data_table.ipynb>data table notebook</a>'\n",
              "            + ' to learn more about interactive tables.';\n",
              "          element.innerHTML = '';\n",
              "          dataTable['output_type'] = 'display_data';\n",
              "          await google.colab.output.renderOutput(dataTable, element);\n",
              "          const docLink = document.createElement('div');\n",
              "          docLink.innerHTML = docLinkHtml;\n",
              "          element.appendChild(docLink);\n",
              "        }\n",
              "      </script>\n",
              "    </div>\n",
              "  </div>\n",
              "  "
            ]
          },
          "metadata": {},
          "execution_count": 3
        }
      ]
    },
    {
      "cell_type": "code",
      "source": [
        "df = data.copy()"
      ],
      "metadata": {
        "id": "DEstNfRw00Fa"
      },
      "execution_count": null,
      "outputs": []
    },
    {
      "cell_type": "code",
      "source": [
        "X = df.drop(['처리효율','방류 BOD','유입 BOD'],axis = 1)\n",
        "Y = df['처리효율']\n",
        "/content/drive/MyDrive/기계학습팀플/코드/data/"
      ],
      "metadata": {
        "id": "rHqEaFYH07d8"
      },
      "execution_count": null,
      "outputs": []
    },
    {
      "cell_type": "code",
      "source": [
        "train_low = pd.read_csv(\"/content/drive/MyDrive/기계학습팀플/코드/data/train_low.csv\", encoding = 'utf-8-sig')\n",
        "test_low =pd.read_csv(\"/content/drive/MyDrive/기계학습팀플/코드/data/test_low.csv\", encoding = 'utf-8-sig')\n",
        "train_high = pd.read_csv(\"/content/drive/MyDrive/기계학습팀플/코드/data/train_high.csv\", encoding = 'utf-8-sig')\n",
        "test_high = pd.read_csv(\"/content/drive/MyDrive/기계학습팀플/코드/data/test_high.csv\", encoding = 'utf-8-sig')"
      ],
      "metadata": {
        "id": "2JwINvaI18uD"
      },
      "execution_count": null,
      "outputs": []
    },
    {
      "cell_type": "code",
      "source": [
        "train_low=pd.DataFrame(train_low)\n",
        "train_high=pd.DataFrame(train_high)"
      ],
      "metadata": {
        "id": "auKynoPa3OrQ"
      },
      "execution_count": null,
      "outputs": []
    },
    {
      "cell_type": "code",
      "source": [
        "test_low=pd.DataFrame(test_low)\n",
        "test_high=pd.DataFrame(test_high)"
      ],
      "metadata": {
        "id": "hB8pIYGJQz2b"
      },
      "execution_count": null,
      "outputs": []
    },
    {
      "cell_type": "code",
      "source": [
        "high=pd.DataFrame(train_high)\n",
        "high1=pd.DataFrame(test_high)"
      ],
      "metadata": {
        "id": "vG6yinQ4uLe9"
      },
      "execution_count": null,
      "outputs": []
    },
    {
      "cell_type": "code",
      "source": [
        "train=pd.concat([train_low,train_high])"
      ],
      "metadata": {
        "id": "DfQ9x_yH5d-G"
      },
      "execution_count": null,
      "outputs": []
    },
    {
      "cell_type": "code",
      "source": [
        "test=pd.concat([test_low,test_high])"
      ],
      "metadata": {
        "id": "EV_Jup8sQ3wC"
      },
      "execution_count": null,
      "outputs": []
    },
    {
      "cell_type": "code",
      "source": [
        "all=pd.concat([train,test])"
      ],
      "metadata": {
        "id": "RVJKZS5At5Xj"
      },
      "execution_count": null,
      "outputs": []
    },
    {
      "cell_type": "code",
      "source": [
        "all_x=pd.concat([high,high1])"
      ],
      "metadata": {
        "id": "yhc6pDmxuUfH"
      },
      "execution_count": null,
      "outputs": []
    },
    {
      "cell_type": "code",
      "source": [
        "train_X=train.drop(['처리효율'],axis=1)\n",
        "train_Y=train['처리효율']"
      ],
      "metadata": {
        "id": "_gCrw3V93uVA"
      },
      "execution_count": null,
      "outputs": []
    },
    {
      "cell_type": "code",
      "source": [
        "train.columns"
      ],
      "metadata": {
        "colab": {
          "base_uri": "https://localhost:8080/"
        },
        "id": "4MU3LqtrZCU7",
        "outputId": "03554d35-9508-4570-ef3d-9971984fd1cc"
      },
      "execution_count": null,
      "outputs": [
        {
          "output_type": "execute_result",
          "data": {
            "text/plain": [
              "Index(['시설용량', '생물학적', '고도', '유입하수량', '생물학적 유입하수량', '고도 유입하수량', '방류량',\n",
              "       '생물학적 방류량', '고도 방류량', '유입 COD', '방류 COD', '유입 SS', '방류 SS', '유입 T-N',\n",
              "       '방류 T-N', '유입 T-P', '방류 T-P', '유입 총대장균군수', '방류 총대장균군수', '처리부하량',\n",
              "       '연계처리량_분뇨', '연계처리량_축산', '연계처리량_침출수', '연계처리량_기타', '사업비(백만원)',\n",
              "       '목표수질(BOD)_0', '목표수질(BOD)_1', '목표수질(BOD)_2', '재생에너지 이용률', '총 에너지사용량',\n",
              "       '총 전력사용량', '자체 에너지사용량', '하수처리량당 (CO2)배출량', '위탁비용', '직원총수(명)', '안전사고건수',\n",
              "       '시도_0', '시도_1', '시도_2', '시도_3', '시도_4', '운영주체_0', '운영주체_1', '지역구분_0',\n",
              "       '지역구분_1', '지역구분_2', '수계_0', '수계_1', '수계_2', '준공일_day', '가동개시일_day',\n",
              "       '방류수소독방법_염소', '방류수소독방법_자외선', '방류수소독방법_오존', '방류수소독방법_기타', '처리효율'],\n",
              "      dtype='object')"
            ]
          },
          "metadata": {},
          "execution_count": 96
        }
      ]
    },
    {
      "cell_type": "code",
      "source": [
        "df_scaled"
      ],
      "metadata": {
        "colab": {
          "base_uri": "https://localhost:8080/"
        },
        "id": "0EoGZAsaZUwu",
        "outputId": "bda5f9eb-f864-4d34-8614-5abf522b11e1"
      },
      "execution_count": null,
      "outputs": [
        {
          "output_type": "execute_result",
          "data": {
            "text/plain": [
              "array([[-0.1117715 , -0.03388287, -0.11339591, ...,  0.41805182,\n",
              "         0.40978438, -2.66137794],\n",
              "       [-0.11196075, -0.03729504, -0.11339591, ...,  0.41805182,\n",
              "         0.40978438, -1.88364033],\n",
              "       [-0.11187473, -0.04815194, -0.11268579, ...,  0.41805182,\n",
              "         0.40978438, -2.12294421],\n",
              "       ...,\n",
              "       [-0.11221882, -0.04815194, -0.11304085, ...,  0.41805182,\n",
              "         0.40978438,  0.53931146],\n",
              "       [-0.02223985, -0.04815194, -0.02019313, ..., -2.39204797,\n",
              "        -2.44030778,  0.83844131],\n",
              "       [-0.11221882, -0.04815194, -0.11304085, ...,  0.41805182,\n",
              "        -2.44030778, -0.11877421]])"
            ]
          },
          "metadata": {},
          "execution_count": 97
        }
      ]
    },
    {
      "cell_type": "code",
      "source": [
        "from sklearn.preprocessing import StandardScaler\n",
        "scaler = StandardScaler()    \n",
        "scaler.fit(train[['시설용량', '생물학적', '고도', '유입하수량', '생물학적 유입하수량', '고도 유입하수량', '방류량',\n",
        "       '생물학적 방류량', '고도 방류량', '유입 COD', '방류 COD', '유입 SS', '방류 SS', '유입 T-N',\n",
        "       '방류 T-N', '유입 T-P', '방류 T-P', '유입 총대장균군수', '방류 총대장균군수', '처리부하량',\n",
        "       '연계처리량_분뇨', '연계처리량_축산', '연계처리량_침출수', '연계처리량_기타', '사업비(백만원)',\n",
        "       '목표수질(BOD)_0', '목표수질(BOD)_1', '목표수질(BOD)_2', '재생에너지 이용률', '총 에너지사용량',\n",
        "       '총 전력사용량', '자체 에너지사용량', '하수처리량당 (CO2)배출량', '위탁비용', '직원총수(명)', '안전사고건수',\n",
        "       '시도_0', '시도_1', '시도_2', '시도_3', '시도_4', '운영주체_0', '운영주체_1', '지역구분_0',\n",
        "       '지역구분_1', '지역구분_2', '수계_0', '수계_1', '수계_2', '준공일_day', '가동개시일_day',\n",
        "       '방류수소독방법_염소', '방류수소독방법_자외선', '방류수소독방법_오존', '방류수소독방법_기타']])\n",
        "df_scaled = scaler.transform(train[['시설용량', '생물학적', '고도', '유입하수량', '생물학적 유입하수량', '고도 유입하수량', '방류량',\n",
        "       '생물학적 방류량', '고도 방류량', '유입 COD', '방류 COD', '유입 SS', '방류 SS', '유입 T-N',\n",
        "       '방류 T-N', '유입 T-P', '방류 T-P', '유입 총대장균군수', '방류 총대장균군수', '처리부하량',\n",
        "       '연계처리량_분뇨', '연계처리량_축산', '연계처리량_침출수', '연계처리량_기타', '사업비(백만원)',\n",
        "       '목표수질(BOD)_0', '목표수질(BOD)_1', '목표수질(BOD)_2', '재생에너지 이용률', '총 에너지사용량',\n",
        "       '총 전력사용량', '자체 에너지사용량', '하수처리량당 (CO2)배출량', '위탁비용', '직원총수(명)', '안전사고건수',\n",
        "       '시도_0', '시도_1', '시도_2', '시도_3', '시도_4', '운영주체_0', '운영주체_1', '지역구분_0',\n",
        "       '지역구분_1', '지역구분_2', '수계_0', '수계_1', '수계_2', '준공일_day', '가동개시일_day',\n",
        "       '방류수소독방법_염소', '방류수소독방법_자외선', '방류수소독방법_오존', '방류수소독방법_기타']])\n",
        "df_scaled = pd.DataFrame(df_scaled, columns= ['시설용량', '생물학적', '고도', '유입하수량', '생물학적 유입하수량', '고도 유입하수량', '방류량',\n",
        "       '생물학적 방류량', '고도 방류량', '유입 COD', '방류 COD', '유입 SS', '방류 SS', '유입 T-N',\n",
        "       '방류 T-N', '유입 T-P', '방류 T-P', '유입 총대장균군수', '방류 총대장균군수', '처리부하량',\n",
        "       '연계처리량_분뇨', '연계처리량_축산', '연계처리량_침출수', '연계처리량_기타', '사업비(백만원)',\n",
        "       '목표수질(BOD)_0', '목표수질(BOD)_1', '목표수질(BOD)_2', '재생에너지 이용률', '총 에너지사용량',\n",
        "       '총 전력사용량', '자체 에너지사용량', '하수처리량당 (CO2)배출량', '위탁비용', '직원총수(명)', '안전사고건수',\n",
        "       '시도_0', '시도_1', '시도_2', '시도_3', '시도_4', '운영주체_0', '운영주체_1', '지역구분_0',\n",
        "       '지역구분_1', '지역구분_2', '수계_0', '수계_1', '수계_2', '준공일_day', '가동개시일_day',\n",
        "       '방류수소독방법_염소', '방류수소독방법_자외선', '방류수소독방법_오존', '방류수소독방법_기타'])\n",
        "\n",
        "df_scaled['target'] =np.array(train['처리효율'])\n"
      ],
      "metadata": {
        "id": "TC6PkLL1YrtW"
      },
      "execution_count": null,
      "outputs": []
    },
    {
      "cell_type": "code",
      "source": [
        "df_scaled"
      ],
      "metadata": {
        "colab": {
          "base_uri": "https://localhost:8080/",
          "height": 520
        },
        "id": "Q58Qd1a1Zr7L",
        "outputId": "594a778b-ae26-4f70-fa70-6ebe30e3ff31"
      },
      "execution_count": null,
      "outputs": [
        {
          "output_type": "execute_result",
          "data": {
            "text/plain": [
              "          시설용량      생물학적        고도     유입하수량  생물학적 유입하수량  고도 유입하수량       방류량  \\\n",
              "0    -0.111772 -0.033883 -0.113396 -0.107240   -0.026961 -0.110569 -0.103813   \n",
              "1    -0.111961 -0.037295 -0.113396 -0.107362   -0.028686 -0.110569 -0.103938   \n",
              "2    -0.111875 -0.048152 -0.112686 -0.107069   -0.034871 -0.109804 -0.103622   \n",
              "3    -0.111944 -0.048152 -0.112757 -0.107187   -0.034871 -0.109928 -0.103794   \n",
              "4    -0.111789 -0.048152 -0.112597 -0.107481   -0.034871 -0.110237 -0.104060   \n",
              "...        ...       ...       ...       ...         ...       ...       ...   \n",
              "3403 -0.104133 -0.048152 -0.104697 -0.097854   -0.034871 -0.100132 -0.094207   \n",
              "3404 -0.083315 -0.048152 -0.083216 -0.084325   -0.034871 -0.085930 -0.082750   \n",
              "3405 -0.112219 -0.048152 -0.113041 -0.107418   -0.034871 -0.110171 -0.103996   \n",
              "3406 -0.022240 -0.048152 -0.020193 -0.014412   -0.034871 -0.012545 -0.021272   \n",
              "3407 -0.112219 -0.048152 -0.113041 -0.107451   -0.034871 -0.110205 -0.104029   \n",
              "\n",
              "      생물학적 방류량    고도 방류량    유입 COD  ...    지역구분_2      수계_0      수계_1  \\\n",
              "0    -0.026361 -0.107501 -1.461869  ...  1.127830  1.328997 -0.821898   \n",
              "1    -0.027978 -0.107501 -0.972922  ...  1.127830  1.328997 -0.821898   \n",
              "2    -0.033774 -0.106696 -0.262563  ...  1.127830  1.328997 -0.821898   \n",
              "3    -0.033774 -0.106878 -0.225662  ...  1.127830  1.328997 -0.821898   \n",
              "4    -0.033774 -0.107159 -0.968309  ...  1.127830 -0.752447  1.216696   \n",
              "...        ...       ...       ...  ...       ...       ...       ...   \n",
              "3403 -0.033774 -0.096752  0.187176  ... -0.886659 -0.752447  1.216696   \n",
              "3404 -0.033774 -0.084652 -0.121876  ...  1.127830 -0.752447 -0.821898   \n",
              "3405 -0.033774 -0.107091 -0.578534  ...  1.127830 -0.752447  1.216696   \n",
              "3406 -0.033774 -0.019719 -0.746899  ...  1.127830 -0.752447  1.216696   \n",
              "3407 -0.033774 -0.107126 -0.008864  ...  1.127830 -0.752447 -0.821898   \n",
              "\n",
              "          수계_2   준공일_day  가동개시일_day  방류수소독방법_염소  방류수소독방법_자외선  방류수소독방법_오존  \\\n",
              "0    -1.090977  1.444426   1.463154    0.410761     0.170251    0.418052   \n",
              "1    -1.090977  1.435449   1.454226    0.410761     0.170251    0.418052   \n",
              "2    -1.090977  0.281365   0.306650    0.410761     0.170251    0.418052   \n",
              "3     0.916609  0.489647   0.513758    0.410761     0.170251    0.418052   \n",
              "4    -1.090977  0.280916   0.306204    0.410761     0.170251    0.418052   \n",
              "...        ...       ...        ...         ...          ...         ...   \n",
              "3403 -1.090977 -0.266275  -0.237902    0.410761     0.170251    0.418052   \n",
              "3404  0.916609 -1.351680  -1.555985    0.410761     0.170251    0.418052   \n",
              "3405 -1.090977  0.782769   0.805228    0.410761     0.170251    0.418052   \n",
              "3406 -1.090977  1.123024   1.149367   -2.434508     0.170251   -2.392048   \n",
              "3407  0.916609  1.862338   1.878709    0.410761     0.170251    0.418052   \n",
              "\n",
              "      방류수소독방법_기타  \n",
              "0       0.409784  \n",
              "1       0.409784  \n",
              "2       0.409784  \n",
              "3       0.409784  \n",
              "4       0.409784  \n",
              "...          ...  \n",
              "3403    0.409784  \n",
              "3404    0.409784  \n",
              "3405    0.409784  \n",
              "3406   -2.440308  \n",
              "3407   -2.440308  \n",
              "\n",
              "[3408 rows x 55 columns]"
            ],
            "text/html": [
              "\n",
              "  <div id=\"df-44d4479f-d215-412f-86c9-aaf3e4b24cb1\">\n",
              "    <div class=\"colab-df-container\">\n",
              "      <div>\n",
              "<style scoped>\n",
              "    .dataframe tbody tr th:only-of-type {\n",
              "        vertical-align: middle;\n",
              "    }\n",
              "\n",
              "    .dataframe tbody tr th {\n",
              "        vertical-align: top;\n",
              "    }\n",
              "\n",
              "    .dataframe thead th {\n",
              "        text-align: right;\n",
              "    }\n",
              "</style>\n",
              "<table border=\"1\" class=\"dataframe\">\n",
              "  <thead>\n",
              "    <tr style=\"text-align: right;\">\n",
              "      <th></th>\n",
              "      <th>시설용량</th>\n",
              "      <th>생물학적</th>\n",
              "      <th>고도</th>\n",
              "      <th>유입하수량</th>\n",
              "      <th>생물학적 유입하수량</th>\n",
              "      <th>고도 유입하수량</th>\n",
              "      <th>방류량</th>\n",
              "      <th>생물학적 방류량</th>\n",
              "      <th>고도 방류량</th>\n",
              "      <th>유입 COD</th>\n",
              "      <th>...</th>\n",
              "      <th>지역구분_2</th>\n",
              "      <th>수계_0</th>\n",
              "      <th>수계_1</th>\n",
              "      <th>수계_2</th>\n",
              "      <th>준공일_day</th>\n",
              "      <th>가동개시일_day</th>\n",
              "      <th>방류수소독방법_염소</th>\n",
              "      <th>방류수소독방법_자외선</th>\n",
              "      <th>방류수소독방법_오존</th>\n",
              "      <th>방류수소독방법_기타</th>\n",
              "    </tr>\n",
              "  </thead>\n",
              "  <tbody>\n",
              "    <tr>\n",
              "      <th>0</th>\n",
              "      <td>-0.111772</td>\n",
              "      <td>-0.033883</td>\n",
              "      <td>-0.113396</td>\n",
              "      <td>-0.107240</td>\n",
              "      <td>-0.026961</td>\n",
              "      <td>-0.110569</td>\n",
              "      <td>-0.103813</td>\n",
              "      <td>-0.026361</td>\n",
              "      <td>-0.107501</td>\n",
              "      <td>-1.461869</td>\n",
              "      <td>...</td>\n",
              "      <td>1.127830</td>\n",
              "      <td>1.328997</td>\n",
              "      <td>-0.821898</td>\n",
              "      <td>-1.090977</td>\n",
              "      <td>1.444426</td>\n",
              "      <td>1.463154</td>\n",
              "      <td>0.410761</td>\n",
              "      <td>0.170251</td>\n",
              "      <td>0.418052</td>\n",
              "      <td>0.409784</td>\n",
              "    </tr>\n",
              "    <tr>\n",
              "      <th>1</th>\n",
              "      <td>-0.111961</td>\n",
              "      <td>-0.037295</td>\n",
              "      <td>-0.113396</td>\n",
              "      <td>-0.107362</td>\n",
              "      <td>-0.028686</td>\n",
              "      <td>-0.110569</td>\n",
              "      <td>-0.103938</td>\n",
              "      <td>-0.027978</td>\n",
              "      <td>-0.107501</td>\n",
              "      <td>-0.972922</td>\n",
              "      <td>...</td>\n",
              "      <td>1.127830</td>\n",
              "      <td>1.328997</td>\n",
              "      <td>-0.821898</td>\n",
              "      <td>-1.090977</td>\n",
              "      <td>1.435449</td>\n",
              "      <td>1.454226</td>\n",
              "      <td>0.410761</td>\n",
              "      <td>0.170251</td>\n",
              "      <td>0.418052</td>\n",
              "      <td>0.409784</td>\n",
              "    </tr>\n",
              "    <tr>\n",
              "      <th>2</th>\n",
              "      <td>-0.111875</td>\n",
              "      <td>-0.048152</td>\n",
              "      <td>-0.112686</td>\n",
              "      <td>-0.107069</td>\n",
              "      <td>-0.034871</td>\n",
              "      <td>-0.109804</td>\n",
              "      <td>-0.103622</td>\n",
              "      <td>-0.033774</td>\n",
              "      <td>-0.106696</td>\n",
              "      <td>-0.262563</td>\n",
              "      <td>...</td>\n",
              "      <td>1.127830</td>\n",
              "      <td>1.328997</td>\n",
              "      <td>-0.821898</td>\n",
              "      <td>-1.090977</td>\n",
              "      <td>0.281365</td>\n",
              "      <td>0.306650</td>\n",
              "      <td>0.410761</td>\n",
              "      <td>0.170251</td>\n",
              "      <td>0.418052</td>\n",
              "      <td>0.409784</td>\n",
              "    </tr>\n",
              "    <tr>\n",
              "      <th>3</th>\n",
              "      <td>-0.111944</td>\n",
              "      <td>-0.048152</td>\n",
              "      <td>-0.112757</td>\n",
              "      <td>-0.107187</td>\n",
              "      <td>-0.034871</td>\n",
              "      <td>-0.109928</td>\n",
              "      <td>-0.103794</td>\n",
              "      <td>-0.033774</td>\n",
              "      <td>-0.106878</td>\n",
              "      <td>-0.225662</td>\n",
              "      <td>...</td>\n",
              "      <td>1.127830</td>\n",
              "      <td>1.328997</td>\n",
              "      <td>-0.821898</td>\n",
              "      <td>0.916609</td>\n",
              "      <td>0.489647</td>\n",
              "      <td>0.513758</td>\n",
              "      <td>0.410761</td>\n",
              "      <td>0.170251</td>\n",
              "      <td>0.418052</td>\n",
              "      <td>0.409784</td>\n",
              "    </tr>\n",
              "    <tr>\n",
              "      <th>4</th>\n",
              "      <td>-0.111789</td>\n",
              "      <td>-0.048152</td>\n",
              "      <td>-0.112597</td>\n",
              "      <td>-0.107481</td>\n",
              "      <td>-0.034871</td>\n",
              "      <td>-0.110237</td>\n",
              "      <td>-0.104060</td>\n",
              "      <td>-0.033774</td>\n",
              "      <td>-0.107159</td>\n",
              "      <td>-0.968309</td>\n",
              "      <td>...</td>\n",
              "      <td>1.127830</td>\n",
              "      <td>-0.752447</td>\n",
              "      <td>1.216696</td>\n",
              "      <td>-1.090977</td>\n",
              "      <td>0.280916</td>\n",
              "      <td>0.306204</td>\n",
              "      <td>0.410761</td>\n",
              "      <td>0.170251</td>\n",
              "      <td>0.418052</td>\n",
              "      <td>0.409784</td>\n",
              "    </tr>\n",
              "    <tr>\n",
              "      <th>...</th>\n",
              "      <td>...</td>\n",
              "      <td>...</td>\n",
              "      <td>...</td>\n",
              "      <td>...</td>\n",
              "      <td>...</td>\n",
              "      <td>...</td>\n",
              "      <td>...</td>\n",
              "      <td>...</td>\n",
              "      <td>...</td>\n",
              "      <td>...</td>\n",
              "      <td>...</td>\n",
              "      <td>...</td>\n",
              "      <td>...</td>\n",
              "      <td>...</td>\n",
              "      <td>...</td>\n",
              "      <td>...</td>\n",
              "      <td>...</td>\n",
              "      <td>...</td>\n",
              "      <td>...</td>\n",
              "      <td>...</td>\n",
              "      <td>...</td>\n",
              "    </tr>\n",
              "    <tr>\n",
              "      <th>3403</th>\n",
              "      <td>-0.104133</td>\n",
              "      <td>-0.048152</td>\n",
              "      <td>-0.104697</td>\n",
              "      <td>-0.097854</td>\n",
              "      <td>-0.034871</td>\n",
              "      <td>-0.100132</td>\n",
              "      <td>-0.094207</td>\n",
              "      <td>-0.033774</td>\n",
              "      <td>-0.096752</td>\n",
              "      <td>0.187176</td>\n",
              "      <td>...</td>\n",
              "      <td>-0.886659</td>\n",
              "      <td>-0.752447</td>\n",
              "      <td>1.216696</td>\n",
              "      <td>-1.090977</td>\n",
              "      <td>-0.266275</td>\n",
              "      <td>-0.237902</td>\n",
              "      <td>0.410761</td>\n",
              "      <td>0.170251</td>\n",
              "      <td>0.418052</td>\n",
              "      <td>0.409784</td>\n",
              "    </tr>\n",
              "    <tr>\n",
              "      <th>3404</th>\n",
              "      <td>-0.083315</td>\n",
              "      <td>-0.048152</td>\n",
              "      <td>-0.083216</td>\n",
              "      <td>-0.084325</td>\n",
              "      <td>-0.034871</td>\n",
              "      <td>-0.085930</td>\n",
              "      <td>-0.082750</td>\n",
              "      <td>-0.033774</td>\n",
              "      <td>-0.084652</td>\n",
              "      <td>-0.121876</td>\n",
              "      <td>...</td>\n",
              "      <td>1.127830</td>\n",
              "      <td>-0.752447</td>\n",
              "      <td>-0.821898</td>\n",
              "      <td>0.916609</td>\n",
              "      <td>-1.351680</td>\n",
              "      <td>-1.555985</td>\n",
              "      <td>0.410761</td>\n",
              "      <td>0.170251</td>\n",
              "      <td>0.418052</td>\n",
              "      <td>0.409784</td>\n",
              "    </tr>\n",
              "    <tr>\n",
              "      <th>3405</th>\n",
              "      <td>-0.112219</td>\n",
              "      <td>-0.048152</td>\n",
              "      <td>-0.113041</td>\n",
              "      <td>-0.107418</td>\n",
              "      <td>-0.034871</td>\n",
              "      <td>-0.110171</td>\n",
              "      <td>-0.103996</td>\n",
              "      <td>-0.033774</td>\n",
              "      <td>-0.107091</td>\n",
              "      <td>-0.578534</td>\n",
              "      <td>...</td>\n",
              "      <td>1.127830</td>\n",
              "      <td>-0.752447</td>\n",
              "      <td>1.216696</td>\n",
              "      <td>-1.090977</td>\n",
              "      <td>0.782769</td>\n",
              "      <td>0.805228</td>\n",
              "      <td>0.410761</td>\n",
              "      <td>0.170251</td>\n",
              "      <td>0.418052</td>\n",
              "      <td>0.409784</td>\n",
              "    </tr>\n",
              "    <tr>\n",
              "      <th>3406</th>\n",
              "      <td>-0.022240</td>\n",
              "      <td>-0.048152</td>\n",
              "      <td>-0.020193</td>\n",
              "      <td>-0.014412</td>\n",
              "      <td>-0.034871</td>\n",
              "      <td>-0.012545</td>\n",
              "      <td>-0.021272</td>\n",
              "      <td>-0.033774</td>\n",
              "      <td>-0.019719</td>\n",
              "      <td>-0.746899</td>\n",
              "      <td>...</td>\n",
              "      <td>1.127830</td>\n",
              "      <td>-0.752447</td>\n",
              "      <td>1.216696</td>\n",
              "      <td>-1.090977</td>\n",
              "      <td>1.123024</td>\n",
              "      <td>1.149367</td>\n",
              "      <td>-2.434508</td>\n",
              "      <td>0.170251</td>\n",
              "      <td>-2.392048</td>\n",
              "      <td>-2.440308</td>\n",
              "    </tr>\n",
              "    <tr>\n",
              "      <th>3407</th>\n",
              "      <td>-0.112219</td>\n",
              "      <td>-0.048152</td>\n",
              "      <td>-0.113041</td>\n",
              "      <td>-0.107451</td>\n",
              "      <td>-0.034871</td>\n",
              "      <td>-0.110205</td>\n",
              "      <td>-0.104029</td>\n",
              "      <td>-0.033774</td>\n",
              "      <td>-0.107126</td>\n",
              "      <td>-0.008864</td>\n",
              "      <td>...</td>\n",
              "      <td>1.127830</td>\n",
              "      <td>-0.752447</td>\n",
              "      <td>-0.821898</td>\n",
              "      <td>0.916609</td>\n",
              "      <td>1.862338</td>\n",
              "      <td>1.878709</td>\n",
              "      <td>0.410761</td>\n",
              "      <td>0.170251</td>\n",
              "      <td>0.418052</td>\n",
              "      <td>-2.440308</td>\n",
              "    </tr>\n",
              "  </tbody>\n",
              "</table>\n",
              "<p>3408 rows × 55 columns</p>\n",
              "</div>\n",
              "      <button class=\"colab-df-convert\" onclick=\"convertToInteractive('df-44d4479f-d215-412f-86c9-aaf3e4b24cb1')\"\n",
              "              title=\"Convert this dataframe to an interactive table.\"\n",
              "              style=\"display:none;\">\n",
              "        \n",
              "  <svg xmlns=\"http://www.w3.org/2000/svg\" height=\"24px\"viewBox=\"0 0 24 24\"\n",
              "       width=\"24px\">\n",
              "    <path d=\"M0 0h24v24H0V0z\" fill=\"none\"/>\n",
              "    <path d=\"M18.56 5.44l.94 2.06.94-2.06 2.06-.94-2.06-.94-.94-2.06-.94 2.06-2.06.94zm-11 1L8.5 8.5l.94-2.06 2.06-.94-2.06-.94L8.5 2.5l-.94 2.06-2.06.94zm10 10l.94 2.06.94-2.06 2.06-.94-2.06-.94-.94-2.06-.94 2.06-2.06.94z\"/><path d=\"M17.41 7.96l-1.37-1.37c-.4-.4-.92-.59-1.43-.59-.52 0-1.04.2-1.43.59L10.3 9.45l-7.72 7.72c-.78.78-.78 2.05 0 2.83L4 21.41c.39.39.9.59 1.41.59.51 0 1.02-.2 1.41-.59l7.78-7.78 2.81-2.81c.8-.78.8-2.07 0-2.86zM5.41 20L4 18.59l7.72-7.72 1.47 1.35L5.41 20z\"/>\n",
              "  </svg>\n",
              "      </button>\n",
              "      \n",
              "  <style>\n",
              "    .colab-df-container {\n",
              "      display:flex;\n",
              "      flex-wrap:wrap;\n",
              "      gap: 12px;\n",
              "    }\n",
              "\n",
              "    .colab-df-convert {\n",
              "      background-color: #E8F0FE;\n",
              "      border: none;\n",
              "      border-radius: 50%;\n",
              "      cursor: pointer;\n",
              "      display: none;\n",
              "      fill: #1967D2;\n",
              "      height: 32px;\n",
              "      padding: 0 0 0 0;\n",
              "      width: 32px;\n",
              "    }\n",
              "\n",
              "    .colab-df-convert:hover {\n",
              "      background-color: #E2EBFA;\n",
              "      box-shadow: 0px 1px 2px rgba(60, 64, 67, 0.3), 0px 1px 3px 1px rgba(60, 64, 67, 0.15);\n",
              "      fill: #174EA6;\n",
              "    }\n",
              "\n",
              "    [theme=dark] .colab-df-convert {\n",
              "      background-color: #3B4455;\n",
              "      fill: #D2E3FC;\n",
              "    }\n",
              "\n",
              "    [theme=dark] .colab-df-convert:hover {\n",
              "      background-color: #434B5C;\n",
              "      box-shadow: 0px 1px 3px 1px rgba(0, 0, 0, 0.15);\n",
              "      filter: drop-shadow(0px 1px 2px rgba(0, 0, 0, 0.3));\n",
              "      fill: #FFFFFF;\n",
              "    }\n",
              "  </style>\n",
              "\n",
              "      <script>\n",
              "        const buttonEl =\n",
              "          document.querySelector('#df-44d4479f-d215-412f-86c9-aaf3e4b24cb1 button.colab-df-convert');\n",
              "        buttonEl.style.display =\n",
              "          google.colab.kernel.accessAllowed ? 'block' : 'none';\n",
              "\n",
              "        async function convertToInteractive(key) {\n",
              "          const element = document.querySelector('#df-44d4479f-d215-412f-86c9-aaf3e4b24cb1');\n",
              "          const dataTable =\n",
              "            await google.colab.kernel.invokeFunction('convertToInteractive',\n",
              "                                                     [key], {});\n",
              "          if (!dataTable) return;\n",
              "\n",
              "          const docLinkHtml = 'Like what you see? Visit the ' +\n",
              "            '<a target=\"_blank\" href=https://colab.research.google.com/notebooks/data_table.ipynb>data table notebook</a>'\n",
              "            + ' to learn more about interactive tables.';\n",
              "          element.innerHTML = '';\n",
              "          dataTable['output_type'] = 'display_data';\n",
              "          await google.colab.output.renderOutput(dataTable, element);\n",
              "          const docLink = document.createElement('div');\n",
              "          docLink.innerHTML = docLinkHtml;\n",
              "          element.appendChild(docLink);\n",
              "        }\n",
              "      </script>\n",
              "    </div>\n",
              "  </div>\n",
              "  "
            ]
          },
          "metadata": {},
          "execution_count": 104
        }
      ]
    },
    {
      "cell_type": "code",
      "source": [
        "from sklearn.decomposition import PCA\n",
        "\n",
        "# 2차원으로 차원 축소, target 정보는 제외\n",
        "pca = PCA(n_components = 2)\n",
        "pca.fit(df_scaled.iloc[:,:-1])\n",
        " \n",
        "# pca transform 후 데이터프레임으로 자료형 변경\n",
        "df_pca = pca.transform(df_scaled.iloc[:,:-1])\n",
        "df_pca = pd.DataFrame(df_pca, columns = ['component 0', 'component 1'])\n",
        "\n",
        "df_pca"
      ],
      "metadata": {
        "colab": {
          "base_uri": "https://localhost:8080/",
          "height": 424
        },
        "id": "nmZQDJbiY6QF",
        "outputId": "b3d7ca2e-8b91-4c3f-b1d1-1408ccb79a37"
      },
      "execution_count": null,
      "outputs": [
        {
          "output_type": "execute_result",
          "data": {
            "text/plain": [
              "      component 0  component 1\n",
              "0       -0.713509     1.914480\n",
              "1       -0.802926     2.648570\n",
              "2       -0.839838     2.161353\n",
              "3       -0.910764     2.322977\n",
              "4       -0.609525     1.111520\n",
              "...           ...          ...\n",
              "3403    -0.540115     0.514071\n",
              "3404     0.032183    -1.400550\n",
              "3405    -0.613667     0.910886\n",
              "3406     1.906210    -5.310006\n",
              "3407    -0.148170     0.269970\n",
              "\n",
              "[3408 rows x 2 columns]"
            ],
            "text/html": [
              "\n",
              "  <div id=\"df-3bba743c-99a6-4fca-a675-4588731c00a7\">\n",
              "    <div class=\"colab-df-container\">\n",
              "      <div>\n",
              "<style scoped>\n",
              "    .dataframe tbody tr th:only-of-type {\n",
              "        vertical-align: middle;\n",
              "    }\n",
              "\n",
              "    .dataframe tbody tr th {\n",
              "        vertical-align: top;\n",
              "    }\n",
              "\n",
              "    .dataframe thead th {\n",
              "        text-align: right;\n",
              "    }\n",
              "</style>\n",
              "<table border=\"1\" class=\"dataframe\">\n",
              "  <thead>\n",
              "    <tr style=\"text-align: right;\">\n",
              "      <th></th>\n",
              "      <th>component 0</th>\n",
              "      <th>component 1</th>\n",
              "    </tr>\n",
              "  </thead>\n",
              "  <tbody>\n",
              "    <tr>\n",
              "      <th>0</th>\n",
              "      <td>-0.713509</td>\n",
              "      <td>1.914480</td>\n",
              "    </tr>\n",
              "    <tr>\n",
              "      <th>1</th>\n",
              "      <td>-0.802926</td>\n",
              "      <td>2.648570</td>\n",
              "    </tr>\n",
              "    <tr>\n",
              "      <th>2</th>\n",
              "      <td>-0.839838</td>\n",
              "      <td>2.161353</td>\n",
              "    </tr>\n",
              "    <tr>\n",
              "      <th>3</th>\n",
              "      <td>-0.910764</td>\n",
              "      <td>2.322977</td>\n",
              "    </tr>\n",
              "    <tr>\n",
              "      <th>4</th>\n",
              "      <td>-0.609525</td>\n",
              "      <td>1.111520</td>\n",
              "    </tr>\n",
              "    <tr>\n",
              "      <th>...</th>\n",
              "      <td>...</td>\n",
              "      <td>...</td>\n",
              "    </tr>\n",
              "    <tr>\n",
              "      <th>3403</th>\n",
              "      <td>-0.540115</td>\n",
              "      <td>0.514071</td>\n",
              "    </tr>\n",
              "    <tr>\n",
              "      <th>3404</th>\n",
              "      <td>0.032183</td>\n",
              "      <td>-1.400550</td>\n",
              "    </tr>\n",
              "    <tr>\n",
              "      <th>3405</th>\n",
              "      <td>-0.613667</td>\n",
              "      <td>0.910886</td>\n",
              "    </tr>\n",
              "    <tr>\n",
              "      <th>3406</th>\n",
              "      <td>1.906210</td>\n",
              "      <td>-5.310006</td>\n",
              "    </tr>\n",
              "    <tr>\n",
              "      <th>3407</th>\n",
              "      <td>-0.148170</td>\n",
              "      <td>0.269970</td>\n",
              "    </tr>\n",
              "  </tbody>\n",
              "</table>\n",
              "<p>3408 rows × 2 columns</p>\n",
              "</div>\n",
              "      <button class=\"colab-df-convert\" onclick=\"convertToInteractive('df-3bba743c-99a6-4fca-a675-4588731c00a7')\"\n",
              "              title=\"Convert this dataframe to an interactive table.\"\n",
              "              style=\"display:none;\">\n",
              "        \n",
              "  <svg xmlns=\"http://www.w3.org/2000/svg\" height=\"24px\"viewBox=\"0 0 24 24\"\n",
              "       width=\"24px\">\n",
              "    <path d=\"M0 0h24v24H0V0z\" fill=\"none\"/>\n",
              "    <path d=\"M18.56 5.44l.94 2.06.94-2.06 2.06-.94-2.06-.94-.94-2.06-.94 2.06-2.06.94zm-11 1L8.5 8.5l.94-2.06 2.06-.94-2.06-.94L8.5 2.5l-.94 2.06-2.06.94zm10 10l.94 2.06.94-2.06 2.06-.94-2.06-.94-.94-2.06-.94 2.06-2.06.94z\"/><path d=\"M17.41 7.96l-1.37-1.37c-.4-.4-.92-.59-1.43-.59-.52 0-1.04.2-1.43.59L10.3 9.45l-7.72 7.72c-.78.78-.78 2.05 0 2.83L4 21.41c.39.39.9.59 1.41.59.51 0 1.02-.2 1.41-.59l7.78-7.78 2.81-2.81c.8-.78.8-2.07 0-2.86zM5.41 20L4 18.59l7.72-7.72 1.47 1.35L5.41 20z\"/>\n",
              "  </svg>\n",
              "      </button>\n",
              "      \n",
              "  <style>\n",
              "    .colab-df-container {\n",
              "      display:flex;\n",
              "      flex-wrap:wrap;\n",
              "      gap: 12px;\n",
              "    }\n",
              "\n",
              "    .colab-df-convert {\n",
              "      background-color: #E8F0FE;\n",
              "      border: none;\n",
              "      border-radius: 50%;\n",
              "      cursor: pointer;\n",
              "      display: none;\n",
              "      fill: #1967D2;\n",
              "      height: 32px;\n",
              "      padding: 0 0 0 0;\n",
              "      width: 32px;\n",
              "    }\n",
              "\n",
              "    .colab-df-convert:hover {\n",
              "      background-color: #E2EBFA;\n",
              "      box-shadow: 0px 1px 2px rgba(60, 64, 67, 0.3), 0px 1px 3px 1px rgba(60, 64, 67, 0.15);\n",
              "      fill: #174EA6;\n",
              "    }\n",
              "\n",
              "    [theme=dark] .colab-df-convert {\n",
              "      background-color: #3B4455;\n",
              "      fill: #D2E3FC;\n",
              "    }\n",
              "\n",
              "    [theme=dark] .colab-df-convert:hover {\n",
              "      background-color: #434B5C;\n",
              "      box-shadow: 0px 1px 3px 1px rgba(0, 0, 0, 0.15);\n",
              "      filter: drop-shadow(0px 1px 2px rgba(0, 0, 0, 0.3));\n",
              "      fill: #FFFFFF;\n",
              "    }\n",
              "  </style>\n",
              "\n",
              "      <script>\n",
              "        const buttonEl =\n",
              "          document.querySelector('#df-3bba743c-99a6-4fca-a675-4588731c00a7 button.colab-df-convert');\n",
              "        buttonEl.style.display =\n",
              "          google.colab.kernel.accessAllowed ? 'block' : 'none';\n",
              "\n",
              "        async function convertToInteractive(key) {\n",
              "          const element = document.querySelector('#df-3bba743c-99a6-4fca-a675-4588731c00a7');\n",
              "          const dataTable =\n",
              "            await google.colab.kernel.invokeFunction('convertToInteractive',\n",
              "                                                     [key], {});\n",
              "          if (!dataTable) return;\n",
              "\n",
              "          const docLinkHtml = 'Like what you see? Visit the ' +\n",
              "            '<a target=\"_blank\" href=https://colab.research.google.com/notebooks/data_table.ipynb>data table notebook</a>'\n",
              "            + ' to learn more about interactive tables.';\n",
              "          element.innerHTML = '';\n",
              "          dataTable['output_type'] = 'display_data';\n",
              "          await google.colab.output.renderOutput(dataTable, element);\n",
              "          const docLink = document.createElement('div');\n",
              "          docLink.innerHTML = docLinkHtml;\n",
              "          element.appendChild(docLink);\n",
              "        }\n",
              "      </script>\n",
              "    </div>\n",
              "  </div>\n",
              "  "
            ]
          },
          "metadata": {},
          "execution_count": 113
        }
      ]
    },
    {
      "cell_type": "code",
      "source": [
        "print(pca.explained_variance_ratio_)\n"
      ],
      "metadata": {
        "colab": {
          "base_uri": "https://localhost:8080/"
        },
        "id": "4QYkm3VsaLBA",
        "outputId": "075c3ce6-7c8f-4328-bbc1-6fd7f417f0a0"
      },
      "execution_count": null,
      "outputs": [
        {
          "output_type": "stream",
          "name": "stdout",
          "text": [
            "[0.24866862 0.09532955]\n"
          ]
        }
      ]
    },
    {
      "cell_type": "code",
      "source": [
        "import matplotlib.pyplot as plt\n",
        "\n",
        "# class target 정보 불러오기 \n",
        "df_pca['target'] = df_scaled['target']\n",
        "\n",
        "# target 별 분리\n",
        "df_pca_0 = df_pca[df_pca['target']>= 90]\n",
        "df_pca_1 = df_pca[df_pca['target'] < 90]\n",
        "\n",
        "# target 별 시각화\n",
        "plt.scatter(df_pca_0['component 0'], df_pca_0['component 1'], color = 'orange', alpha = 0.7, label = 'target>=90')\n",
        "plt.scatter(df_pca_1['component 0'], df_pca_1['component 1'], color = 'red', alpha = 0.7, label = 'target<90')\n",
        "\n",
        "plt.xlabel('component 0')\n",
        "plt.ylabel('component 1')\n",
        "plt.legend()\n",
        "plt.show()"
      ],
      "metadata": {
        "colab": {
          "base_uri": "https://localhost:8080/",
          "height": 279
        },
        "id": "HxmIKnzPfm7l",
        "outputId": "cfb1f782-450b-4101-fef5-d26035f45241"
      },
      "execution_count": null,
      "outputs": [
        {
          "output_type": "display_data",
          "data": {
            "text/plain": [
              "<Figure size 432x288 with 1 Axes>"
            ],
            "image/png": "[encoded data removed]"
          },
          "metadata": {
            "needs_background": "light"
          }
        }
      ]
    },
    {
      "cell_type": "markdown",
      "source": [
        "# tsne\n"
      ],
      "metadata": {
        "id": "Jbio7sYrgDCi"
      }
    },
    {
      "cell_type": "code",
      "source": [
        "from sklearn.manifold import TSNE\n",
        "\n",
        "\n",
        "# 2차원 t-SNE 임베딩\n",
        "tsne_np = TSNE(n_components = 2).fit_transform(df_scaled.iloc[:,:-1])\n",
        "\n",
        "# numpy array -> DataFrame 변환\n",
        "tsne_df = pd.DataFrame(tsne_np, columns = ['component 0', 'component 1'])"
      ],
      "metadata": {
        "id": "1SuQdFKngKHd"
      },
      "execution_count": null,
      "outputs": []
    },
    {
      "cell_type": "code",
      "source": [
        "import matplotlib.pyplot as plt\n",
        "\n",
        "# class target 정보 불러오기 \n",
        "tsne_df['target'] = df_scaled['target']\n",
        "\n",
        "\n",
        "# target 별 분리\n",
        "tsne_df_0 = tsne_df[tsne_df['target'] >= 95]\n",
        "tsne_df_1 = tsne_df[tsne_df['target'] < 95]\n",
        "\n",
        "# target 별 시각화\n",
        "plt.scatter(tsne_df_0['component 0'], tsne_df_0['component 1'], color = 'pink', label = 'target>=90')\n",
        "plt.scatter(tsne_df_1['component 0'], tsne_df_1['component 1'], color = 'purple', label = 'target<90')\n",
        "\n",
        "plt.xlabel('component 0')\n",
        "plt.ylabel('component 1')\n",
        "plt.legend()\n",
        "plt.show()"
      ],
      "metadata": {
        "colab": {
          "base_uri": "https://localhost:8080/",
          "height": 279
        },
        "id": "g2xze8GKgR7z",
        "outputId": "95136b08-2faf-4307-9930-2f1a437a3b87"
      },
      "execution_count": null,
      "outputs": [
        {
          "output_type": "display_data",
          "data": {
            "text/plain": [
              "<Figure size 432x288 with 1 Axes>"
            ],
            "image/png": "[encoded data removed]"
          },
          "metadata": {
            "needs_background": "light"
          }
        }
      ]
    },
    {
      "cell_type": "markdown",
      "source": [
        "# 90이상 이하 데이터에 대해 model 예측 확인\n"
      ],
      "metadata": {
        "id": "avbF9ST2lqAZ"
      }
    },
    {
      "cell_type": "code",
      "source": [
        "test_high_ada_y=pd.read_csv(\"/content/drive/MyDrive/기계학습팀플/코드/data/Y_test_high(기존모델에test).csv\", encoding = 'utf-8-sig')\n",
        "test_high_ada_x=pd.read_csv(\"/content/drive/MyDrive/기계학습팀플/코드/data/X_test_high(기존모델에test).csv\", encoding = 'utf-8-sig')\n",
        "test_low_ada_y=pd.read_csv(\"/content/drive/MyDrive/기계학습팀플/코드/data/Y_test_low(기존모델에test).csv\", encoding = 'utf-8-sig')\n",
        "test_low_ada_x=pd.read_csv(\"/content/drive/MyDrive/기계학습팀플/코드/data/X_test_low(기존모델에test).csv\", encoding = 'utf-8-sig')\n",
        "\n",
        "X_train=pd.read_csv(\"/content/drive/MyDrive/기계학습팀플/코드/data/X_train.csv\", encoding = 'utf-8-sig')\n",
        "Y_train=pd.read_csv(\"/content/drive/MyDrive/기계학습팀플/코드/data/Y_train.csv\", encoding = 'utf-8-sig')"
      ],
      "metadata": {
        "id": "vSh6rCrClwlT"
      },
      "execution_count": null,
      "outputs": []
    },
    {
      "cell_type": "code",
      "source": [
        "test_low_ada_x=pd.DataFrame(test_low_ada_x)\n",
        "test_low_ada_y=pd.DataFrame(test_low_ada_y)\n",
        "test_high_ada_x=pd.DataFrame(test_high_ada_x)\n",
        "test_high_ada_y=pd.DataFrame(test_high_ada_y)\n",
        "X_train=pd.DataFrame(X_train)\n",
        "Y_train=pd.DataFrame(Y_train)"
      ],
      "metadata": {
        "id": "s8S1SFogmHht"
      },
      "execution_count": null,
      "outputs": []
    },
    {
      "cell_type": "code",
      "source": [
        "from sklearn.linear_model import Lasso\n",
        "from sklearn.ensemble import AdaBoostClassifier\n",
        "from sklearn.metrics import accuracy_score\n",
        "from sklearn.model_selection import GridSearchCV\n",
        "from sklearn.metrics import mean_squared_error, make_scorer, r2_score\n",
        "\n",
        "abreg = AdaBoostRegressor()\n",
        "params = {\n",
        " 'n_estimators': [50, 100],\n",
        " 'learning_rate' : [0.01, 0.05, 0.1, 0.5],\n",
        " 'loss' : ['linear', 'square', 'exponential']\n",
        " }\n",
        "\n",
        "score = make_scorer(mean_squared_error)\n",
        "\n",
        "gridsearch = GridSearchCV(abreg, params, cv=5, return_train_score=True)\n",
        "gridsearch.fit(X_train, Y_train)\n",
        "print(gridsearch.best_params_)\n",
        "\n",
        "best_estim=gridsearch.best_estimator_\n",
        "print(best_estim)"
      ],
      "metadata": {
        "colab": {
          "base_uri": "https://localhost:8080/"
        },
        "id": "R_UVvFB409xZ",
        "outputId": "da414026-d11f-4177-c8e8-711c66b65a86"
      },
      "execution_count": null,
      "outputs": [
        {
          "output_type": "stream",
          "name": "stdout",
          "text": [
            "{'learning_rate': 0.1, 'loss': 'linear', 'n_estimators': 100}\n",
            "AdaBoostRegressor(learning_rate=0.1, n_estimators=100)\n"
          ]
        }
      ]
    },
    {
      "cell_type": "code",
      "source": [
        "print(score)"
      ],
      "metadata": {
        "colab": {
          "base_uri": "https://localhost:8080/"
        },
        "id": "_-_Bq7hyP5qM",
        "outputId": "c39b82b1-705f-4ac3-cd01-a7b7815cc651"
      },
      "execution_count": null,
      "outputs": [
        {
          "output_type": "stream",
          "name": "stdout",
          "text": [
            "make_scorer(mean_squared_error)\n"
          ]
        }
      ]
    },
    {
      "cell_type": "code",
      "source": [
        "from sklearn.model_selection import cross_val_score\n",
        "from sklearn.model_selection import RepeatedKFold\n",
        "\n",
        "# evaluate adaboost ensemble for regression\n",
        "from numpy import mean\n",
        "from numpy import std\n",
        "cv = RepeatedKFold(n_splits=5, n_repeats=3, random_state=1)\n",
        "n_scores = cross_val_score(best_estim, X_train, Y_train, scoring=score, cv=cv, n_jobs=-1, error_score='raise')\n",
        "# report performance\n",
        "print(n_scores)\n",
        "print('MAE: %.3f (%.3f)' % (mean(n_scores), std(n_scores)))"
      ],
      "metadata": {
        "colab": {
          "base_uri": "https://localhost:8080/"
        },
        "id": "oSyMxWWzJ-xM",
        "outputId": "bd37802c-0e6a-4c2c-bd89-cb8659151052"
      },
      "execution_count": null,
      "outputs": [
        {
          "output_type": "stream",
          "name": "stdout",
          "text": [
            "[ 5.17197503  3.92705173  4.20463482  6.501634   10.20109568  3.9983049\n",
            "  7.43351658  3.95496975  4.67516125  8.89373189  5.21814365  3.47967515\n",
            "  5.65753817  4.27087224  8.93336249]\n",
            "MAE: 5.768 (2.071)\n"
          ]
        }
      ]
    },
    {
      "cell_type": "code",
      "source": [
        "print(gridsearch.best_score_)\n"
      ],
      "metadata": {
        "colab": {
          "base_uri": "https://localhost:8080/"
        },
        "id": "eo8e9G5IQhNk",
        "outputId": "e2b1160c-0d6e-4cf6-b2cc-27409e1afbf3"
      },
      "execution_count": null,
      "outputs": [
        {
          "output_type": "stream",
          "name": "stdout",
          "text": [
            "0.5629207944573205\n"
          ]
        }
      ]
    },
    {
      "cell_type": "code",
      "source": [
        "print(n_scores)\n"
      ],
      "metadata": {
        "colab": {
          "base_uri": "https://localhost:8080/"
        },
        "id": "ujO7xubSMsHJ",
        "outputId": "7e14b29e-4dee-49ef-f156-9c1ae87b7421"
      },
      "execution_count": null,
      "outputs": [
        {
          "output_type": "stream",
          "name": "stdout",
          "text": [
            "[ 5.17197503  3.92705173  4.20463482  6.501634   10.20109568  3.9983049\n",
            "  7.43351658  3.95496975  4.67516125  8.89373189  5.21814365  3.47967515\n",
            "  5.65753817  4.27087224  8.93336249]\n"
          ]
        }
      ]
    },
    {
      "cell_type": "code",
      "source": [
        "import math\n",
        "from sklearn.metrics import accuracy_score\n",
        "\n",
        "\n",
        "\n",
        "best_estim.fit(X_train,Y_train)\n",
        "ytr_pred=best_estim.predict(X_train)\n",
        "mse = mean_squared_error(ytr_pred,Y_train)\n",
        "r2 = r2_score(ytr_pred,Y_train)\n",
        "print(\"MSE: %.2f\" % mse)\n",
        "print(\"R2: %.2f\" % r2)\n",
        "\n",
        "ypred=best_estim.predict(test_low_ada_x)\n",
        "mse1 = mean_squared_error(test_low_ada_y, ypred)\n",
        "r21 = r2_score(ypred, test_low_ada_y)\n",
        "rmse1=math.sqrt(mean_squared_error(ypred, test_low_ada_y))\n",
        "print(\"MSE: %.2f\" % mse1)\n",
        "print(\"R2: %.2f\" % r21)\n",
        "print(\"RMSE: %.2f\" %rmse1)\n",
        "print(r21)\n"
      ],
      "metadata": {
        "colab": {
          "base_uri": "https://localhost:8080/",
          "height": 474
        },
        "id": "oOJFvcqcmdju",
        "outputId": "69aa1b54-8cb6-428d-e8ff-5c5e6ca6f971"
      },
      "execution_count": null,
      "outputs": [
        {
          "output_type": "stream",
          "name": "stdout",
          "text": [
            "MSE: 3.67\n",
            "R2: 0.48\n",
            "MSE: 37.81\n",
            "R2: -0.53\n",
            "RMSE: 6.15\n",
            "-0.5277827437860241\n"
          ]
        },
        {
          "output_type": "error",
          "ename": "ValueError",
          "evalue": "ignored",
          "traceback": [
            "\u001b[0;31m---------------------------------------------------------------------------\u001b[0m",
            "\u001b[0;31mValueError\u001b[0m                                Traceback (most recent call last)",
            "\u001b[0;32m<ipython-input-114-f3d8e594f9ad>\u001b[0m in \u001b[0;36m<module>\u001b[0;34m()\u001b[0m\n\u001b[1;32m     17\u001b[0m \u001b[0mprint\u001b[0m\u001b[0;34m(\u001b[0m\u001b[0;34m\"RMSE: %.2f\"\u001b[0m \u001b[0;34m%\u001b[0m\u001b[0mrmse1\u001b[0m\u001b[0;34m)\u001b[0m\u001b[0;34m\u001b[0m\u001b[0;34m\u001b[0m\u001b[0m\n\u001b[1;32m     18\u001b[0m \u001b[0mprint\u001b[0m\u001b[0;34m(\u001b[0m\u001b[0mr21\u001b[0m\u001b[0;34m)\u001b[0m\u001b[0;34m\u001b[0m\u001b[0;34m\u001b[0m\u001b[0m\n\u001b[0;32m---> 19\u001b[0;31m \u001b[0mprint\u001b[0m\u001b[0;34m(\u001b[0m\u001b[0;34m'AdaBoost 정확도 : {:.4f}'\u001b[0m\u001b[0;34m.\u001b[0m\u001b[0mformat\u001b[0m\u001b[0;34m(\u001b[0m\u001b[0maccuracy_score\u001b[0m\u001b[0;34m(\u001b[0m\u001b[0mtest_low_ada_y\u001b[0m\u001b[0;34m,\u001b[0m \u001b[0mypred\u001b[0m\u001b[0;34m)\u001b[0m\u001b[0;34m)\u001b[0m\u001b[0;34m)\u001b[0m\u001b[0;34m\u001b[0m\u001b[0;34m\u001b[0m\u001b[0m\n\u001b[0m",
            "\u001b[0;32m/usr/local/lib/python3.7/dist-packages/sklearn/metrics/_classification.py\u001b[0m in \u001b[0;36maccuracy_score\u001b[0;34m(y_true, y_pred, normalize, sample_weight)\u001b[0m\n\u001b[1;32m    209\u001b[0m \u001b[0;34m\u001b[0m\u001b[0m\n\u001b[1;32m    210\u001b[0m     \u001b[0;31m# Compute accuracy for each possible representation\u001b[0m\u001b[0;34m\u001b[0m\u001b[0;34m\u001b[0m\u001b[0;34m\u001b[0m\u001b[0m\n\u001b[0;32m--> 211\u001b[0;31m     \u001b[0my_type\u001b[0m\u001b[0;34m,\u001b[0m \u001b[0my_true\u001b[0m\u001b[0;34m,\u001b[0m \u001b[0my_pred\u001b[0m \u001b[0;34m=\u001b[0m \u001b[0m_check_targets\u001b[0m\u001b[0;34m(\u001b[0m\u001b[0my_true\u001b[0m\u001b[0;34m,\u001b[0m \u001b[0my_pred\u001b[0m\u001b[0;34m)\u001b[0m\u001b[0;34m\u001b[0m\u001b[0;34m\u001b[0m\u001b[0m\n\u001b[0m\u001b[1;32m    212\u001b[0m     \u001b[0mcheck_consistent_length\u001b[0m\u001b[0;34m(\u001b[0m\u001b[0my_true\u001b[0m\u001b[0;34m,\u001b[0m \u001b[0my_pred\u001b[0m\u001b[0;34m,\u001b[0m \u001b[0msample_weight\u001b[0m\u001b[0;34m)\u001b[0m\u001b[0;34m\u001b[0m\u001b[0;34m\u001b[0m\u001b[0m\n\u001b[1;32m    213\u001b[0m     \u001b[0;32mif\u001b[0m \u001b[0my_type\u001b[0m\u001b[0;34m.\u001b[0m\u001b[0mstartswith\u001b[0m\u001b[0;34m(\u001b[0m\u001b[0;34m\"multilabel\"\u001b[0m\u001b[0;34m)\u001b[0m\u001b[0;34m:\u001b[0m\u001b[0;34m\u001b[0m\u001b[0;34m\u001b[0m\u001b[0m\n",
            "\u001b[0;32m/usr/local/lib/python3.7/dist-packages/sklearn/metrics/_classification.py\u001b[0m in \u001b[0;36m_check_targets\u001b[0;34m(y_true, y_pred)\u001b[0m\n\u001b[1;32m    102\u001b[0m     \u001b[0;31m# No metrics support \"multiclass-multioutput\" format\u001b[0m\u001b[0;34m\u001b[0m\u001b[0;34m\u001b[0m\u001b[0;34m\u001b[0m\u001b[0m\n\u001b[1;32m    103\u001b[0m     \u001b[0;32mif\u001b[0m \u001b[0my_type\u001b[0m \u001b[0;32mnot\u001b[0m \u001b[0;32min\u001b[0m \u001b[0;34m[\u001b[0m\u001b[0;34m\"binary\"\u001b[0m\u001b[0;34m,\u001b[0m \u001b[0;34m\"multiclass\"\u001b[0m\u001b[0;34m,\u001b[0m \u001b[0;34m\"multilabel-indicator\"\u001b[0m\u001b[0;34m]\u001b[0m\u001b[0;34m:\u001b[0m\u001b[0;34m\u001b[0m\u001b[0;34m\u001b[0m\u001b[0m\n\u001b[0;32m--> 104\u001b[0;31m         \u001b[0;32mraise\u001b[0m \u001b[0mValueError\u001b[0m\u001b[0;34m(\u001b[0m\u001b[0;34m\"{0} is not supported\"\u001b[0m\u001b[0;34m.\u001b[0m\u001b[0mformat\u001b[0m\u001b[0;34m(\u001b[0m\u001b[0my_type\u001b[0m\u001b[0;34m)\u001b[0m\u001b[0;34m)\u001b[0m\u001b[0;34m\u001b[0m\u001b[0;34m\u001b[0m\u001b[0m\n\u001b[0m\u001b[1;32m    105\u001b[0m \u001b[0;34m\u001b[0m\u001b[0m\n\u001b[1;32m    106\u001b[0m     \u001b[0;32mif\u001b[0m \u001b[0my_type\u001b[0m \u001b[0;32min\u001b[0m \u001b[0;34m[\u001b[0m\u001b[0;34m\"binary\"\u001b[0m\u001b[0;34m,\u001b[0m \u001b[0;34m\"multiclass\"\u001b[0m\u001b[0;34m]\u001b[0m\u001b[0;34m:\u001b[0m\u001b[0;34m\u001b[0m\u001b[0;34m\u001b[0m\u001b[0m\n",
            "\u001b[0;31mValueError\u001b[0m: continuous is not supported"
          ]
        }
      ]
    },
    {
      "cell_type": "code",
      "source": [
        "# visualizing in a plot\n",
        "x_ax = range(len(test_low_ada_y[:]))\n",
        "plt.figure(figsize=(12, 6))\n",
        "plt.plot(x_ax, test_low_ada_y[:], label=\"original\")\n",
        "plt.plot(x_ax, ypred[:], label=\"predicted\")\n",
        "plt.title(\"Adaboost Regressor\")\n",
        "plt.xlabel('X')\n",
        "plt.ylabel('Efficiency')\n",
        "plt.legend(loc='best',fancybox=True, shadow=True)\n",
        "plt.grid(True)\n",
        "plt.show()  "
      ],
      "metadata": {
        "colab": {
          "base_uri": "https://localhost:8080/",
          "height": 404
        },
        "id": "LmZ1XsZqoyd7",
        "outputId": "b98b841d-b878-4467-fbb7-05b773743940"
      },
      "execution_count": null,
      "outputs": [
        {
          "output_type": "display_data",
          "data": {
            "text/plain": [
              "<Figure size 864x432 with 1 Axes>"
            ],
            "image/png": "[encoded data removed]"
          },
          "metadata": {
            "needs_background": "light"
          }
        }
      ]
    },
    {
      "cell_type": "code",
      "source": [
        "import math\n",
        "best_estim.fit(X_train,Y_train)\n",
        "\n",
        "ytr_pred=best_estim.predict(X_train)\n",
        "mse = mean_squared_error(ytr_pred,Y_train)\n",
        "r2 = r2_score(ytr_pred,Y_train)\n",
        "print(\"MSE: %.2f\" % mse)\n",
        "print(\"R2: %.2f\" % r2)\n",
        "\n",
        "ypred=best_estim.predict(test_high_ada_x)\n",
        "mse = mean_squared_error(test_high_ada_y, ypred)\n",
        "r2 = r2_score(ypred,test_high_ada_y)\n",
        "rmse=math.sqrt(mean_squared_error(ypred, test_high_ada_y))\n",
        "print(\"MSE: %.2f\" % mse)\n",
        "print(\"R2: %.2f\" % r2)\n",
        "print(\"RMSE: %.2f\" %rmse)\n"
      ],
      "metadata": {
        "colab": {
          "base_uri": "https://localhost:8080/"
        },
        "id": "osbK_NT6pCMc",
        "outputId": "688d1fb0-1595-4fe3-bfc8-2bf21e79c502"
      },
      "execution_count": null,
      "outputs": [
        {
          "output_type": "stream",
          "name": "stdout",
          "text": [
            "MSE: 3.56\n",
            "R2: 0.52\n",
            "MSE: 2.63\n",
            "R2: -0.65\n",
            "RMSE: 1.62\n"
          ]
        }
      ]
    },
    {
      "cell_type": "code",
      "source": [
        "# visualizing in a plot\n",
        "x_ax = range(len(test_high_ada_y[:]))\n",
        "plt.figure(figsize=(12, 6))\n",
        "plt.plot(x_ax, test_high_ada_y[:], label=\"original\")\n",
        "plt.plot(x_ax, ypred[:], label=\"predicted\")\n",
        "plt.title(\"Adaboost Regressor\")\n",
        "plt.xlabel('X')\n",
        "plt.ylabel('Efficiency')\n",
        "plt.legend(loc='best',fancybox=True, shadow=True)\n",
        "plt.grid(True)\n",
        "plt.show()  "
      ],
      "metadata": {
        "colab": {
          "base_uri": "https://localhost:8080/",
          "height": 404
        },
        "id": "MEiZ4OvypDF6",
        "outputId": "c58b48ec-f831-4002-f158-7d21393b8581"
      },
      "execution_count": null,
      "outputs": [
        {
          "output_type": "display_data",
          "data": {
            "text/plain": [
              "<Figure size 864x432 with 1 Axes>"
            ],
            "image/png": "[encoded data removed]"
          },
          "metadata": {
            "needs_background": "light"
          }
        }
      ]
    },
    {
      "cell_type": "markdown",
      "source": [
        "# smogn\n"
      ],
      "metadata": {
        "id": "oFWO6y3RgD_A"
      }
    },
    {
      "cell_type": "code",
      "source": [
        "pip install smogn\n"
      ],
      "metadata": {
        "colab": {
          "base_uri": "https://localhost:8080/"
        },
        "id": "TI_3Shem0nex",
        "outputId": "18053d23-a9eb-41ee-8d82-34b12a396b81"
      },
      "execution_count": null,
      "outputs": [
        {
          "output_type": "stream",
          "name": "stdout",
          "text": [
            "Looking in indexes: https://pypi.org/simple, https://us-python.pkg.dev/colab-wheels/public/simple/\n",
            "Requirement already satisfied: smogn in /usr/local/lib/python3.7/dist-packages (0.1.2)\n",
            "Requirement already satisfied: pandas in /usr/local/lib/python3.7/dist-packages (from smogn) (1.3.5)\n",
            "Requirement already satisfied: numpy in /usr/local/lib/python3.7/dist-packages (from smogn) (1.21.6)\n",
            "Requirement already satisfied: tqdm in /usr/local/lib/python3.7/dist-packages (from smogn) (4.64.0)\n",
            "Requirement already satisfied: pytz>=2017.3 in /usr/local/lib/python3.7/dist-packages (from pandas->smogn) (2022.1)\n",
            "Requirement already satisfied: python-dateutil>=2.7.3 in /usr/local/lib/python3.7/dist-packages (from pandas->smogn) (2.8.2)\n",
            "Requirement already satisfied: six>=1.5 in /usr/local/lib/python3.7/dist-packages (from python-dateutil>=2.7.3->pandas->smogn) (1.15.0)\n"
          ]
        }
      ]
    },
    {
      "cell_type": "code",
      "source": [
        "train_Y=train['처리효율'].to_numpy()"
      ],
      "metadata": {
        "id": "MPYANx4k1Pgp"
      },
      "execution_count": null,
      "outputs": []
    },
    {
      "cell_type": "code",
      "source": [
        "smo.to_csv('smogn.csv',encoding='euc-kr')"
      ],
      "metadata": {
        "id": "ixEnekhy7umS"
      },
      "execution_count": null,
      "outputs": []
    },
    {
      "cell_type": "code",
      "source": [
        "Y_train"
      ],
      "metadata": {
        "colab": {
          "base_uri": "https://localhost:8080/"
        },
        "id": "GqZpEBOK14FJ",
        "outputId": "624726c3-181d-44c3-deec-7d859394c3bb"
      },
      "execution_count": null,
      "outputs": [
        {
          "output_type": "execute_result",
          "data": {
            "text/plain": [
              "array([99. , 97. , 95.6, ..., 99.4, 98.5, 94.6])"
            ]
          },
          "metadata": {},
          "execution_count": 22
        }
      ]
    },
    {
      "cell_type": "code",
      "source": [
        "len(train)"
      ],
      "metadata": {
        "colab": {
          "base_uri": "https://localhost:8080/"
        },
        "id": "t7WaP4MoDr0J",
        "outputId": "678dbb9a-b4de-468c-9acb-d87ba9cc307d"
      },
      "execution_count": null,
      "outputs": [
        {
          "output_type": "execute_result",
          "data": {
            "text/plain": [
              "3408"
            ]
          },
          "metadata": {},
          "execution_count": 46
        }
      ]
    },
    {
      "cell_type": "code",
      "source": [
        "import smogn\n",
        "smo = smogn.smoter(\n",
        "\n",
        "    data = train, \n",
        "    y ='처리효율',samp_method = 'extreme'\n",
        ")"
      ],
      "metadata": {
        "colab": {
          "base_uri": "https://localhost:8080/"
        },
        "id": "Ta-yMJ8oyFLr",
        "outputId": "4fbde71d-e572-4648-d958-ca984acb31b5"
      },
      "execution_count": null,
      "outputs": [
        {
          "output_type": "stream",
          "name": "stderr",
          "text": [
            "dist_matrix: 100%|##########| 498/498 [04:39<00:00,  1.78it/s]\n",
            "synth_matrix: 100%|##########| 498/498 [00:11<00:00, 44.92it/s]\n",
            "r_index: 100%|##########| 398/398 [00:02<00:00, 176.14it/s]\n"
          ]
        }
      ]
    },
    {
      "cell_type": "code",
      "source": [
        "smo"
      ],
      "metadata": {
        "colab": {
          "base_uri": "https://localhost:8080/",
          "height": 502
        },
        "id": "7D-EC_Mg4eoF",
        "outputId": "aac8c179-823e-433a-ec13-1d720ac30d12"
      },
      "execution_count": null,
      "outputs": [
        {
          "output_type": "execute_result",
          "data": {
            "text/plain": [
              "      시설용량  생물학적   고도       유입하수량  생물학적 유입하수량    고도 유입하수량         방류량  \\\n",
              "0       46    46    0   27.500000   27.500000    0.000000   27.500000   \n",
              "1       35    35    0   21.500000   21.500000    0.000000   21.500000   \n",
              "2       40     0   40   35.900000    0.000000   35.900000   36.700000   \n",
              "3       36     0   36   30.100000    0.000000   30.100000   28.400000   \n",
              "4       45     0   45   15.600000    0.000000   15.600000   15.600000   \n",
              "...    ...   ...  ...         ...         ...         ...         ...   \n",
              "2385    30     0   30   27.948904    0.000000   27.948904   27.948904   \n",
              "2386   274     0  274  195.250777    0.000000  195.250777  194.929308   \n",
              "2387    87     0   87   41.784180    0.000000   41.784180   41.784180   \n",
              "2388    44     0   44   43.911212    0.000000   43.911212   43.869036   \n",
              "2389    48     0   48   33.335212   18.261311   15.073901   33.335212   \n",
              "\n",
              "       생물학적 방류량      고도 방류량      유입 COD  ...  수계_0  수계_1  수계_2  준공일_day  \\\n",
              "0     27.500000    0.000000   20.400000  ...     1     0     0     8073   \n",
              "1     21.500000    0.000000   41.600000  ...     1     0     0     8053   \n",
              "2      0.000000   36.700000   72.400000  ...     1     0     0     5482   \n",
              "3      0.000000   28.400000   74.000000  ...     1     0     1     5946   \n",
              "4      0.000000   15.600000   41.800000  ...     0     1     0     5481   \n",
              "...         ...         ...         ...  ...   ...   ...   ...      ...   \n",
              "2385   0.000000   27.948904   90.305735  ...     0     0     0     8562   \n",
              "2386   0.000000  194.929308  127.651905  ...     0     1     0      622   \n",
              "2387   0.000000   41.784180  108.227847  ...     0     1     0     5866   \n",
              "2388   0.000000   43.869036   18.313310  ...     0     0     0     3382   \n",
              "2389  18.261311   15.073901   85.485235  ...     0     0     0     7942   \n",
              "\n",
              "      가동개시일_day  방류수소독방법_염소  방류수소독방법_자외선  방류수소독방법_오존  방류수소독방법_기타       처리효율  \n",
              "0          8073           1            1           1           1  87.400000  \n",
              "1          8053           1            1           1           1  90.000000  \n",
              "2          5482           1            1           1           1  89.200000  \n",
              "3          5946           1            1           1           1  87.900000  \n",
              "4          5481           1            1           1           1  83.800000  \n",
              "...         ...         ...          ...         ...         ...        ...  \n",
              "2385       8562           1            1           1           1  95.782359  \n",
              "2386        569           1            1           1           1  98.399593  \n",
              "2387       5866           1            1           1           1  92.625699  \n",
              "2388       3380           1            1           1           1  86.452759  \n",
              "2389       7942           1            1           1           1  94.999053  \n",
              "\n",
              "[5202 rows x 56 columns]"
            ],
            "text/html": [
              "\n",
              "  <div id=\"df-79d50a45-42dc-462a-ad7b-d511bec923e5\">\n",
              "    <div class=\"colab-df-container\">\n",
              "      <div>\n",
              "<style scoped>\n",
              "    .dataframe tbody tr th:only-of-type {\n",
              "        vertical-align: middle;\n",
              "    }\n",
              "\n",
              "    .dataframe tbody tr th {\n",
              "        vertical-align: top;\n",
              "    }\n",
              "\n",
              "    .dataframe thead th {\n",
              "        text-align: right;\n",
              "    }\n",
              "</style>\n",
              "<table border=\"1\" class=\"dataframe\">\n",
              "  <thead>\n",
              "    <tr style=\"text-align: right;\">\n",
              "      <th></th>\n",
              "      <th>시설용량</th>\n",
              "      <th>생물학적</th>\n",
              "      <th>고도</th>\n",
              "      <th>유입하수량</th>\n",
              "      <th>생물학적 유입하수량</th>\n",
              "      <th>고도 유입하수량</th>\n",
              "      <th>방류량</th>\n",
              "      <th>생물학적 방류량</th>\n",
              "      <th>고도 방류량</th>\n",
              "      <th>유입 COD</th>\n",
              "      <th>...</th>\n",
              "      <th>수계_0</th>\n",
              "      <th>수계_1</th>\n",
              "      <th>수계_2</th>\n",
              "      <th>준공일_day</th>\n",
              "      <th>가동개시일_day</th>\n",
              "      <th>방류수소독방법_염소</th>\n",
              "      <th>방류수소독방법_자외선</th>\n",
              "      <th>방류수소독방법_오존</th>\n",
              "      <th>방류수소독방법_기타</th>\n",
              "      <th>처리효율</th>\n",
              "    </tr>\n",
              "  </thead>\n",
              "  <tbody>\n",
              "    <tr>\n",
              "      <th>0</th>\n",
              "      <td>46</td>\n",
              "      <td>46</td>\n",
              "      <td>0</td>\n",
              "      <td>27.500000</td>\n",
              "      <td>27.500000</td>\n",
              "      <td>0.000000</td>\n",
              "      <td>27.500000</td>\n",
              "      <td>27.500000</td>\n",
              "      <td>0.000000</td>\n",
              "      <td>20.400000</td>\n",
              "      <td>...</td>\n",
              "      <td>1</td>\n",
              "      <td>0</td>\n",
              "      <td>0</td>\n",
              "      <td>8073</td>\n",
              "      <td>8073</td>\n",
              "      <td>1</td>\n",
              "      <td>1</td>\n",
              "      <td>1</td>\n",
              "      <td>1</td>\n",
              "      <td>87.400000</td>\n",
              "    </tr>\n",
              "    <tr>\n",
              "      <th>1</th>\n",
              "      <td>35</td>\n",
              "      <td>35</td>\n",
              "      <td>0</td>\n",
              "      <td>21.500000</td>\n",
              "      <td>21.500000</td>\n",
              "      <td>0.000000</td>\n",
              "      <td>21.500000</td>\n",
              "      <td>21.500000</td>\n",
              "      <td>0.000000</td>\n",
              "      <td>41.600000</td>\n",
              "      <td>...</td>\n",
              "      <td>1</td>\n",
              "      <td>0</td>\n",
              "      <td>0</td>\n",
              "      <td>8053</td>\n",
              "      <td>8053</td>\n",
              "      <td>1</td>\n",
              "      <td>1</td>\n",
              "      <td>1</td>\n",
              "      <td>1</td>\n",
              "      <td>90.000000</td>\n",
              "    </tr>\n",
              "    <tr>\n",
              "      <th>2</th>\n",
              "      <td>40</td>\n",
              "      <td>0</td>\n",
              "      <td>40</td>\n",
              "      <td>35.900000</td>\n",
              "      <td>0.000000</td>\n",
              "      <td>35.900000</td>\n",
              "      <td>36.700000</td>\n",
              "      <td>0.000000</td>\n",
              "      <td>36.700000</td>\n",
              "      <td>72.400000</td>\n",
              "      <td>...</td>\n",
              "      <td>1</td>\n",
              "      <td>0</td>\n",
              "      <td>0</td>\n",
              "      <td>5482</td>\n",
              "      <td>5482</td>\n",
              "      <td>1</td>\n",
              "      <td>1</td>\n",
              "      <td>1</td>\n",
              "      <td>1</td>\n",
              "      <td>89.200000</td>\n",
              "    </tr>\n",
              "    <tr>\n",
              "      <th>3</th>\n",
              "      <td>36</td>\n",
              "      <td>0</td>\n",
              "      <td>36</td>\n",
              "      <td>30.100000</td>\n",
              "      <td>0.000000</td>\n",
              "      <td>30.100000</td>\n",
              "      <td>28.400000</td>\n",
              "      <td>0.000000</td>\n",
              "      <td>28.400000</td>\n",
              "      <td>74.000000</td>\n",
              "      <td>...</td>\n",
              "      <td>1</td>\n",
              "      <td>0</td>\n",
              "      <td>1</td>\n",
              "      <td>5946</td>\n",
              "      <td>5946</td>\n",
              "      <td>1</td>\n",
              "      <td>1</td>\n",
              "      <td>1</td>\n",
              "      <td>1</td>\n",
              "      <td>87.900000</td>\n",
              "    </tr>\n",
              "    <tr>\n",
              "      <th>4</th>\n",
              "      <td>45</td>\n",
              "      <td>0</td>\n",
              "      <td>45</td>\n",
              "      <td>15.600000</td>\n",
              "      <td>0.000000</td>\n",
              "      <td>15.600000</td>\n",
              "      <td>15.600000</td>\n",
              "      <td>0.000000</td>\n",
              "      <td>15.600000</td>\n",
              "      <td>41.800000</td>\n",
              "      <td>...</td>\n",
              "      <td>0</td>\n",
              "      <td>1</td>\n",
              "      <td>0</td>\n",
              "      <td>5481</td>\n",
              "      <td>5481</td>\n",
              "      <td>1</td>\n",
              "      <td>1</td>\n",
              "      <td>1</td>\n",
              "      <td>1</td>\n",
              "      <td>83.800000</td>\n",
              "    </tr>\n",
              "    <tr>\n",
              "      <th>...</th>\n",
              "      <td>...</td>\n",
              "      <td>...</td>\n",
              "      <td>...</td>\n",
              "      <td>...</td>\n",
              "      <td>...</td>\n",
              "      <td>...</td>\n",
              "      <td>...</td>\n",
              "      <td>...</td>\n",
              "      <td>...</td>\n",
              "      <td>...</td>\n",
              "      <td>...</td>\n",
              "      <td>...</td>\n",
              "      <td>...</td>\n",
              "      <td>...</td>\n",
              "      <td>...</td>\n",
              "      <td>...</td>\n",
              "      <td>...</td>\n",
              "      <td>...</td>\n",
              "      <td>...</td>\n",
              "      <td>...</td>\n",
              "      <td>...</td>\n",
              "    </tr>\n",
              "    <tr>\n",
              "      <th>2385</th>\n",
              "      <td>30</td>\n",
              "      <td>0</td>\n",
              "      <td>30</td>\n",
              "      <td>27.948904</td>\n",
              "      <td>0.000000</td>\n",
              "      <td>27.948904</td>\n",
              "      <td>27.948904</td>\n",
              "      <td>0.000000</td>\n",
              "      <td>27.948904</td>\n",
              "      <td>90.305735</td>\n",
              "      <td>...</td>\n",
              "      <td>0</td>\n",
              "      <td>0</td>\n",
              "      <td>0</td>\n",
              "      <td>8562</td>\n",
              "      <td>8562</td>\n",
              "      <td>1</td>\n",
              "      <td>1</td>\n",
              "      <td>1</td>\n",
              "      <td>1</td>\n",
              "      <td>95.782359</td>\n",
              "    </tr>\n",
              "    <tr>\n",
              "      <th>2386</th>\n",
              "      <td>274</td>\n",
              "      <td>0</td>\n",
              "      <td>274</td>\n",
              "      <td>195.250777</td>\n",
              "      <td>0.000000</td>\n",
              "      <td>195.250777</td>\n",
              "      <td>194.929308</td>\n",
              "      <td>0.000000</td>\n",
              "      <td>194.929308</td>\n",
              "      <td>127.651905</td>\n",
              "      <td>...</td>\n",
              "      <td>0</td>\n",
              "      <td>1</td>\n",
              "      <td>0</td>\n",
              "      <td>622</td>\n",
              "      <td>569</td>\n",
              "      <td>1</td>\n",
              "      <td>1</td>\n",
              "      <td>1</td>\n",
              "      <td>1</td>\n",
              "      <td>98.399593</td>\n",
              "    </tr>\n",
              "    <tr>\n",
              "      <th>2387</th>\n",
              "      <td>87</td>\n",
              "      <td>0</td>\n",
              "      <td>87</td>\n",
              "      <td>41.784180</td>\n",
              "      <td>0.000000</td>\n",
              "      <td>41.784180</td>\n",
              "      <td>41.784180</td>\n",
              "      <td>0.000000</td>\n",
              "      <td>41.784180</td>\n",
              "      <td>108.227847</td>\n",
              "      <td>...</td>\n",
              "      <td>0</td>\n",
              "      <td>1</td>\n",
              "      <td>0</td>\n",
              "      <td>5866</td>\n",
              "      <td>5866</td>\n",
              "      <td>1</td>\n",
              "      <td>1</td>\n",
              "      <td>1</td>\n",
              "      <td>1</td>\n",
              "      <td>92.625699</td>\n",
              "    </tr>\n",
              "    <tr>\n",
              "      <th>2388</th>\n",
              "      <td>44</td>\n",
              "      <td>0</td>\n",
              "      <td>44</td>\n",
              "      <td>43.911212</td>\n",
              "      <td>0.000000</td>\n",
              "      <td>43.911212</td>\n",
              "      <td>43.869036</td>\n",
              "      <td>0.000000</td>\n",
              "      <td>43.869036</td>\n",
              "      <td>18.313310</td>\n",
              "      <td>...</td>\n",
              "      <td>0</td>\n",
              "      <td>0</td>\n",
              "      <td>0</td>\n",
              "      <td>3382</td>\n",
              "      <td>3380</td>\n",
              "      <td>1</td>\n",
              "      <td>1</td>\n",
              "      <td>1</td>\n",
              "      <td>1</td>\n",
              "      <td>86.452759</td>\n",
              "    </tr>\n",
              "    <tr>\n",
              "      <th>2389</th>\n",
              "      <td>48</td>\n",
              "      <td>0</td>\n",
              "      <td>48</td>\n",
              "      <td>33.335212</td>\n",
              "      <td>18.261311</td>\n",
              "      <td>15.073901</td>\n",
              "      <td>33.335212</td>\n",
              "      <td>18.261311</td>\n",
              "      <td>15.073901</td>\n",
              "      <td>85.485235</td>\n",
              "      <td>...</td>\n",
              "      <td>0</td>\n",
              "      <td>0</td>\n",
              "      <td>0</td>\n",
              "      <td>7942</td>\n",
              "      <td>7942</td>\n",
              "      <td>1</td>\n",
              "      <td>1</td>\n",
              "      <td>1</td>\n",
              "      <td>1</td>\n",
              "      <td>94.999053</td>\n",
              "    </tr>\n",
              "  </tbody>\n",
              "</table>\n",
              "<p>5202 rows × 56 columns</p>\n",
              "</div>\n",
              "      <button class=\"colab-df-convert\" onclick=\"convertToInteractive('df-79d50a45-42dc-462a-ad7b-d511bec923e5')\"\n",
              "              title=\"Convert this dataframe to an interactive table.\"\n",
              "              style=\"display:none;\">\n",
              "        \n",
              "  <svg xmlns=\"http://www.w3.org/2000/svg\" height=\"24px\"viewBox=\"0 0 24 24\"\n",
              "       width=\"24px\">\n",
              "    <path d=\"M0 0h24v24H0V0z\" fill=\"none\"/>\n",
              "    <path d=\"M18.56 5.44l.94 2.06.94-2.06 2.06-.94-2.06-.94-.94-2.06-.94 2.06-2.06.94zm-11 1L8.5 8.5l.94-2.06 2.06-.94-2.06-.94L8.5 2.5l-.94 2.06-2.06.94zm10 10l.94 2.06.94-2.06 2.06-.94-2.06-.94-.94-2.06-.94 2.06-2.06.94z\"/><path d=\"M17.41 7.96l-1.37-1.37c-.4-.4-.92-.59-1.43-.59-.52 0-1.04.2-1.43.59L10.3 9.45l-7.72 7.72c-.78.78-.78 2.05 0 2.83L4 21.41c.39.39.9.59 1.41.59.51 0 1.02-.2 1.41-.59l7.78-7.78 2.81-2.81c.8-.78.8-2.07 0-2.86zM5.41 20L4 18.59l7.72-7.72 1.47 1.35L5.41 20z\"/>\n",
              "  </svg>\n",
              "      </button>\n",
              "      \n",
              "  <style>\n",
              "    .colab-df-container {\n",
              "      display:flex;\n",
              "      flex-wrap:wrap;\n",
              "      gap: 12px;\n",
              "    }\n",
              "\n",
              "    .colab-df-convert {\n",
              "      background-color: #E8F0FE;\n",
              "      border: none;\n",
              "      border-radius: 50%;\n",
              "      cursor: pointer;\n",
              "      display: none;\n",
              "      fill: #1967D2;\n",
              "      height: 32px;\n",
              "      padding: 0 0 0 0;\n",
              "      width: 32px;\n",
              "    }\n",
              "\n",
              "    .colab-df-convert:hover {\n",
              "      background-color: #E2EBFA;\n",
              "      box-shadow: 0px 1px 2px rgba(60, 64, 67, 0.3), 0px 1px 3px 1px rgba(60, 64, 67, 0.15);\n",
              "      fill: #174EA6;\n",
              "    }\n",
              "\n",
              "    [theme=dark] .colab-df-convert {\n",
              "      background-color: #3B4455;\n",
              "      fill: #D2E3FC;\n",
              "    }\n",
              "\n",
              "    [theme=dark] .colab-df-convert:hover {\n",
              "      background-color: #434B5C;\n",
              "      box-shadow: 0px 1px 3px 1px rgba(0, 0, 0, 0.15);\n",
              "      filter: drop-shadow(0px 1px 2px rgba(0, 0, 0, 0.3));\n",
              "      fill: #FFFFFF;\n",
              "    }\n",
              "  </style>\n",
              "\n",
              "      <script>\n",
              "        const buttonEl =\n",
              "          document.querySelector('#df-79d50a45-42dc-462a-ad7b-d511bec923e5 button.colab-df-convert');\n",
              "        buttonEl.style.display =\n",
              "          google.colab.kernel.accessAllowed ? 'block' : 'none';\n",
              "\n",
              "        async function convertToInteractive(key) {\n",
              "          const element = document.querySelector('#df-79d50a45-42dc-462a-ad7b-d511bec923e5');\n",
              "          const dataTable =\n",
              "            await google.colab.kernel.invokeFunction('convertToInteractive',\n",
              "                                                     [key], {});\n",
              "          if (!dataTable) return;\n",
              "\n",
              "          const docLinkHtml = 'Like what you see? Visit the ' +\n",
              "            '<a target=\"_blank\" href=https://colab.research.google.com/notebooks/data_table.ipynb>data table notebook</a>'\n",
              "            + ' to learn more about interactive tables.';\n",
              "          element.innerHTML = '';\n",
              "          dataTable['output_type'] = 'display_data';\n",
              "          await google.colab.output.renderOutput(dataTable, element);\n",
              "          const docLink = document.createElement('div');\n",
              "          docLink.innerHTML = docLinkHtml;\n",
              "          element.appendChild(docLink);\n",
              "        }\n",
              "      </script>\n",
              "    </div>\n",
              "  </div>\n",
              "  "
            ]
          },
          "metadata": {},
          "execution_count": 48
        }
      ]
    },
    {
      "cell_type": "code",
      "source": [
        "import seaborn\n"
      ],
      "metadata": {
        "id": "GtxagXbZH89Z"
      },
      "execution_count": null,
      "outputs": []
    },
    {
      "cell_type": "code",
      "source": [
        "## plot y distribution \n",
        "seaborn.kdeplot(smo['처리효율'], label = \"Modified\")"
      ],
      "metadata": {
        "id": "BTvscsJBH2Gh"
      },
      "execution_count": null,
      "outputs": []
    },
    {
      "cell_type": "code",
      "source": [
        "train['처리효율'].plot()"
      ],
      "metadata": {
        "colab": {
          "base_uri": "https://localhost:8080/",
          "height": 283
        },
        "id": "KQIMpQe2Gscb",
        "outputId": "be530b50-28a6-4f7f-817e-7c15772a39dd"
      },
      "execution_count": null,
      "outputs": [
        {
          "output_type": "execute_result",
          "data": {
            "text/plain": [
              "<matplotlib.axes._subplots.AxesSubplot at 0x7f06fce08690>"
            ]
          },
          "metadata": {},
          "execution_count": 51
        },
        {
          "output_type": "display_data",
          "data": {
            "text/plain": [
              "<Figure size 432x288 with 1 Axes>"
            ],
            "image/png": "[encoded data removed]"
          },
          "metadata": {
            "needs_background": "light"
          }
        }
      ]
    },
    {
      "cell_type": "code",
      "source": [
        "smo['처리효율'].hist()"
      ],
      "metadata": {
        "colab": {
          "base_uri": "https://localhost:8080/",
          "height": 283
        },
        "id": "FfL_1lX95ju2",
        "outputId": "a0c7cc23-fb12-42ae-d66a-aebbf29928b7"
      },
      "execution_count": null,
      "outputs": [
        {
          "output_type": "execute_result",
          "data": {
            "text/plain": [
              "<matplotlib.axes._subplots.AxesSubplot at 0x7f06fb5a4450>"
            ]
          },
          "metadata": {},
          "execution_count": 64
        },
        {
          "output_type": "display_data",
          "data": {
            "text/plain": [
              "<Figure size 432x288 with 1 Axes>"
            ],
            "image/png": "[encoded data removed]"
          },
          "metadata": {
            "needs_background": "light"
          }
        }
      ]
    },
    {
      "cell_type": "code",
      "source": [
        ""
      ],
      "metadata": {
        "id": "o_9Pbc4GSEpD"
      },
      "execution_count": null,
      "outputs": []
    },
    {
      "cell_type": "code",
      "source": [
        "d = smo[smo['처리효율']>100].index\n",
        "df = smo.drop(d)\n"
      ],
      "metadata": {
        "id": "gs2p7K4uM9hK"
      },
      "execution_count": null,
      "outputs": []
    },
    {
      "cell_type": "code",
      "source": [
        "df['처리효율'].hist()"
      ],
      "metadata": {
        "colab": {
          "base_uri": "https://localhost:8080/",
          "height": 283
        },
        "id": "cyy9v9dYNMTj",
        "outputId": "5db24785-99e9-453e-8de1-e45c2f009d7c"
      },
      "execution_count": null,
      "outputs": [
        {
          "output_type": "execute_result",
          "data": {
            "text/plain": [
              "<matplotlib.axes._subplots.AxesSubplot at 0x7f06fb62b9d0>"
            ]
          },
          "metadata": {},
          "execution_count": 63
        },
        {
          "output_type": "display_data",
          "data": {
            "text/plain": [
              "<Figure size 432x288 with 1 Axes>"
            ],
            "image/png": "[encoded data removed]"
          },
          "metadata": {
            "needs_background": "light"
          }
        }
      ]
    },
    {
      "cell_type": "code",
      "source": [
        "df_smogn=pd.concat([train,df],ignore_index=True)"
      ],
      "metadata": {
        "id": "2NXKPvXP4wt_"
      },
      "execution_count": null,
      "outputs": []
    },
    {
      "cell_type": "code",
      "source": [
        "df"
      ],
      "metadata": {
        "colab": {
          "base_uri": "https://localhost:8080/",
          "height": 554
        },
        "id": "IbxXyRB75QLS",
        "outputId": "63e30f7d-6163-45b0-9660-ae1ecea366e7"
      },
      "execution_count": null,
      "outputs": [
        {
          "output_type": "execute_result",
          "data": {
            "text/plain": [
              "         시설용량    생물학적       고도         유입하수량     생물학적 유입하수량      고도 유입하수량  \\\n",
              "0      860000       0   860000  5.572253e+05       0.000000  5.572253e+05   \n",
              "1     1590000  100000  1490000  1.263584e+06  126961.300000  1.136623e+06   \n",
              "2     1630000  120000  1510000  1.607081e+06  150526.600000  1.456554e+06   \n",
              "3      900000       0   900000  7.523849e+05       0.000000  7.523849e+05   \n",
              "4      120000       0   120000  5.169720e+04       0.000000  5.169720e+04   \n",
              "...       ...     ...      ...           ...            ...           ...   \n",
              "7907      136       0      136  1.226182e+02       0.000000  1.226182e+02   \n",
              "7908       80       0       80  6.125003e+01      61.152735  9.729609e-02   \n",
              "7909       22       0       22  1.875201e+01       0.000000  1.875201e+01   \n",
              "7910       62       0       62  5.423326e+01       0.000000  5.423326e+01   \n",
              "7911      246       0      246  0.000000e+00       0.000000  0.000000e+00   \n",
              "\n",
              "               방류량       생물학적 방류량        고도 방류량      유입 BOD  ...  수계_0  수계_1  \\\n",
              "0     5.611354e+05       0.000000  5.611354e+05  131.000000  ...     0     0   \n",
              "1     1.284645e+06  148022.300000  1.136623e+06  140.100000  ...     0     0   \n",
              "2     1.607081e+06  150526.600000  1.456554e+06  121.900000  ...     0     0   \n",
              "3     7.523849e+05       0.000000  7.523849e+05  145.200000  ...     0     0   \n",
              "4     5.203760e+04       0.000000  5.203760e+04  115.700000  ...     0     1   \n",
              "...            ...            ...           ...         ...  ...   ...   ...   \n",
              "7907  1.224531e+02       0.000000  1.224531e+02   14.077710  ...     1     0   \n",
              "7908  5.995315e+01      59.855858  9.729609e-02  106.448589  ...     1     0   \n",
              "7909  1.891521e+01       0.000000  1.891521e+01   60.483217  ...     0     0   \n",
              "7910  5.423326e+01       0.000000  5.423326e+01   73.157483  ...     0     1   \n",
              "7911  0.000000e+00       0.000000  0.000000e+00    0.000000  ...     1     0   \n",
              "\n",
              "      수계_2  준공일_day  가동개시일_day  방류수소독방법_염소  방류수소독방법_자외선  방류수소독방법_오존  \\\n",
              "0        1    12238      12238           1            0           0   \n",
              "1        1    16172      16172           1            0           1   \n",
              "2        1    12238      12359           1            0           0   \n",
              "3        1    12076      12076           1            0           0   \n",
              "4        0     5479       5478           0            1           0   \n",
              "...    ...      ...        ...         ...          ...         ...   \n",
              "7907     0     5287       5287           1            1           1   \n",
              "7908     0     8394       8394           1            1           1   \n",
              "7909     1     5838       5926           1            1           1   \n",
              "7910     0     3539       3539           1            1           1   \n",
              "7911     0       43          0           1            1           1   \n",
              "\n",
              "      방류수소독방법_기타       처리효율  \n",
              "0              0  98.300000  \n",
              "1              0  95.900000  \n",
              "2              0  97.000000  \n",
              "3              1  96.600000  \n",
              "4              0  97.200000  \n",
              "...          ...        ...  \n",
              "7907           1  89.277224  \n",
              "7908           1  91.650096  \n",
              "7909           1  91.650029  \n",
              "7910           1  92.650000  \n",
              "7911           1   0.000000  \n",
              "\n",
              "[7912 rows x 58 columns]"
            ],
            "text/html": [
              "\n",
              "  <div id=\"df-f8755c95-bdd6-49ef-bced-81f9cb1386a7\">\n",
              "    <div class=\"colab-df-container\">\n",
              "      <div>\n",
              "<style scoped>\n",
              "    .dataframe tbody tr th:only-of-type {\n",
              "        vertical-align: middle;\n",
              "    }\n",
              "\n",
              "    .dataframe tbody tr th {\n",
              "        vertical-align: top;\n",
              "    }\n",
              "\n",
              "    .dataframe thead th {\n",
              "        text-align: right;\n",
              "    }\n",
              "</style>\n",
              "<table border=\"1\" class=\"dataframe\">\n",
              "  <thead>\n",
              "    <tr style=\"text-align: right;\">\n",
              "      <th></th>\n",
              "      <th>시설용량</th>\n",
              "      <th>생물학적</th>\n",
              "      <th>고도</th>\n",
              "      <th>유입하수량</th>\n",
              "      <th>생물학적 유입하수량</th>\n",
              "      <th>고도 유입하수량</th>\n",
              "      <th>방류량</th>\n",
              "      <th>생물학적 방류량</th>\n",
              "      <th>고도 방류량</th>\n",
              "      <th>유입 BOD</th>\n",
              "      <th>...</th>\n",
              "      <th>수계_0</th>\n",
              "      <th>수계_1</th>\n",
              "      <th>수계_2</th>\n",
              "      <th>준공일_day</th>\n",
              "      <th>가동개시일_day</th>\n",
              "      <th>방류수소독방법_염소</th>\n",
              "      <th>방류수소독방법_자외선</th>\n",
              "      <th>방류수소독방법_오존</th>\n",
              "      <th>방류수소독방법_기타</th>\n",
              "      <th>처리효율</th>\n",
              "    </tr>\n",
              "  </thead>\n",
              "  <tbody>\n",
              "    <tr>\n",
              "      <th>0</th>\n",
              "      <td>860000</td>\n",
              "      <td>0</td>\n",
              "      <td>860000</td>\n",
              "      <td>5.572253e+05</td>\n",
              "      <td>0.000000</td>\n",
              "      <td>5.572253e+05</td>\n",
              "      <td>5.611354e+05</td>\n",
              "      <td>0.000000</td>\n",
              "      <td>5.611354e+05</td>\n",
              "      <td>131.000000</td>\n",
              "      <td>...</td>\n",
              "      <td>0</td>\n",
              "      <td>0</td>\n",
              "      <td>1</td>\n",
              "      <td>12238</td>\n",
              "      <td>12238</td>\n",
              "      <td>1</td>\n",
              "      <td>0</td>\n",
              "      <td>0</td>\n",
              "      <td>0</td>\n",
              "      <td>98.300000</td>\n",
              "    </tr>\n",
              "    <tr>\n",
              "      <th>1</th>\n",
              "      <td>1590000</td>\n",
              "      <td>100000</td>\n",
              "      <td>1490000</td>\n",
              "      <td>1.263584e+06</td>\n",
              "      <td>126961.300000</td>\n",
              "      <td>1.136623e+06</td>\n",
              "      <td>1.284645e+06</td>\n",
              "      <td>148022.300000</td>\n",
              "      <td>1.136623e+06</td>\n",
              "      <td>140.100000</td>\n",
              "      <td>...</td>\n",
              "      <td>0</td>\n",
              "      <td>0</td>\n",
              "      <td>1</td>\n",
              "      <td>16172</td>\n",
              "      <td>16172</td>\n",
              "      <td>1</td>\n",
              "      <td>0</td>\n",
              "      <td>1</td>\n",
              "      <td>0</td>\n",
              "      <td>95.900000</td>\n",
              "    </tr>\n",
              "    <tr>\n",
              "      <th>2</th>\n",
              "      <td>1630000</td>\n",
              "      <td>120000</td>\n",
              "      <td>1510000</td>\n",
              "      <td>1.607081e+06</td>\n",
              "      <td>150526.600000</td>\n",
              "      <td>1.456554e+06</td>\n",
              "      <td>1.607081e+06</td>\n",
              "      <td>150526.600000</td>\n",
              "      <td>1.456554e+06</td>\n",
              "      <td>121.900000</td>\n",
              "      <td>...</td>\n",
              "      <td>0</td>\n",
              "      <td>0</td>\n",
              "      <td>1</td>\n",
              "      <td>12238</td>\n",
              "      <td>12359</td>\n",
              "      <td>1</td>\n",
              "      <td>0</td>\n",
              "      <td>0</td>\n",
              "      <td>0</td>\n",
              "      <td>97.000000</td>\n",
              "    </tr>\n",
              "    <tr>\n",
              "      <th>3</th>\n",
              "      <td>900000</td>\n",
              "      <td>0</td>\n",
              "      <td>900000</td>\n",
              "      <td>7.523849e+05</td>\n",
              "      <td>0.000000</td>\n",
              "      <td>7.523849e+05</td>\n",
              "      <td>7.523849e+05</td>\n",
              "      <td>0.000000</td>\n",
              "      <td>7.523849e+05</td>\n",
              "      <td>145.200000</td>\n",
              "      <td>...</td>\n",
              "      <td>0</td>\n",
              "      <td>0</td>\n",
              "      <td>1</td>\n",
              "      <td>12076</td>\n",
              "      <td>12076</td>\n",
              "      <td>1</td>\n",
              "      <td>0</td>\n",
              "      <td>0</td>\n",
              "      <td>1</td>\n",
              "      <td>96.600000</td>\n",
              "    </tr>\n",
              "    <tr>\n",
              "      <th>4</th>\n",
              "      <td>120000</td>\n",
              "      <td>0</td>\n",
              "      <td>120000</td>\n",
              "      <td>5.169720e+04</td>\n",
              "      <td>0.000000</td>\n",
              "      <td>5.169720e+04</td>\n",
              "      <td>5.203760e+04</td>\n",
              "      <td>0.000000</td>\n",
              "      <td>5.203760e+04</td>\n",
              "      <td>115.700000</td>\n",
              "      <td>...</td>\n",
              "      <td>0</td>\n",
              "      <td>1</td>\n",
              "      <td>0</td>\n",
              "      <td>5479</td>\n",
              "      <td>5478</td>\n",
              "      <td>0</td>\n",
              "      <td>1</td>\n",
              "      <td>0</td>\n",
              "      <td>0</td>\n",
              "      <td>97.200000</td>\n",
              "    </tr>\n",
              "    <tr>\n",
              "      <th>...</th>\n",
              "      <td>...</td>\n",
              "      <td>...</td>\n",
              "      <td>...</td>\n",
              "      <td>...</td>\n",
              "      <td>...</td>\n",
              "      <td>...</td>\n",
              "      <td>...</td>\n",
              "      <td>...</td>\n",
              "      <td>...</td>\n",
              "      <td>...</td>\n",
              "      <td>...</td>\n",
              "      <td>...</td>\n",
              "      <td>...</td>\n",
              "      <td>...</td>\n",
              "      <td>...</td>\n",
              "      <td>...</td>\n",
              "      <td>...</td>\n",
              "      <td>...</td>\n",
              "      <td>...</td>\n",
              "      <td>...</td>\n",
              "      <td>...</td>\n",
              "    </tr>\n",
              "    <tr>\n",
              "      <th>7907</th>\n",
              "      <td>136</td>\n",
              "      <td>0</td>\n",
              "      <td>136</td>\n",
              "      <td>1.226182e+02</td>\n",
              "      <td>0.000000</td>\n",
              "      <td>1.226182e+02</td>\n",
              "      <td>1.224531e+02</td>\n",
              "      <td>0.000000</td>\n",
              "      <td>1.224531e+02</td>\n",
              "      <td>14.077710</td>\n",
              "      <td>...</td>\n",
              "      <td>1</td>\n",
              "      <td>0</td>\n",
              "      <td>0</td>\n",
              "      <td>5287</td>\n",
              "      <td>5287</td>\n",
              "      <td>1</td>\n",
              "      <td>1</td>\n",
              "      <td>1</td>\n",
              "      <td>1</td>\n",
              "      <td>89.277224</td>\n",
              "    </tr>\n",
              "    <tr>\n",
              "      <th>7908</th>\n",
              "      <td>80</td>\n",
              "      <td>0</td>\n",
              "      <td>80</td>\n",
              "      <td>6.125003e+01</td>\n",
              "      <td>61.152735</td>\n",
              "      <td>9.729609e-02</td>\n",
              "      <td>5.995315e+01</td>\n",
              "      <td>59.855858</td>\n",
              "      <td>9.729609e-02</td>\n",
              "      <td>106.448589</td>\n",
              "      <td>...</td>\n",
              "      <td>1</td>\n",
              "      <td>0</td>\n",
              "      <td>0</td>\n",
              "      <td>8394</td>\n",
              "      <td>8394</td>\n",
              "      <td>1</td>\n",
              "      <td>1</td>\n",
              "      <td>1</td>\n",
              "      <td>1</td>\n",
              "      <td>91.650096</td>\n",
              "    </tr>\n",
              "    <tr>\n",
              "      <th>7909</th>\n",
              "      <td>22</td>\n",
              "      <td>0</td>\n",
              "      <td>22</td>\n",
              "      <td>1.875201e+01</td>\n",
              "      <td>0.000000</td>\n",
              "      <td>1.875201e+01</td>\n",
              "      <td>1.891521e+01</td>\n",
              "      <td>0.000000</td>\n",
              "      <td>1.891521e+01</td>\n",
              "      <td>60.483217</td>\n",
              "      <td>...</td>\n",
              "      <td>0</td>\n",
              "      <td>0</td>\n",
              "      <td>1</td>\n",
              "      <td>5838</td>\n",
              "      <td>5926</td>\n",
              "      <td>1</td>\n",
              "      <td>1</td>\n",
              "      <td>1</td>\n",
              "      <td>1</td>\n",
              "      <td>91.650029</td>\n",
              "    </tr>\n",
              "    <tr>\n",
              "      <th>7910</th>\n",
              "      <td>62</td>\n",
              "      <td>0</td>\n",
              "      <td>62</td>\n",
              "      <td>5.423326e+01</td>\n",
              "      <td>0.000000</td>\n",
              "      <td>5.423326e+01</td>\n",
              "      <td>5.423326e+01</td>\n",
              "      <td>0.000000</td>\n",
              "      <td>5.423326e+01</td>\n",
              "      <td>73.157483</td>\n",
              "      <td>...</td>\n",
              "      <td>0</td>\n",
              "      <td>1</td>\n",
              "      <td>0</td>\n",
              "      <td>3539</td>\n",
              "      <td>3539</td>\n",
              "      <td>1</td>\n",
              "      <td>1</td>\n",
              "      <td>1</td>\n",
              "      <td>1</td>\n",
              "      <td>92.650000</td>\n",
              "    </tr>\n",
              "    <tr>\n",
              "      <th>7911</th>\n",
              "      <td>246</td>\n",
              "      <td>0</td>\n",
              "      <td>246</td>\n",
              "      <td>0.000000e+00</td>\n",
              "      <td>0.000000</td>\n",
              "      <td>0.000000e+00</td>\n",
              "      <td>0.000000e+00</td>\n",
              "      <td>0.000000</td>\n",
              "      <td>0.000000e+00</td>\n",
              "      <td>0.000000</td>\n",
              "      <td>...</td>\n",
              "      <td>1</td>\n",
              "      <td>0</td>\n",
              "      <td>0</td>\n",
              "      <td>43</td>\n",
              "      <td>0</td>\n",
              "      <td>1</td>\n",
              "      <td>1</td>\n",
              "      <td>1</td>\n",
              "      <td>1</td>\n",
              "      <td>0.000000</td>\n",
              "    </tr>\n",
              "  </tbody>\n",
              "</table>\n",
              "<p>7912 rows × 58 columns</p>\n",
              "</div>\n",
              "      <button class=\"colab-df-convert\" onclick=\"convertToInteractive('df-f8755c95-bdd6-49ef-bced-81f9cb1386a7')\"\n",
              "              title=\"Convert this dataframe to an interactive table.\"\n",
              "              style=\"display:none;\">\n",
              "        \n",
              "  <svg xmlns=\"http://www.w3.org/2000/svg\" height=\"24px\"viewBox=\"0 0 24 24\"\n",
              "       width=\"24px\">\n",
              "    <path d=\"M0 0h24v24H0V0z\" fill=\"none\"/>\n",
              "    <path d=\"M18.56 5.44l.94 2.06.94-2.06 2.06-.94-2.06-.94-.94-2.06-.94 2.06-2.06.94zm-11 1L8.5 8.5l.94-2.06 2.06-.94-2.06-.94L8.5 2.5l-.94 2.06-2.06.94zm10 10l.94 2.06.94-2.06 2.06-.94-2.06-.94-.94-2.06-.94 2.06-2.06.94z\"/><path d=\"M17.41 7.96l-1.37-1.37c-.4-.4-.92-.59-1.43-.59-.52 0-1.04.2-1.43.59L10.3 9.45l-7.72 7.72c-.78.78-.78 2.05 0 2.83L4 21.41c.39.39.9.59 1.41.59.51 0 1.02-.2 1.41-.59l7.78-7.78 2.81-2.81c.8-.78.8-2.07 0-2.86zM5.41 20L4 18.59l7.72-7.72 1.47 1.35L5.41 20z\"/>\n",
              "  </svg>\n",
              "      </button>\n",
              "      \n",
              "  <style>\n",
              "    .colab-df-container {\n",
              "      display:flex;\n",
              "      flex-wrap:wrap;\n",
              "      gap: 12px;\n",
              "    }\n",
              "\n",
              "    .colab-df-convert {\n",
              "      background-color: #E8F0FE;\n",
              "      border: none;\n",
              "      border-radius: 50%;\n",
              "      cursor: pointer;\n",
              "      display: none;\n",
              "      fill: #1967D2;\n",
              "      height: 32px;\n",
              "      padding: 0 0 0 0;\n",
              "      width: 32px;\n",
              "    }\n",
              "\n",
              "    .colab-df-convert:hover {\n",
              "      background-color: #E2EBFA;\n",
              "      box-shadow: 0px 1px 2px rgba(60, 64, 67, 0.3), 0px 1px 3px 1px rgba(60, 64, 67, 0.15);\n",
              "      fill: #174EA6;\n",
              "    }\n",
              "\n",
              "    [theme=dark] .colab-df-convert {\n",
              "      background-color: #3B4455;\n",
              "      fill: #D2E3FC;\n",
              "    }\n",
              "\n",
              "    [theme=dark] .colab-df-convert:hover {\n",
              "      background-color: #434B5C;\n",
              "      box-shadow: 0px 1px 3px 1px rgba(0, 0, 0, 0.15);\n",
              "      filter: drop-shadow(0px 1px 2px rgba(0, 0, 0, 0.3));\n",
              "      fill: #FFFFFF;\n",
              "    }\n",
              "  </style>\n",
              "\n",
              "      <script>\n",
              "        const buttonEl =\n",
              "          document.querySelector('#df-f8755c95-bdd6-49ef-bced-81f9cb1386a7 button.colab-df-convert');\n",
              "        buttonEl.style.display =\n",
              "          google.colab.kernel.accessAllowed ? 'block' : 'none';\n",
              "\n",
              "        async function convertToInteractive(key) {\n",
              "          const element = document.querySelector('#df-f8755c95-bdd6-49ef-bced-81f9cb1386a7');\n",
              "          const dataTable =\n",
              "            await google.colab.kernel.invokeFunction('convertToInteractive',\n",
              "                                                     [key], {});\n",
              "          if (!dataTable) return;\n",
              "\n",
              "          const docLinkHtml = 'Like what you see? Visit the ' +\n",
              "            '<a target=\"_blank\" href=https://colab.research.google.com/notebooks/data_table.ipynb>data table notebook</a>'\n",
              "            + ' to learn more about interactive tables.';\n",
              "          element.innerHTML = '';\n",
              "          dataTable['output_type'] = 'display_data';\n",
              "          await google.colab.output.renderOutput(dataTable, element);\n",
              "          const docLink = document.createElement('div');\n",
              "          docLink.innerHTML = docLinkHtml;\n",
              "          element.appendChild(docLink);\n",
              "        }\n",
              "      </script>\n",
              "    </div>\n",
              "  </div>\n",
              "  "
            ]
          },
          "metadata": {},
          "execution_count": 47
        }
      ]
    },
    {
      "cell_type": "code",
      "source": [
        "len(data)"
      ],
      "metadata": {
        "colab": {
          "base_uri": "https://localhost:8080/"
        },
        "id": "A2i19OutD6wu",
        "outputId": "024168a9-1a5f-44f5-828d-59133f57a717"
      },
      "execution_count": null,
      "outputs": [
        {
          "output_type": "execute_result",
          "data": {
            "text/plain": [
              "4280"
            ]
          },
          "metadata": {},
          "execution_count": 5
        }
      ]
    },
    {
      "cell_type": "code",
      "source": [
        "deleteIndex = df[df['처리효율']>100].index\n",
        "df = df.drop(deleteIndex)"
      ],
      "metadata": {
        "id": "Ca46UgVFCIPS"
      },
      "execution_count": null,
      "outputs": []
    },
    {
      "cell_type": "code",
      "source": [
        "deleteIndex1 = df[df['처리효율']==0].index\n",
        "d = d.drop(deleteIndex1)"
      ],
      "metadata": {
        "id": "oOndaRfymztZ"
      },
      "execution_count": null,
      "outputs": []
    },
    {
      "cell_type": "code",
      "source": [
        "deleteIndex1"
      ],
      "metadata": {
        "colab": {
          "base_uri": "https://localhost:8080/"
        },
        "id": "ea728U_SD8Xu",
        "outputId": "67f1dfd2-204c-4df5-9533-8e4cb420e42e"
      },
      "execution_count": null,
      "outputs": [
        {
          "output_type": "execute_result",
          "data": {
            "text/plain": [
              "Int64Index([  20,  223, 1207, 1211, 1311, 1520, 1661, 2049, 2268, 2491, 3130,\n",
              "            3133, 3318, 3353, 3398, 3447, 3457, 3610, 3976],\n",
              "           dtype='int64')"
            ]
          },
          "metadata": {},
          "execution_count": 52
        }
      ]
    },
    {
      "cell_type": "code",
      "source": [
        "deleteIndex"
      ],
      "metadata": {
        "colab": {
          "base_uri": "https://localhost:8080/"
        },
        "id": "8UTZ3anACanW",
        "outputId": "f5804f70-4a87-4c93-d7fe-ff3eadc839c1"
      },
      "execution_count": null,
      "outputs": [
        {
          "output_type": "execute_result",
          "data": {
            "text/plain": [
              "Int64Index([  20,   82,  223,  567, 1207, 1211, 1311, 1520, 1661, 1990, 1994,\n",
              "            2049, 2268, 2491, 3130, 3133, 3318, 3353, 3398, 3447, 3457, 3610,\n",
              "            3959, 3976, 4256, 4257, 4259],\n",
              "           dtype='int64')"
            ]
          },
          "metadata": {},
          "execution_count": 18
        }
      ]
    },
    {
      "cell_type": "code",
      "source": [
        "d.reset_index(drop=True, inplace = True)"
      ],
      "metadata": {
        "id": "057tF5XRCfwY"
      },
      "execution_count": null,
      "outputs": []
    },
    {
      "cell_type": "code",
      "source": [
        ""
      ],
      "metadata": {
        "id": "gSg2bWyAI5iJ"
      },
      "execution_count": null,
      "outputs": []
    },
    {
      "cell_type": "code",
      "source": [
        "X = df.drop(['처리효율','방류 BOD','유입 BOD'],axis = 1)\n",
        "#X_outliers=d.drop(['처리효율','방류 BOD','유입 BOD'],axis = 1)"
      ],
      "metadata": {
        "id": "sHVdRAMzJSs7"
      },
      "execution_count": null,
      "outputs": []
    },
    {
      "cell_type": "code",
      "source": [
        "X_outliers"
      ],
      "metadata": {
        "id": "FR_G6OLfJdoL",
        "colab": {
          "base_uri": "https://localhost:8080/",
          "height": 408
        },
        "outputId": "e6f53dc3-5785-406d-95e3-34d99b73733d"
      },
      "execution_count": null,
      "outputs": [
        {
          "output_type": "execute_result",
          "data": {
            "text/plain": [
              "   시설용량  생물학적   고도  유입하수량  생물학적 유입하수량  고도 유입하수량    방류량  생물학적 방류량  고도 방류량  \\\n",
              "0   430     0  430  854.8         0.0     854.8  854.8       0.0   854.8   \n",
              "1    30     0   30   30.1         0.0      30.1   30.1       0.0    30.1   \n",
              "2   150     0  150   73.2         0.0      73.2   73.2       0.0    73.2   \n",
              "3    80     0   80   60.8         0.0      60.8   60.8       0.0    60.8   \n",
              "4    40     0   40   11.3         0.0      11.3   11.3       0.0    11.3   \n",
              "5    45    45    0   57.3        57.3       0.0   57.3      57.3     0.0   \n",
              "6    45     0   45  121.9         0.0     121.9  121.9       0.0   121.9   \n",
              "7    40     0   40  128.1         0.0     128.1  128.1       0.0   128.1   \n",
              "\n",
              "   유입 COD  ...  지역구분_2  수계_0  수계_1  수계_2  준공일_day  가동개시일_day  방류수소독방법_염소  \\\n",
              "0    88.0  ...       0     0     1     1     2421       2389           1   \n",
              "1    13.7  ...       1     0     0     1     3247       3247           1   \n",
              "2    64.6  ...       0     1     0     0     4048       4048           1   \n",
              "3    58.1  ...       0     1     0     0     4566       4566           1   \n",
              "4     3.2  ...       1     0     1     0     5829       5829           1   \n",
              "5    62.6  ...       1     0     1     1     4018       4018           1   \n",
              "6    71.7  ...       1     0     1     1     4570       4570           1   \n",
              "7    84.0  ...       1     0     1     1     6576       6576           1   \n",
              "\n",
              "   방류수소독방법_자외선  방류수소독방법_오존  방류수소독방법_기타  \n",
              "0            1           1           1  \n",
              "1            1           1           1  \n",
              "2            1           1           1  \n",
              "3            1           1           1  \n",
              "4            1           1           1  \n",
              "5            1           1           1  \n",
              "6            1           1           1  \n",
              "7            1           1           1  \n",
              "\n",
              "[8 rows x 55 columns]"
            ],
            "text/html": [
              "\n",
              "  <div id=\"df-505b18ad-c566-4f5a-ac05-5ed09f1d3b80\">\n",
              "    <div class=\"colab-df-container\">\n",
              "      <div>\n",
              "<style scoped>\n",
              "    .dataframe tbody tr th:only-of-type {\n",
              "        vertical-align: middle;\n",
              "    }\n",
              "\n",
              "    .dataframe tbody tr th {\n",
              "        vertical-align: top;\n",
              "    }\n",
              "\n",
              "    .dataframe thead th {\n",
              "        text-align: right;\n",
              "    }\n",
              "</style>\n",
              "<table border=\"1\" class=\"dataframe\">\n",
              "  <thead>\n",
              "    <tr style=\"text-align: right;\">\n",
              "      <th></th>\n",
              "      <th>시설용량</th>\n",
              "      <th>생물학적</th>\n",
              "      <th>고도</th>\n",
              "      <th>유입하수량</th>\n",
              "      <th>생물학적 유입하수량</th>\n",
              "      <th>고도 유입하수량</th>\n",
              "      <th>방류량</th>\n",
              "      <th>생물학적 방류량</th>\n",
              "      <th>고도 방류량</th>\n",
              "      <th>유입 COD</th>\n",
              "      <th>...</th>\n",
              "      <th>지역구분_2</th>\n",
              "      <th>수계_0</th>\n",
              "      <th>수계_1</th>\n",
              "      <th>수계_2</th>\n",
              "      <th>준공일_day</th>\n",
              "      <th>가동개시일_day</th>\n",
              "      <th>방류수소독방법_염소</th>\n",
              "      <th>방류수소독방법_자외선</th>\n",
              "      <th>방류수소독방법_오존</th>\n",
              "      <th>방류수소독방법_기타</th>\n",
              "    </tr>\n",
              "  </thead>\n",
              "  <tbody>\n",
              "    <tr>\n",
              "      <th>0</th>\n",
              "      <td>430</td>\n",
              "      <td>0</td>\n",
              "      <td>430</td>\n",
              "      <td>854.8</td>\n",
              "      <td>0.0</td>\n",
              "      <td>854.8</td>\n",
              "      <td>854.8</td>\n",
              "      <td>0.0</td>\n",
              "      <td>854.8</td>\n",
              "      <td>88.0</td>\n",
              "      <td>...</td>\n",
              "      <td>0</td>\n",
              "      <td>0</td>\n",
              "      <td>1</td>\n",
              "      <td>1</td>\n",
              "      <td>2421</td>\n",
              "      <td>2389</td>\n",
              "      <td>1</td>\n",
              "      <td>1</td>\n",
              "      <td>1</td>\n",
              "      <td>1</td>\n",
              "    </tr>\n",
              "    <tr>\n",
              "      <th>1</th>\n",
              "      <td>30</td>\n",
              "      <td>0</td>\n",
              "      <td>30</td>\n",
              "      <td>30.1</td>\n",
              "      <td>0.0</td>\n",
              "      <td>30.1</td>\n",
              "      <td>30.1</td>\n",
              "      <td>0.0</td>\n",
              "      <td>30.1</td>\n",
              "      <td>13.7</td>\n",
              "      <td>...</td>\n",
              "      <td>1</td>\n",
              "      <td>0</td>\n",
              "      <td>0</td>\n",
              "      <td>1</td>\n",
              "      <td>3247</td>\n",
              "      <td>3247</td>\n",
              "      <td>1</td>\n",
              "      <td>1</td>\n",
              "      <td>1</td>\n",
              "      <td>1</td>\n",
              "    </tr>\n",
              "    <tr>\n",
              "      <th>2</th>\n",
              "      <td>150</td>\n",
              "      <td>0</td>\n",
              "      <td>150</td>\n",
              "      <td>73.2</td>\n",
              "      <td>0.0</td>\n",
              "      <td>73.2</td>\n",
              "      <td>73.2</td>\n",
              "      <td>0.0</td>\n",
              "      <td>73.2</td>\n",
              "      <td>64.6</td>\n",
              "      <td>...</td>\n",
              "      <td>0</td>\n",
              "      <td>1</td>\n",
              "      <td>0</td>\n",
              "      <td>0</td>\n",
              "      <td>4048</td>\n",
              "      <td>4048</td>\n",
              "      <td>1</td>\n",
              "      <td>1</td>\n",
              "      <td>1</td>\n",
              "      <td>1</td>\n",
              "    </tr>\n",
              "    <tr>\n",
              "      <th>3</th>\n",
              "      <td>80</td>\n",
              "      <td>0</td>\n",
              "      <td>80</td>\n",
              "      <td>60.8</td>\n",
              "      <td>0.0</td>\n",
              "      <td>60.8</td>\n",
              "      <td>60.8</td>\n",
              "      <td>0.0</td>\n",
              "      <td>60.8</td>\n",
              "      <td>58.1</td>\n",
              "      <td>...</td>\n",
              "      <td>0</td>\n",
              "      <td>1</td>\n",
              "      <td>0</td>\n",
              "      <td>0</td>\n",
              "      <td>4566</td>\n",
              "      <td>4566</td>\n",
              "      <td>1</td>\n",
              "      <td>1</td>\n",
              "      <td>1</td>\n",
              "      <td>1</td>\n",
              "    </tr>\n",
              "    <tr>\n",
              "      <th>4</th>\n",
              "      <td>40</td>\n",
              "      <td>0</td>\n",
              "      <td>40</td>\n",
              "      <td>11.3</td>\n",
              "      <td>0.0</td>\n",
              "      <td>11.3</td>\n",
              "      <td>11.3</td>\n",
              "      <td>0.0</td>\n",
              "      <td>11.3</td>\n",
              "      <td>3.2</td>\n",
              "      <td>...</td>\n",
              "      <td>1</td>\n",
              "      <td>0</td>\n",
              "      <td>1</td>\n",
              "      <td>0</td>\n",
              "      <td>5829</td>\n",
              "      <td>5829</td>\n",
              "      <td>1</td>\n",
              "      <td>1</td>\n",
              "      <td>1</td>\n",
              "      <td>1</td>\n",
              "    </tr>\n",
              "    <tr>\n",
              "      <th>5</th>\n",
              "      <td>45</td>\n",
              "      <td>45</td>\n",
              "      <td>0</td>\n",
              "      <td>57.3</td>\n",
              "      <td>57.3</td>\n",
              "      <td>0.0</td>\n",
              "      <td>57.3</td>\n",
              "      <td>57.3</td>\n",
              "      <td>0.0</td>\n",
              "      <td>62.6</td>\n",
              "      <td>...</td>\n",
              "      <td>1</td>\n",
              "      <td>0</td>\n",
              "      <td>1</td>\n",
              "      <td>1</td>\n",
              "      <td>4018</td>\n",
              "      <td>4018</td>\n",
              "      <td>1</td>\n",
              "      <td>1</td>\n",
              "      <td>1</td>\n",
              "      <td>1</td>\n",
              "    </tr>\n",
              "    <tr>\n",
              "      <th>6</th>\n",
              "      <td>45</td>\n",
              "      <td>0</td>\n",
              "      <td>45</td>\n",
              "      <td>121.9</td>\n",
              "      <td>0.0</td>\n",
              "      <td>121.9</td>\n",
              "      <td>121.9</td>\n",
              "      <td>0.0</td>\n",
              "      <td>121.9</td>\n",
              "      <td>71.7</td>\n",
              "      <td>...</td>\n",
              "      <td>1</td>\n",
              "      <td>0</td>\n",
              "      <td>1</td>\n",
              "      <td>1</td>\n",
              "      <td>4570</td>\n",
              "      <td>4570</td>\n",
              "      <td>1</td>\n",
              "      <td>1</td>\n",
              "      <td>1</td>\n",
              "      <td>1</td>\n",
              "    </tr>\n",
              "    <tr>\n",
              "      <th>7</th>\n",
              "      <td>40</td>\n",
              "      <td>0</td>\n",
              "      <td>40</td>\n",
              "      <td>128.1</td>\n",
              "      <td>0.0</td>\n",
              "      <td>128.1</td>\n",
              "      <td>128.1</td>\n",
              "      <td>0.0</td>\n",
              "      <td>128.1</td>\n",
              "      <td>84.0</td>\n",
              "      <td>...</td>\n",
              "      <td>1</td>\n",
              "      <td>0</td>\n",
              "      <td>1</td>\n",
              "      <td>1</td>\n",
              "      <td>6576</td>\n",
              "      <td>6576</td>\n",
              "      <td>1</td>\n",
              "      <td>1</td>\n",
              "      <td>1</td>\n",
              "      <td>1</td>\n",
              "    </tr>\n",
              "  </tbody>\n",
              "</table>\n",
              "<p>8 rows × 55 columns</p>\n",
              "</div>\n",
              "      <button class=\"colab-df-convert\" onclick=\"convertToInteractive('df-505b18ad-c566-4f5a-ac05-5ed09f1d3b80')\"\n",
              "              title=\"Convert this dataframe to an interactive table.\"\n",
              "              style=\"display:none;\">\n",
              "        \n",
              "  <svg xmlns=\"http://www.w3.org/2000/svg\" height=\"24px\"viewBox=\"0 0 24 24\"\n",
              "       width=\"24px\">\n",
              "    <path d=\"M0 0h24v24H0V0z\" fill=\"none\"/>\n",
              "    <path d=\"M18.56 5.44l.94 2.06.94-2.06 2.06-.94-2.06-.94-.94-2.06-.94 2.06-2.06.94zm-11 1L8.5 8.5l.94-2.06 2.06-.94-2.06-.94L8.5 2.5l-.94 2.06-2.06.94zm10 10l.94 2.06.94-2.06 2.06-.94-2.06-.94-.94-2.06-.94 2.06-2.06.94z\"/><path d=\"M17.41 7.96l-1.37-1.37c-.4-.4-.92-.59-1.43-.59-.52 0-1.04.2-1.43.59L10.3 9.45l-7.72 7.72c-.78.78-.78 2.05 0 2.83L4 21.41c.39.39.9.59 1.41.59.51 0 1.02-.2 1.41-.59l7.78-7.78 2.81-2.81c.8-.78.8-2.07 0-2.86zM5.41 20L4 18.59l7.72-7.72 1.47 1.35L5.41 20z\"/>\n",
              "  </svg>\n",
              "      </button>\n",
              "      \n",
              "  <style>\n",
              "    .colab-df-container {\n",
              "      display:flex;\n",
              "      flex-wrap:wrap;\n",
              "      gap: 12px;\n",
              "    }\n",
              "\n",
              "    .colab-df-convert {\n",
              "      background-color: #E8F0FE;\n",
              "      border: none;\n",
              "      border-radius: 50%;\n",
              "      cursor: pointer;\n",
              "      display: none;\n",
              "      fill: #1967D2;\n",
              "      height: 32px;\n",
              "      padding: 0 0 0 0;\n",
              "      width: 32px;\n",
              "    }\n",
              "\n",
              "    .colab-df-convert:hover {\n",
              "      background-color: #E2EBFA;\n",
              "      box-shadow: 0px 1px 2px rgba(60, 64, 67, 0.3), 0px 1px 3px 1px rgba(60, 64, 67, 0.15);\n",
              "      fill: #174EA6;\n",
              "    }\n",
              "\n",
              "    [theme=dark] .colab-df-convert {\n",
              "      background-color: #3B4455;\n",
              "      fill: #D2E3FC;\n",
              "    }\n",
              "\n",
              "    [theme=dark] .colab-df-convert:hover {\n",
              "      background-color: #434B5C;\n",
              "      box-shadow: 0px 1px 3px 1px rgba(0, 0, 0, 0.15);\n",
              "      filter: drop-shadow(0px 1px 2px rgba(0, 0, 0, 0.3));\n",
              "      fill: #FFFFFF;\n",
              "    }\n",
              "  </style>\n",
              "\n",
              "      <script>\n",
              "        const buttonEl =\n",
              "          document.querySelector('#df-505b18ad-c566-4f5a-ac05-5ed09f1d3b80 button.colab-df-convert');\n",
              "        buttonEl.style.display =\n",
              "          google.colab.kernel.accessAllowed ? 'block' : 'none';\n",
              "\n",
              "        async function convertToInteractive(key) {\n",
              "          const element = document.querySelector('#df-505b18ad-c566-4f5a-ac05-5ed09f1d3b80');\n",
              "          const dataTable =\n",
              "            await google.colab.kernel.invokeFunction('convertToInteractive',\n",
              "                                                     [key], {});\n",
              "          if (!dataTable) return;\n",
              "\n",
              "          const docLinkHtml = 'Like what you see? Visit the ' +\n",
              "            '<a target=\"_blank\" href=https://colab.research.google.com/notebooks/data_table.ipynb>data table notebook</a>'\n",
              "            + ' to learn more about interactive tables.';\n",
              "          element.innerHTML = '';\n",
              "          dataTable['output_type'] = 'display_data';\n",
              "          await google.colab.output.renderOutput(dataTable, element);\n",
              "          const docLink = document.createElement('div');\n",
              "          docLink.innerHTML = docLinkHtml;\n",
              "          element.appendChild(docLink);\n",
              "        }\n",
              "      </script>\n",
              "    </div>\n",
              "  </div>\n",
              "  "
            ]
          },
          "metadata": {},
          "execution_count": 31
        }
      ]
    },
    {
      "cell_type": "code",
      "source": [
        "Y = df['처리효율']\n",
        "Y"
      ],
      "metadata": {
        "colab": {
          "base_uri": "https://localhost:8080/"
        },
        "id": "wS24IWR0JbHN",
        "outputId": "0e709bd4-ccac-4e5e-df74-1012d42d6cbb"
      },
      "execution_count": null,
      "outputs": [
        {
          "output_type": "execute_result",
          "data": {
            "text/plain": [
              "0       98.3\n",
              "1       95.9\n",
              "2       97.0\n",
              "3       96.6\n",
              "4       97.2\n",
              "        ... \n",
              "4275    88.1\n",
              "4276    95.8\n",
              "4277    93.7\n",
              "4278    95.4\n",
              "4279    85.7\n",
              "Name: 처리효율, Length: 4280, dtype: float64"
            ]
          },
          "metadata": {},
          "execution_count": 46
        }
      ]
    },
    {
      "cell_type": "code",
      "source": [
        "d"
      ],
      "metadata": {
        "id": "dYOVd8m1DLAg"
      },
      "execution_count": null,
      "outputs": []
    },
    {
      "cell_type": "code",
      "source": [
        "d_y=d['처리효율']"
      ],
      "metadata": {
        "id": "ba64L1-ADEmk"
      },
      "execution_count": null,
      "outputs": []
    },
    {
      "cell_type": "code",
      "source": [
        "d_y"
      ],
      "metadata": {
        "colab": {
          "base_uri": "https://localhost:8080/"
        },
        "id": "T5PpfJwvDRop",
        "outputId": "fb06b436-e1e3-4cd2-c25f-6f8987441e36"
      },
      "execution_count": null,
      "outputs": [
        {
          "output_type": "execute_result",
          "data": {
            "text/plain": [
              "0    55.3\n",
              "1    68.1\n",
              "2    46.1\n",
              "3    47.2\n",
              "4    28.0\n",
              "5    59.9\n",
              "6    56.9\n",
              "7    59.7\n",
              "Name: 처리효율, dtype: float64"
            ]
          },
          "metadata": {},
          "execution_count": 41
        }
      ]
    },
    {
      "cell_type": "code",
      "source": [
        "from sklearn.model_selection import train_test_split\n",
        "X_train, X_test, Y_train, Y_test = train_test_split(X, Y, test_size=0.3)"
      ],
      "metadata": {
        "id": "prTyDf_KJMOi"
      },
      "execution_count": null,
      "outputs": []
    },
    {
      "cell_type": "markdown",
      "source": [
        "isloation_forest\n",
        "https://partrita.github.io/posts/isolation-forest/"
      ],
      "metadata": {
        "id": "GDe4fPsoE7mE"
      }
    },
    {
      "cell_type": "markdown",
      "source": [
        "# **AdaBoost** 증강기법 사용(GAN, SMOTE,SMOGN)\n"
      ],
      "metadata": {
        "id": "9_pN8JDFKx6I"
      }
    },
    {
      "cell_type": "code",
      "source": [
        "from sklearn.ensemble import AdaBoostRegressor\n",
        "from sklearn import metrics"
      ],
      "metadata": {
        "id": "2Ra8I9EfI8Nq"
      },
      "execution_count": null,
      "outputs": []
    },
    {
      "cell_type": "markdown",
      "source": [
        "smote\n"
      ],
      "metadata": {
        "id": "UDk_lAYjHrRW"
      }
    },
    {
      "cell_type": "code",
      "source": [
        "smote_csv=pd.read_csv(\"/content/drive/MyDrive/기계학습팀플/코드/data/SMOTE.csv\", encoding = 'utf-8-sig')"
      ],
      "metadata": {
        "id": "rf4ZmX-bjscD"
      },
      "execution_count": null,
      "outputs": []
    },
    {
      "cell_type": "code",
      "source": [
        "print(len(smote_csv))"
      ],
      "metadata": {
        "colab": {
          "base_uri": "https://localhost:8080/"
        },
        "id": "-vmPe-jBIlKH",
        "outputId": "368d43d9-d1dc-4b71-b20d-30801769fcc6"
      },
      "execution_count": null,
      "outputs": [
        {
          "output_type": "stream",
          "name": "stdout",
          "text": [
            "6594\n"
          ]
        }
      ]
    },
    {
      "cell_type": "markdown",
      "source": [
        "gan\n"
      ],
      "metadata": {
        "id": "LDsEi_ggHtTL"
      }
    },
    {
      "cell_type": "code",
      "source": [
        "gan_csv=pd.read_csv(\"/content/drive/MyDrive/기계학습팀플/코드/data/train_gan.csv\", encoding = 'utf-8-sig')"
      ],
      "metadata": {
        "id": "maibcnx4Hu9M"
      },
      "execution_count": null,
      "outputs": []
    },
    {
      "cell_type": "code",
      "source": [
        "print(len(gan_csv))"
      ],
      "metadata": {
        "colab": {
          "base_uri": "https://localhost:8080/"
        },
        "id": "HFPygK9WInHz",
        "outputId": "698530a0-e584-4234-9240-77ef5bcf8961"
      },
      "execution_count": null,
      "outputs": [
        {
          "output_type": "stream",
          "name": "stdout",
          "text": [
            "6594\n"
          ]
        }
      ]
    },
    {
      "cell_type": "markdown",
      "source": [
        "smogn\n"
      ],
      "metadata": {
        "id": "N1uW5g81HvFm"
      }
    },
    {
      "cell_type": "code",
      "source": [
        "smogn_csv=pd.read_csv(\"/content/drive/MyDrive/기계학습팀플/코드/data/smogn.csv\", encoding = 'cp949')"
      ],
      "metadata": {
        "id": "Ig1nPp8pHw6-"
      },
      "execution_count": null,
      "outputs": []
    },
    {
      "cell_type": "code",
      "source": [
        "print(len(smogn_csv))"
      ],
      "metadata": {
        "colab": {
          "base_uri": "https://localhost:8080/"
        },
        "id": "kjHeaJOUIn3p",
        "outputId": "86224725-c782-4af2-e1fe-e6739b840818"
      },
      "execution_count": null,
      "outputs": [
        {
          "output_type": "stream",
          "name": "stdout",
          "text": [
            "5202\n"
          ]
        }
      ]
    },
    {
      "cell_type": "code",
      "source": [
        "X_smote=smote_csv.drop(['처리효율'],axis=1)\n",
        "Y_smote=smote_csv['처리효율']"
      ],
      "metadata": {
        "id": "Xl1QBxt2vCN5"
      },
      "execution_count": null,
      "outputs": []
    },
    {
      "cell_type": "code",
      "source": [
        "X_gan=gan_csv.drop(['처리효율'],axis=1)\n",
        "Y_gan=gan_csv['처리효율']"
      ],
      "metadata": {
        "id": "gkjPp5sPwP7p"
      },
      "execution_count": null,
      "outputs": []
    },
    {
      "cell_type": "code",
      "source": [
        "X_smogn=smogn_csv.drop(['처리효율'],axis=1)\n",
        "Y_smogn=smogn_csv['처리효율']"
      ],
      "metadata": {
        "id": "fz6kAIuReuhd"
      },
      "execution_count": null,
      "outputs": []
    },
    {
      "cell_type": "code",
      "source": [
        "X=test.drop(['처리효율'],axis=1)\n",
        "Y=test['처리효율']"
      ],
      "metadata": {
        "id": "O3-iAmTeiceO"
      },
      "execution_count": null,
      "outputs": []
    },
    {
      "cell_type": "code",
      "source": [
        "from sklearn.preprocessing import StandardScaler\n",
        "scaler = StandardScaler()    \n",
        "scaler.fit(X)\n",
        "df_scaled = scaler.transform(X)\n",
        "X = pd.DataFrame(df_scaled, columns= ['시설용량', '생물학적', '고도', '유입하수량', '생물학적 유입하수량', '고도 유입하수량', '방류량',\n",
        "       '생물학적 방류량', '고도 방류량', '유입 COD', '방류 COD', '유입 SS', '방류 SS', '유입 T-N',\n",
        "       '방류 T-N', '유입 T-P', '방류 T-P', '유입 총대장균군수', '방류 총대장균군수', '처리부하량',\n",
        "       '연계처리량_분뇨', '연계처리량_축산', '연계처리량_침출수', '연계처리량_기타', '사업비(백만원)',\n",
        "       '목표수질(BOD)_0', '목표수질(BOD)_1', '목표수질(BOD)_2', '재생에너지 이용률', '총 에너지사용량',\n",
        "       '총 전력사용량', '자체 에너지사용량', '하수처리량당 (CO2)배출량', '위탁비용', '직원총수(명)', '안전사고건수',\n",
        "       '시도_0', '시도_1', '시도_2', '시도_3', '시도_4', '운영주체_0', '운영주체_1', '지역구분_0',\n",
        "       '지역구분_1', '지역구분_2', '수계_0', '수계_1', '수계_2', '준공일_day', '가동개시일_day',\n",
        "       '방류수소독방법_염소', '방류수소독방법_자외선', '방류수소독방법_오존', '방류수소독방법_기타'])\n",
        "\n"
      ],
      "metadata": {
        "id": "dXyvAmSlvSff"
      },
      "execution_count": null,
      "outputs": []
    },
    {
      "cell_type": "code",
      "source": [
        "from sklearn.preprocessing import StandardScaler\n",
        "scaler = StandardScaler()    \n",
        "scaler.fit(X_smote)\n",
        "df_scaled1 = scaler.transform(X_smote)\n",
        "X_smote = pd.DataFrame(df_scaled1, columns= ['시설용량', '생물학적', '고도', '유입하수량', '생물학적 유입하수량', '고도 유입하수량', '방류량',\n",
        "       '생물학적 방류량', '고도 방류량', '유입 COD', '방류 COD', '유입 SS', '방류 SS', '유입 T-N',\n",
        "       '방류 T-N', '유입 T-P', '방류 T-P', '유입 총대장균군수', '방류 총대장균군수', '처리부하량',\n",
        "       '연계처리량_분뇨', '연계처리량_축산', '연계처리량_침출수', '연계처리량_기타', '사업비(백만원)',\n",
        "       '목표수질(BOD)_0', '목표수질(BOD)_1', '목표수질(BOD)_2', '재생에너지 이용률', '총 에너지사용량',\n",
        "       '총 전력사용량', '자체 에너지사용량', '하수처리량당 (CO2)배출량', '위탁비용', '직원총수(명)', '안전사고건수',\n",
        "       '시도_0', '시도_1', '시도_2', '시도_3', '시도_4', '운영주체_0', '운영주체_1', '지역구분_0',\n",
        "       '지역구분_1', '지역구분_2', '수계_0', '수계_1', '수계_2', '준공일_day', '가동개시일_day',\n",
        "       '방류수소독방법_염소', '방류수소독방법_자외선', '방류수소독방법_오존', '방류수소독방법_기타'])\n",
        "\n"
      ],
      "metadata": {
        "id": "d01D9byfwzKH"
      },
      "execution_count": null,
      "outputs": []
    },
    {
      "cell_type": "code",
      "source": [
        "from sklearn.preprocessing import StandardScaler\n",
        "scaler = StandardScaler()    \n",
        "scaler.fit(X_gan)\n",
        "df_scaled1 = scaler.transform(X_gan)\n",
        "X_gan = pd.DataFrame(df_scaled1, columns= ['시설용량', '생물학적', '고도', '유입하수량', '생물학적 유입하수량', '고도 유입하수량', '방류량',\n",
        "       '생물학적 방류량', '고도 방류량', '유입 COD', '방류 COD', '유입 SS', '방류 SS', '유입 T-N',\n",
        "       '방류 T-N', '유입 T-P', '방류 T-P', '유입 총대장균군수', '방류 총대장균군수', '처리부하량',\n",
        "       '연계처리량_분뇨', '연계처리량_축산', '연계처리량_침출수', '연계처리량_기타', '사업비(백만원)',\n",
        "       '목표수질(BOD)_0', '목표수질(BOD)_1', '목표수질(BOD)_2', '재생에너지 이용률', '총 에너지사용량',\n",
        "       '총 전력사용량', '자체 에너지사용량', '하수처리량당 (CO2)배출량', '위탁비용', '직원총수(명)', '안전사고건수',\n",
        "       '시도_0', '시도_1', '시도_2', '시도_3', '시도_4', '운영주체_0', '운영주체_1', '지역구분_0',\n",
        "       '지역구분_1', '지역구분_2', '수계_0', '수계_1', '수계_2', '준공일_day', '가동개시일_day',\n",
        "       '방류수소독방법_염소', '방류수소독방법_자외선', '방류수소독방법_오존', '방류수소독방법_기타'])\n",
        "\n"
      ],
      "metadata": {
        "id": "0Et3U71gifDz"
      },
      "execution_count": null,
      "outputs": []
    },
    {
      "cell_type": "code",
      "source": [
        "from sklearn.preprocessing import StandardScaler\n",
        "scaler = StandardScaler()    \n",
        "scaler.fit(X_smogn)\n",
        "df_scaled1 = scaler.transform(X_smogn)\n",
        "X_smogn = pd.DataFrame(df_scaled1, columns= ['시설용량', '생물학적', '고도', '유입하수량', '생물학적 유입하수량', '고도 유입하수량', '방류량',\n",
        "       '생물학적 방류량', '고도 방류량', '유입 COD', '방류 COD', '유입 SS', '방류 SS', '유입 T-N',\n",
        "       '방류 T-N', '유입 T-P', '방류 T-P', '유입 총대장균군수', '방류 총대장균군수', '처리부하량',\n",
        "       '연계처리량_분뇨', '연계처리량_축산', '연계처리량_침출수', '연계처리량_기타', '사업비(백만원)',\n",
        "       '목표수질(BOD)_0', '목표수질(BOD)_1', '목표수질(BOD)_2', '재생에너지 이용률', '총 에너지사용량',\n",
        "       '총 전력사용량', '자체 에너지사용량', '하수처리량당 (CO2)배출량', '위탁비용', '직원총수(명)', '안전사고건수',\n",
        "       '시도_0', '시도_1', '시도_2', '시도_3', '시도_4', '운영주체_0', '운영주체_1', '지역구분_0',\n",
        "       '지역구분_1', '지역구분_2', '수계_0', '수계_1', '수계_2', '준공일_day', '가동개시일_day',\n",
        "       '방류수소독방법_염소', '방류수소독방법_자외선', '방류수소독방법_오존', '방류수소독방법_기타'])\n",
        "\n"
      ],
      "metadata": {
        "id": "HX7xClGqf9eX"
      },
      "execution_count": null,
      "outputs": []
    },
    {
      "cell_type": "code",
      "source": [
        "from sklearn.preprocessing import StandardScaler\n",
        "scaler = StandardScaler()    \n",
        "scaler.fit(X_smote)\n",
        "df_scaled1 = scaler.transform(X_smote)\n",
        "X_smote = pd.DataFrame(df_scaled1, columns= ['시설용량', '생물학적', '고도', '유입하수량', '생물학적 유입하수량', '고도 유입하수량', '방류량',\n",
        "       '생물학적 방류량', '고도 방류량', '유입 COD', '방류 COD', '유입 SS', '방류 SS', '유입 T-N',\n",
        "       '방류 T-N', '유입 T-P', '방류 T-P', '유입 총대장균군수', '방류 총대장균군수', '처리부하량',\n",
        "       '연계처리량_분뇨', '연계처리량_축산', '연계처리량_침출수', '연계처리량_기타', '사업비(백만원)',\n",
        "       '목표수질(BOD)_0', '목표수질(BOD)_1', '목표수질(BOD)_2', '재생에너지 이용률', '총 에너지사용량',\n",
        "       '총 전력사용량', '자체 에너지사용량', '하수처리량당 (CO2)배출량', '위탁비용', '직원총수(명)', '안전사고건수',\n",
        "       '시도_0', '시도_1', '시도_2', '시도_3', '시도_4', '운영주체_0', '운영주체_1', '지역구분_0',\n",
        "       '지역구분_1', '지역구분_2', '수계_0', '수계_1', '수계_2', '준공일_day', '가동개시일_day',\n",
        "       '방류수소독방법_염소', '방류수소독방법_자외선', '방류수소독방법_오존', '방류수소독방법_기타'])\n",
        "\n"
      ],
      "metadata": {
        "id": "65vAt6WFh1SI"
      },
      "execution_count": null,
      "outputs": []
    },
    {
      "cell_type": "code",
      "source": [
        "from sklearn.model_selection import train_test_split\n",
        "#X_train, X_test, Y_train, Y_test = train_test_split(X, Y, test_size=0.3)\n",
        "\n",
        "#X_train1, X_test1, Y_train1, Y_test1 = train_test_split(X_gan, Y_gan, test_size=0.3)\n",
        "X_train1, X_test1, Y_train1, Y_test1 = train_test_split(X_smogn, Y_smogn, test_size=0.3)\n",
        "#X_train1, X_test1, Y_train1, Y_test1 = train_test_split(X_smote, Y_smote, test_size=0.3)"
      ],
      "metadata": {
        "id": "VYs1vecsvCN6"
      },
      "execution_count": null,
      "outputs": []
    },
    {
      "cell_type": "code",
      "source": [
        "from sklearn.linear_model import Lasso\n",
        "from sklearn.ensemble import AdaBoostClassifier\n",
        "from sklearn.metrics import accuracy_score\n",
        "from sklearn.model_selection import GridSearchCV\n",
        "from sklearn.metrics import mean_squared_error, make_scorer, r2_score\n",
        "\n",
        "abreg = AdaBoostRegressor()\n",
        "params = {\n",
        " 'n_estimators': [50, 100],\n",
        " 'learning_rate' : [0.01, 0.05, 0.1, 0.5],\n",
        " 'loss' : ['linear', 'square', 'exponential']\n",
        " }\n",
        "\n",
        "score = make_scorer(mean_squared_error)\n",
        "\n",
        "gridsearch = GridSearchCV(abreg, params, cv=5, return_train_score=True)\n",
        "gridsearch.fit(X_train1, Y_train1)\n",
        "print(gridsearch.best_params_)\n",
        "\n",
        "best_estim=gridsearch.best_estimator_\n",
        "print(best_estim)"
      ],
      "metadata": {
        "colab": {
          "base_uri": "https://localhost:8080/"
        },
        "id": "9Oo-Y_qtJ9Ak",
        "outputId": "c7ecef84-cfff-47f2-a8a9-5fcb8eaa53de"
      },
      "execution_count": null,
      "outputs": [
        {
          "output_type": "stream",
          "name": "stdout",
          "text": [
            "{'learning_rate': 0.5, 'loss': 'exponential', 'n_estimators': 50}\n",
            "AdaBoostRegressor(learning_rate=0.5, loss='exponential')\n"
          ]
        }
      ]
    },
    {
      "cell_type": "code",
      "source": [
        "import math\n",
        "best_estim.fit(X_train1,Y_train1)\n",
        "\n",
        "ytr_pred=best_estim.predict(X_train1)\n",
        "mse = mean_squared_error(ytr_pred,Y_train1)\n",
        "r2 = r2_score(ytr_pred,Y_train1)\n",
        "print(\"MSE: %.2f\" % mse)\n",
        "print(\"R2: %.2f\" % r2)\n",
        "\n",
        "ypred=best_estim.predict(X)\n",
        "mse = mean_squared_error(Y, ypred)\n",
        "r2 = r2_score(Y, ypred)\n",
        "rmse=math.sqrt(mean_squared_error(ypred, Y))\n",
        "print(\"MSE: %.2f\" % mse)\n",
        "print(\"R2: %.2f\" % r2)\n",
        "print(\"RMSE: %.2f\" %rmse)\n",
        "\n",
        "x_ax = range(len(Y))\n",
        "plt.scatter(x_ax, Y[:], s=5, color=\"blue\", label=\"original\")\n",
        "plt.plot(x_ax, ypred[:], lw=0.8, color=\"red\", label=\"predicted\")\n",
        "plt.legend()\n",
        "plt.show()"
      ],
      "metadata": {
        "colab": {
          "base_uri": "https://localhost:8080/",
          "height": 357
        },
        "id": "C080ZzJe_u1m",
        "outputId": "72a3cf35-a0cb-4ddf-a797-9130c4c54365"
      },
      "execution_count": null,
      "outputs": [
        {
          "output_type": "stream",
          "name": "stdout",
          "text": [
            "MSE: 127.70\n",
            "R2: -0.38\n",
            "MSE: 139.75\n",
            "R2: -6.94\n",
            "RMSE: 11.82\n"
          ]
        },
        {
          "output_type": "display_data",
          "data": {
            "text/plain": [
              "<Figure size 432x288 with 1 Axes>"
            ],
            "image/png": "[encoded data removed]"
          },
          "metadata": {
            "needs_background": "light"
          }
        }
      ]
    },
    {
      "cell_type": "code",
      "source": [
        "# visualizing in a plot\n",
        "x_ax = range(len(Y[:]))\n",
        "plt.figure(figsize=(12, 6))\n",
        "plt.plot(x_ax, Y[:], label=\"original\")\n",
        "plt.plot(x_ax, ypred[:], label=\"predicted\")\n",
        "plt.title(\"Adaboost Regressor\")\n",
        "plt.xlabel('X')\n",
        "plt.ylabel('Efficiency')\n",
        "plt.legend(loc='best',fancybox=True, shadow=True)\n",
        "plt.grid(True)\n",
        "plt.show()  "
      ],
      "metadata": {
        "colab": {
          "base_uri": "https://localhost:8080/",
          "height": 404
        },
        "id": "uUSi4QBjRd_v",
        "outputId": "decfff2a-476b-4312-fccb-f682815e60de"
      },
      "execution_count": null,
      "outputs": [
        {
          "output_type": "display_data",
          "data": {
            "text/plain": [
              "<Figure size 864x432 with 1 Axes>"
            ],
            "image/png": "[encoded data removed]"
          },
          "metadata": {
            "needs_background": "light"
          }
        }
      ]
    },
    {
      "cell_type": "markdown",
      "source": [
        "# **XGBoost + SHAP**"
      ],
      "metadata": {
        "id": "05cibTDhK0mQ"
      }
    },
    {
      "cell_type": "code",
      "source": [
        "!pip install shap"
      ],
      "metadata": {
        "colab": {
          "base_uri": "https://localhost:8080/"
        },
        "id": "KplO4HdkK0Kt",
        "outputId": "c9625bef-28e2-464e-d237-52e4fde26566"
      },
      "execution_count": null,
      "outputs": [
        {
          "output_type": "stream",
          "name": "stdout",
          "text": [
            "Looking in indexes: https://pypi.org/simple, https://us-python.pkg.dev/colab-wheels/public/simple/\n",
            "Collecting shap\n",
            "  Downloading shap-0.40.0-cp37-cp37m-manylinux2010_x86_64.whl (564 kB)\n",
            "\u001b[K     |████████████████████████████████| 564 kB 5.0 MB/s \n",
            "\u001b[?25hRequirement already satisfied: cloudpickle in /usr/local/lib/python3.7/dist-packages (from shap) (1.3.0)\n",
            "Requirement already satisfied: pandas in /usr/local/lib/python3.7/dist-packages (from shap) (1.3.5)\n",
            "Requirement already satisfied: numba in /usr/local/lib/python3.7/dist-packages (from shap) (0.51.2)\n",
            "Requirement already satisfied: tqdm>4.25.0 in /usr/local/lib/python3.7/dist-packages (from shap) (4.64.0)\n",
            "Requirement already satisfied: scipy in /usr/local/lib/python3.7/dist-packages (from shap) (1.4.1)\n",
            "Collecting slicer==0.0.7\n",
            "  Downloading slicer-0.0.7-py3-none-any.whl (14 kB)\n",
            "Requirement already satisfied: numpy in /usr/local/lib/python3.7/dist-packages (from shap) (1.21.6)\n",
            "Requirement already satisfied: packaging>20.9 in /usr/local/lib/python3.7/dist-packages (from shap) (21.3)\n",
            "Requirement already satisfied: scikit-learn in /usr/local/lib/python3.7/dist-packages (from shap) (1.0.2)\n",
            "Requirement already satisfied: pyparsing!=3.0.5,>=2.0.2 in /usr/local/lib/python3.7/dist-packages (from packaging>20.9->shap) (3.0.9)\n",
            "Requirement already satisfied: llvmlite<0.35,>=0.34.0.dev0 in /usr/local/lib/python3.7/dist-packages (from numba->shap) (0.34.0)\n",
            "Requirement already satisfied: setuptools in /usr/local/lib/python3.7/dist-packages (from numba->shap) (57.4.0)\n",
            "Requirement already satisfied: python-dateutil>=2.7.3 in /usr/local/lib/python3.7/dist-packages (from pandas->shap) (2.8.2)\n",
            "Requirement already satisfied: pytz>=2017.3 in /usr/local/lib/python3.7/dist-packages (from pandas->shap) (2022.1)\n",
            "Requirement already satisfied: six>=1.5 in /usr/local/lib/python3.7/dist-packages (from python-dateutil>=2.7.3->pandas->shap) (1.15.0)\n",
            "Requirement already satisfied: threadpoolctl>=2.0.0 in /usr/local/lib/python3.7/dist-packages (from scikit-learn->shap) (3.1.0)\n",
            "Requirement already satisfied: joblib>=0.11 in /usr/local/lib/python3.7/dist-packages (from scikit-learn->shap) (1.1.0)\n",
            "Installing collected packages: slicer, shap\n",
            "Successfully installed shap-0.40.0 slicer-0.0.7\n"
          ]
        }
      ]
    },
    {
      "cell_type": "code",
      "source": [
        "import xgboost\n",
        "import shap"
      ],
      "metadata": {
        "id": "Bx05dlNgLFc_"
      },
      "execution_count": null,
      "outputs": []
    },
    {
      "cell_type": "code",
      "source": [
        "from sklearn.model_selection import train_test_split\n",
        "\n",
        "X11=all.drop(['처리효율', '생물학적', '고도', '유입하수량', '생물학적 유입하수량', '고도 유입하수량', '방류량',\n",
        "       '생물학적 방류량', '고도 방류량', '유입 COD', '방류 COD', '유입 SS', '방류 SS', '유입 T-N',\n",
        "       '방류 T-N', '유입 T-P', '방류 T-P', '유입 총대장균군수', '방류 총대장균군수','처리부하량'],axis=1)\n",
        "Y11=all['처리효율']\n",
        "X_train11, X_test11, Y_train11, Y_test11 = train_test_split(X11, Y11, test_size=0.3)"
      ],
      "metadata": {
        "id": "9TSZHMOqk4NV"
      },
      "execution_count": null,
      "outputs": []
    },
    {
      "cell_type": "code",
      "source": [
        "all['시도_4']"
      ],
      "metadata": {
        "colab": {
          "base_uri": "https://localhost:8080/"
        },
        "id": "0K138tZu41KW",
        "outputId": "5e494e9a-e2b8-41b8-87d8-d86ecb6070cb"
      },
      "execution_count": null,
      "outputs": [
        {
          "output_type": "execute_result",
          "data": {
            "text/plain": [
              "0      0\n",
              "1      0\n",
              "2      1\n",
              "3      0\n",
              "4      0\n",
              "      ..\n",
              "820    1\n",
              "821    0\n",
              "822    0\n",
              "823    0\n",
              "824    1\n",
              "Name: 시도_4, Length: 4261, dtype: int64"
            ]
          },
          "metadata": {},
          "execution_count": 55
        }
      ]
    },
    {
      "cell_type": "code",
      "source": [
        "from sklearn.datasets import load_boston\n",
        "import xgboost\n",
        "import matplotlib.pyplot as plt\n",
        "from sklearn.model_selection import train_test_split\n",
        "from sklearn.metrics import explained_variance_score\n",
        "\n",
        "#X_train, X_test, y_train, y_test = train_test_split(boston.data, boston.target ,test_size=0.1)\n",
        "xgb_model = xgboost.XGBRegressor(n_estimators=100, learning_rate=0.08, gamma=0, subsample=0.75,\n",
        "                           colsample_bytree=1, max_depth=7)\n",
        "\n",
        "print(len(X_train11), len(X_test11))\n",
        "xgb_model.fit(X_train11,Y_train11)"
      ],
      "metadata": {
        "colab": {
          "base_uri": "https://localhost:8080/"
        },
        "id": "NhHZ4xQBNux_",
        "outputId": "460f099d-1cb1-4a5e-e01e-21c281251c82"
      },
      "execution_count": null,
      "outputs": [
        {
          "output_type": "stream",
          "name": "stdout",
          "text": [
            "2982 1279\n",
            "[12:37:56] WARNING: /workspace/src/objective/regression_obj.cu:152: reg:linear is now deprecated in favor of reg:squarederror.\n"
          ]
        },
        {
          "output_type": "execute_result",
          "data": {
            "text/plain": [
              "XGBRegressor(learning_rate=0.08, max_depth=7, subsample=0.75)"
            ]
          },
          "metadata": {},
          "execution_count": 44
        }
      ]
    },
    {
      "cell_type": "code",
      "source": [
        "plt.rc('font', family='NanumBarunGothic')\n",
        "plt.figure(figsize=(50,70))\n",
        "xgboost.plot_importance(xgb_model)"
      ],
      "metadata": {
        "colab": {
          "base_uri": "https://localhost:8080/",
          "height": 331
        },
        "id": "NtvJHuwNObS0",
        "outputId": "463c2b0d-c635-4b90-8deb-ed2db1a79c04"
      },
      "execution_count": null,
      "outputs": [
        {
          "output_type": "execute_result",
          "data": {
            "text/plain": [
              "<matplotlib.axes._subplots.AxesSubplot at 0x7f78d3e51150>"
            ]
          },
          "metadata": {},
          "execution_count": 18
        },
        {
          "output_type": "display_data",
          "data": {
            "text/plain": [
              "<Figure size 3600x5040 with 0 Axes>"
            ]
          },
          "metadata": {}
        },
        {
          "output_type": "display_data",
          "data": {
            "text/plain": [
              "<Figure size 432x288 with 1 Axes>"
            ],
            "image/png": "[encoded data removed]"
          },
          "metadata": {
            "needs_background": "light"
          }
        }
      ]
    },
    {
      "cell_type": "code",
      "source": [
        "predictions = xgb_model.predict(X_test11)\n",
        "predictions"
      ],
      "metadata": {
        "colab": {
          "base_uri": "https://localhost:8080/"
        },
        "id": "2ljv_x8DOeGL",
        "outputId": "579c422a-0051-40da-b8d7-6d777d42092d"
      },
      "execution_count": null,
      "outputs": [
        {
          "output_type": "execute_result",
          "data": {
            "text/plain": [
              "array([93.95237, 96.53506, 95.90624, ..., 93.80204, 97.03144, 95.98838],\n",
              "      dtype=float32)"
            ]
          },
          "metadata": {},
          "execution_count": 45
        }
      ]
    },
    {
      "cell_type": "code",
      "source": [
        "r_sq = xgb_model.score(X_train11, Y_train11)\n",
        "print(r_sq)\n",
        "print(explained_variance_score(predictions,Y_test11))"
      ],
      "metadata": {
        "colab": {
          "base_uri": "https://localhost:8080/"
        },
        "id": "44Q5sKMjOgB2",
        "outputId": "96f47386-5ecb-40e3-d35a-fd66e9aa1873"
      },
      "execution_count": null,
      "outputs": [
        {
          "output_type": "stream",
          "name": "stdout",
          "text": [
            "0.8485211208484822\n",
            "-0.8061909780707281\n"
          ]
        }
      ]
    },
    {
      "cell_type": "markdown",
      "source": [
        "shap"
      ],
      "metadata": {
        "id": "BK8rHsRMbVyH"
      }
    },
    {
      "cell_type": "code",
      "source": [
        "Y_train11[Y_train11<50]"
      ],
      "metadata": {
        "colab": {
          "base_uri": "https://localhost:8080/"
        },
        "id": "OgQH3lbc7ZNe",
        "outputId": "de3f2d03-8871-4ff3-b5d3-1e2c83648bcf"
      },
      "execution_count": null,
      "outputs": [
        {
          "output_type": "execute_result",
          "data": {
            "text/plain": [
              "19    28.0\n",
              "32    46.1\n",
              "44    47.2\n",
              "Name: 처리효율, dtype: float64"
            ]
          },
          "metadata": {},
          "execution_count": 76
        }
      ]
    },
    {
      "cell_type": "code",
      "source": [
        "Y_train11[Y_train11<50].index"
      ],
      "metadata": {
        "colab": {
          "base_uri": "https://localhost:8080/"
        },
        "id": "nqOdj-jl6drY",
        "outputId": "f5c50223-bfea-4eb8-c2d9-c9cb3af752c8"
      },
      "execution_count": null,
      "outputs": [
        {
          "output_type": "execute_result",
          "data": {
            "text/plain": [
              "Int64Index([19, 32, 44], dtype='int64')"
            ]
          },
          "metadata": {},
          "execution_count": 72
        }
      ]
    },
    {
      "cell_type": "code",
      "source": [
        "# train an XGBoost model\n",
        "#X, y = shap.datasets.boston()\n",
        "#model = xgboost.XGBRegressor().fit(X_train, Y_train)\n",
        "\n",
        "# explain the model's predictions using SHAP\n",
        "# (same syntax works for LightGBM, CatBoost, scikit-learn, transformers, Spark, etc.)\n",
        "explainer = shap.Explainer(xgb_model)\n",
        "shap_values = explainer(X_train11)\n",
        "\n",
        "# visualize the first prediction's explanation\n"
      ],
      "metadata": {
        "id": "_UB9g-vwNQTk"
      },
      "execution_count": null,
      "outputs": []
    },
    {
      "cell_type": "code",
      "source": [
        "X_train11.reindex()\n",
        "Y_train11.reindex()"
      ],
      "metadata": {
        "colab": {
          "base_uri": "https://localhost:8080/"
        },
        "id": "F9OgT31D7d2B",
        "outputId": "b06b3827-a141-4d89-b86b-730e13d4b53d"
      },
      "execution_count": null,
      "outputs": [
        {
          "output_type": "execute_result",
          "data": {
            "text/plain": [
              "405     97.1\n",
              "2385    98.7\n",
              "1719    91.9\n",
              "389     96.1\n",
              "179     97.5\n",
              "        ... \n",
              "965     95.3\n",
              "10      95.7\n",
              "1815    98.9\n",
              "1202    98.9\n",
              "782     94.6\n",
              "Name: 처리효율, Length: 2982, dtype: float64"
            ]
          },
          "metadata": {},
          "execution_count": 78
        }
      ]
    },
    {
      "cell_type": "code",
      "source": [
        "shap.plots.waterfall(shap_values[44])"
      ],
      "metadata": {
        "colab": {
          "base_uri": "https://localhost:8080/",
          "height": 443
        },
        "id": "Pv7Z3CTWp2Rr",
        "outputId": "6fa43374-a63d-4be6-a0ce-e5cdbfe92989"
      },
      "execution_count": null,
      "outputs": [
        {
          "output_type": "display_data",
          "data": {
            "text/plain": [
              "<Figure size 576x468 with 3 Axes>"
            ],
            "image/png": "[encoded data removed]"
          },
          "metadata": {}
        }
      ]
    },
    {
      "cell_type": "code",
      "source": [
        "shap.plots.scatter(shap_values[:,\"총 전력사용량\"], color=shap_values)"
      ],
      "metadata": {
        "colab": {
          "base_uri": "https://localhost:8080/",
          "height": 340
        },
        "id": "-EhJsWkfbkuI",
        "outputId": "c06fe54d-8443-450a-de2f-e7265ba9894c"
      },
      "execution_count": null,
      "outputs": [
        {
          "output_type": "display_data",
          "data": {
            "text/plain": [
              "<Figure size 540x360 with 3 Axes>"
            ],
            "image/png": "[encoded data removed]"
          },
          "metadata": {
            "needs_background": "light"
          }
        }
      ]
    },
    {
      "cell_type": "code",
      "source": [
        "shap.plots.beeswarm(shap_values)"
      ],
      "metadata": {
        "colab": {
          "base_uri": "https://localhost:8080/",
          "height": 371
        },
        "id": "snRdYLIEZNqY",
        "outputId": "b33c4ced-7119-4c94-fae5-52e34ae954de"
      },
      "execution_count": null,
      "outputs": [
        {
          "output_type": "display_data",
          "data": {
            "text/plain": [
              "<Figure size 576x396 with 2 Axes>"
            ],
            "image/png": "[encoded data removed]"
          },
          "metadata": {
            "needs_background": "light"
          }
        }
      ]
    },
    {
      "cell_type": "code",
      "source": [
        "shap.plots.bar(shap_values)"
      ],
      "metadata": {
        "colab": {
          "base_uri": "https://localhost:8080/",
          "height": 421
        },
        "id": "RYkJz39vZVNe",
        "outputId": "d9c66b07-71e5-4a7f-8644-1af84cc7fdca"
      },
      "execution_count": null,
      "outputs": [
        {
          "output_type": "display_data",
          "data": {
            "text/plain": [
              "<Figure size 576x468 with 1 Axes>"
            ],
            "image/png": "[encoded data removed]"
          },
          "metadata": {}
        }
      ]
    },
    {
      "cell_type": "code",
      "source": [
        "shap.plots.heatmap(shap_values[:10])\n"
      ],
      "metadata": {
        "id": "VEph2DQ87aYb",
        "colab": {
          "base_uri": "https://localhost:8080/",
          "height": 410
        },
        "outputId": "8be0e855-5b25-41fd-da2f-a08b1b384627"
      },
      "execution_count": null,
      "outputs": [
        {
          "output_type": "display_data",
          "data": {
            "text/plain": [
              "<Figure size 576x540 with 2 Axes>"
            ],
            "image/png": "[encoded data removed]"
          },
          "metadata": {
            "needs_background": "light"
          }
        }
      ]
    },
    {
      "cell_type": "code",
      "source": [
        ""
      ],
      "metadata": {
        "id": "2XeOHL7p3fnE"
      },
      "execution_count": null,
      "outputs": []
    }
  ]
}