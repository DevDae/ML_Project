{
  "cells": [
    {
      "cell_type": "markdown",
      "metadata": {
        "id": "view-in-github",
        "colab_type": "text"
      },
      "source": [
        "<a href=\"https://colab.research.google.com/github/DevDae/ML_Project/blob/main/catboost.ipynb\" target=\"_parent\"><img src=\"https://colab.research.google.com/assets/colab-badge.svg\" alt=\"Open In Colab\"/></a>"
      ]
    },
    {
      "cell_type": "code",
      "execution_count": null,
      "metadata": {
        "id": "dQ1xT5mfbweu"
      },
      "outputs": [],
      "source": [
        "import numpy as np\n",
        "import pandas as pd\n",
        "import matplotlib.pyplot as plt"
      ]
    },
    {
      "cell_type": "code",
      "source": [
        "!sudo apt-get install -y fonts-nanum\n",
        "!sudo fc-cache -fv\n",
        "!rm ~/.cache/matplotlib -rf"
      ],
      "metadata": {
        "colab": {
          "base_uri": "https://localhost:8080/"
        },
        "id": "H7xeFJxcpqnd",
        "outputId": "6799a33c-c6c8-46e0-defe-9a1edb347f59"
      },
      "execution_count": null,
      "outputs": [
        {
          "output_type": "stream",
          "name": "stdout",
          "text": [
            "Reading package lists... Done\n",
            "Building dependency tree       \n",
            "Reading state information... Done\n",
            "fonts-nanum is already the newest version (20170925-1).\n",
            "The following package was automatically installed and is no longer required:\n",
            "  libnvidia-common-460\n",
            "Use 'sudo apt autoremove' to remove it.\n",
            "0 upgraded, 0 newly installed, 0 to remove and 45 not upgraded.\n",
            "/usr/share/fonts: caching, new cache contents: 0 fonts, 1 dirs\n",
            "/usr/share/fonts/truetype: caching, new cache contents: 0 fonts, 3 dirs\n",
            "/usr/share/fonts/truetype/humor-sans: caching, new cache contents: 1 fonts, 0 dirs\n",
            "/usr/share/fonts/truetype/liberation: caching, new cache contents: 16 fonts, 0 dirs\n",
            "/usr/share/fonts/truetype/nanum: caching, new cache contents: 10 fonts, 0 dirs\n",
            "/usr/local/share/fonts: caching, new cache contents: 0 fonts, 0 dirs\n",
            "/root/.local/share/fonts: skipping, no such directory\n",
            "/root/.fonts: skipping, no such directory\n",
            "/var/cache/fontconfig: cleaning cache directory\n",
            "/root/.cache/fontconfig: not cleaning non-existent cache directory\n",
            "/root/.fontconfig: not cleaning non-existent cache directory\n",
            "fc-cache: succeeded\n"
          ]
        }
      ]
    },
    {
      "cell_type": "code",
      "source": [
        "plt.rc('font', family='NanumBarunGothic')"
      ],
      "metadata": {
        "id": "QKrZkCa0pz9e"
      },
      "execution_count": null,
      "outputs": []
    },
    {
      "cell_type": "code",
      "execution_count": null,
      "metadata": {
        "id": "-QswoYJYbwe4"
      },
      "outputs": [],
      "source": [
        "import warnings\n",
        "warnings.filterwarnings('ignore')"
      ]
    },
    {
      "cell_type": "code",
      "source": [
        "from google.colab import drive\n",
        "drive.mount('/content/drive')"
      ],
      "metadata": {
        "colab": {
          "base_uri": "https://localhost:8080/"
        },
        "id": "DZTzlZ6scKTm",
        "outputId": "043a2538-7497-4af4-8b2f-45e491c6a02b"
      },
      "execution_count": null,
      "outputs": [
        {
          "output_type": "stream",
          "name": "stdout",
          "text": [
            "Mounted at /content/drive\n"
          ]
        }
      ]
    },
    {
      "cell_type": "code",
      "execution_count": null,
      "metadata": {
        "id": "xYwl8dyXbwe6"
      },
      "outputs": [],
      "source": [
        "data = pd.read_csv('/content/drive/MyDrive/결측치완료.csv',encoding='cp949')"
      ]
    },
    {
      "cell_type": "code",
      "source": [
        "df = data.copy()"
      ],
      "metadata": {
        "id": "QQf3WAJG7EZl"
      },
      "execution_count": null,
      "outputs": []
    },
    {
      "cell_type": "code",
      "source": [
        "#범주형 변수 삭제\n",
        "#물리적 들어가는거 전부 0, 배타적, 직원총수 부정확한 데이터\n",
        "df = df.drop(['시설명', '소재지', '지류', '중심처리시설', '명칭', '적용신기술', '처리방법', '구군' ,'물리적', '물리적 유입하수량', '물리적 방류량',  ], axis=1)"
      ],
      "metadata": {
        "id": "jO0jxKjxpUxy"
      },
      "execution_count": null,
      "outputs": []
    },
    {
      "cell_type": "code",
      "source": [
        "#처리효율이 0인 값들은 유입 방류되는 값이 존재하지 않음\n",
        "deleteIndex = df[df['처리효율']== 0].index\n",
        "df = df.drop(deleteIndex)"
      ],
      "metadata": {
        "id": "ICJNIXF5yGc5"
      },
      "execution_count": null,
      "outputs": []
    },
    {
      "cell_type": "code",
      "source": [
        "from sklearn.model_selection import train_test_split"
      ],
      "metadata": {
        "id": "avY0JErIp0s7"
      },
      "execution_count": null,
      "outputs": []
    },
    {
      "cell_type": "code",
      "source": [
        "#정규화하기 위해 분리, 나중에 concat 예정\n",
        "dataX_con = df.drop([ '방류수 소독방법','목표수질(BOD)', '시도', '운영주체', '지역구분', '세부단위 구역', '수계','처리효율' ], axis=1)\n",
        "dataX_cat = df[['방류수 소독방법','목표수질(BOD)', '시도', '운영주체', '지역구분', '세부단위 구역', '수계']]"
      ],
      "metadata": {
        "id": "GsgGhVi5eUP0"
      },
      "execution_count": null,
      "outputs": []
    },
    {
      "cell_type": "code",
      "source": [
        "#나중에 열이름 다시 붙여줘야함\n",
        "dataColumn = dataX_con.columns"
      ],
      "metadata": {
        "id": "qwWqPsACh33R"
      },
      "execution_count": null,
      "outputs": []
    },
    {
      "cell_type": "code",
      "source": [
        "dataY = pd.DataFrame(df['처리효율'])"
      ],
      "metadata": {
        "id": "rYFRUTo1q5t6"
      },
      "execution_count": null,
      "outputs": []
    },
    {
      "cell_type": "code",
      "source": [
        "from sklearn.preprocessing import MinMaxScaler\n",
        "scaler = MinMaxScaler()\n",
        "dataX_con = scaler.fit_transform(dataX_con)"
      ],
      "metadata": {
        "id": "xHr4M3WD3vOV"
      },
      "execution_count": null,
      "outputs": []
    },
    {
      "cell_type": "code",
      "source": [
        "dataX_con = pd.DataFrame(dataX_con,columns = dataColumn)"
      ],
      "metadata": {
        "id": "AyXhjrcDhRWy"
      },
      "execution_count": null,
      "outputs": []
    },
    {
      "cell_type": "code",
      "source": [
        "#인덱스 초기화 및 재설정\n",
        "dataX_cat.reset_index(drop=True, inplace = True)"
      ],
      "metadata": {
        "id": "OVh0S0zKma5j"
      },
      "execution_count": null,
      "outputs": []
    },
    {
      "cell_type": "code",
      "source": [
        "dataX = pd.concat([dataX_cat,dataX_con],axis=1)"
      ],
      "metadata": {
        "id": "CFilvotwe2SG"
      },
      "execution_count": null,
      "outputs": []
    },
    {
      "cell_type": "markdown",
      "source": [
        "# **타겟변수 변환**"
      ],
      "metadata": {
        "id": "nD4MQ59Ax40W"
      }
    },
    {
      "cell_type": "code",
      "source": [
        "print('Skewness: {:05.2f}'.format(dataY['처리효율'].skew()) ,  '   ' ,  'Kurtosis: {:06.2f}'.format(dataY['처리효율'].kurt())  )"
      ],
      "metadata": {
        "colab": {
          "base_uri": "https://localhost:8080/"
        },
        "id": "ft0EebN65ky3",
        "outputId": "b7b1e701-69a0-4a59-9ee5-5c0524563368"
      },
      "execution_count": null,
      "outputs": [
        {
          "output_type": "stream",
          "name": "stdout",
          "text": [
            "Skewness: -10.63     Kurtosis: 132.50\n"
          ]
        }
      ]
    },
    {
      "cell_type": "code",
      "source": [
        "import seaborn as sns\n",
        "from matplotlib import pyplot as plt\n",
        "\n",
        "f, ax = plt.subplots(figsize = (10, 6))\n",
        "\n",
        "sns.distplot(dataY['처리효율'])"
      ],
      "metadata": {
        "colab": {
          "base_uri": "https://localhost:8080/",
          "height": 406
        },
        "id": "POLrBae56iER",
        "outputId": "435349e0-fa58-4f7f-f12c-4f2545661a77"
      },
      "execution_count": null,
      "outputs": [
        {
          "output_type": "execute_result",
          "data": {
            "text/plain": [
              "<matplotlib.axes._subplots.AxesSubplot at 0x7f3d86870dd0>"
            ]
          },
          "metadata": {},
          "execution_count": 10
        },
        {
          "output_type": "display_data",
          "data": {
            "text/plain": [
              "<Figure size 720x432 with 1 Axes>"
            ],
            "image/png": "[encoded data removed]"
          },
          "metadata": {
            "needs_background": "light"
          }
        }
      ]
    },
    {
      "cell_type": "code",
      "source": [
        "#처리효율에 대해 로그화\n",
        "dataY['로그_처리효율'] = np.log1p(dataY['처리효율'])\n",
        "\n",
        "f, ax = plt.subplots(figsize = (10, 6))\n",
        "\n",
        "sns.distplot(dataY['로그_처리효율'])\n",
        "\n",
        "print(\"Skewness: {:.3f}\".format(dataY['로그_처리효율'].skew()))\n",
        "print(\"Kurtosis: {:.3f}\".format(dataY['로그_처리효율'].kurt()))\n"
      ],
      "metadata": {
        "colab": {
          "base_uri": "https://localhost:8080/",
          "height": 424
        },
        "id": "Zc-29oOZ66op",
        "outputId": "5c6280d7-337e-46c8-dbc5-9a438e1e727c"
      },
      "execution_count": null,
      "outputs": [
        {
          "output_type": "stream",
          "name": "stdout",
          "text": [
            "Skewness: -14.507\n",
            "Kurtosis: 212.032\n"
          ]
        },
        {
          "output_type": "display_data",
          "data": {
            "text/plain": [
              "<Figure size 720x432 with 1 Axes>"
            ],
            "image/png": "[encoded data removed]"
          },
          "metadata": {
            "needs_background": "light"
          }
        }
      ]
    },
    {
      "cell_type": "code",
      "source": [
        "#처리효율에 대해 로그화\n",
        "dataY['sqrt_처리효율'] = np.sqrt(dataY['처리효율'])\n",
        "\n",
        "f, ax = plt.subplots(figsize = (10, 6))\n",
        "\n",
        "sns.distplot(dataY['sqrt_처리효율'])\n",
        "\n",
        "print(\"Skewness: {:.3f}\".format(dataY['sqrt_처리효율'].skew()))\n",
        "print(\"Kurtosis: {:.3f}\".format(dataY['sqrt_처리효율'].kurt()))\n"
      ],
      "metadata": {
        "colab": {
          "base_uri": "https://localhost:8080/",
          "height": 426
        },
        "id": "GF41zQzfGYED",
        "outputId": "bb354f3e-fef5-44cf-b915-6bfca3e700a5"
      },
      "execution_count": null,
      "outputs": [
        {
          "output_type": "stream",
          "name": "stdout",
          "text": [
            "Skewness: -13.305\n",
            "Kurtosis: 186.721\n"
          ]
        },
        {
          "output_type": "display_data",
          "data": {
            "text/plain": [
              "<Figure size 720x432 with 1 Axes>"
            ],
            "image/png": "[encoded data removed]"
          },
          "metadata": {
            "needs_background": "light"
          }
        }
      ]
    },
    {
      "cell_type": "code",
      "source": [
        "#처리효율과 sqrt처리효율 비교 \n",
        "#비슷함\n",
        "from scipy import stats\n",
        "\n",
        "fig = plt.figure(figsize = (15,10))\n",
        "\n",
        "ax1 = fig.add_subplot(1,2,1)\n",
        "res = stats.probplot(dataY['처리효율'], plot=plt)\n",
        "\n",
        "ax2 = fig.add_subplot(1,2,2)\n",
        "res = stats.probplot(dataY['sqrt_처리효율'], plot=plt)\n",
        "\n",
        "ax1.set_title(\"Probplot for 처리효율\")\n",
        "ax2.set_title(\"Probplot for sqrt_처리효율\")\n"
      ],
      "metadata": {
        "colab": {
          "base_uri": "https://localhost:8080/",
          "height": 639
        },
        "id": "BlU_0ZzkKMA-",
        "outputId": "bb4ac851-92ce-40f8-d298-a3d1f44fd931"
      },
      "execution_count": null,
      "outputs": [
        {
          "output_type": "execute_result",
          "data": {
            "text/plain": [
              "Text(0.5, 1.0, 'Probplot for sqrt_처리효율')"
            ]
          },
          "metadata": {},
          "execution_count": 15
        },
        {
          "output_type": "display_data",
          "data": {
            "text/plain": [
              "<Figure size 1080x720 with 2 Axes>"
            ],
            "image/png": "[encoded data removed]"
          },
          "metadata": {
            "needs_background": "light"
          }
        }
      ]
    },
    {
      "cell_type": "code",
      "source": [
        "#처리효율과 로그처리효율 비교\n",
        "#비슷함\n",
        "from scipy import stats\n",
        "\n",
        "fig = plt.figure(figsize = (15,10))\n",
        "\n",
        "ax1 = fig.add_subplot(1,2,1)\n",
        "res = stats.probplot(dataY['처리효율'], plot=plt)\n",
        "\n",
        "ax2 = fig.add_subplot(1,2,2)\n",
        "res = stats.probplot(dataY['로그_처리효율'], plot=plt)\n",
        "ax1.set_title(\"Probplot for 처리효율\")\n",
        "ax2.set_title(\"Probplot for 로그_처리효율\")\n"
      ],
      "metadata": {
        "colab": {
          "base_uri": "https://localhost:8080/",
          "height": 639
        },
        "id": "LvNOTEjZEyJm",
        "outputId": "773d44f4-d037-4921-cddf-80facdf6aff6"
      },
      "execution_count": null,
      "outputs": [
        {
          "output_type": "execute_result",
          "data": {
            "text/plain": [
              "Text(0.5, 1.0, 'Probplot for 로그_처리효율')"
            ]
          },
          "metadata": {},
          "execution_count": 17
        },
        {
          "output_type": "display_data",
          "data": {
            "text/plain": [
              "<Figure size 1080x720 with 2 Axes>"
            ],
            "image/png": "[encoded data removed]"
          },
          "metadata": {
            "needs_background": "light"
          }
        }
      ]
    },
    {
      "cell_type": "code",
      "source": [
        "#모델 돌릴 변수만 남기고 나머지 지우기\n",
        "dataY = dataY.drop(['로그_처리효율', 'sqrt_처리효율'], axis=1)"
      ],
      "metadata": {
        "id": "tuXh6-8f8mZ8"
      },
      "execution_count": null,
      "outputs": []
    },
    {
      "cell_type": "code",
      "source": [
        "x_train, x_test, y_train, y_test = train_test_split(dataX, dataY, train_size=0.7, test_size=0.3, random_state=2022)"
      ],
      "metadata": {
        "id": "joAJ5a2frJli"
      },
      "execution_count": null,
      "outputs": []
    },
    {
      "cell_type": "markdown",
      "source": [
        "# **CatBoost**"
      ],
      "metadata": {
        "id": "5PB0c0ImyDMX"
      }
    },
    {
      "cell_type": "code",
      "source": [
        "!pip install catboost"
      ],
      "metadata": {
        "colab": {
          "base_uri": "https://localhost:8080/"
        },
        "id": "4VfYFcoJpqdH",
        "outputId": "68585671-0232-4389-e4bb-a909ab45fbc5"
      },
      "execution_count": null,
      "outputs": [
        {
          "output_type": "stream",
          "name": "stdout",
          "text": [
            "Looking in indexes: https://pypi.org/simple, https://us-python.pkg.dev/colab-wheels/public/simple/\n",
            "Collecting catboost\n",
            "  Downloading catboost-1.0.6-cp37-none-manylinux1_x86_64.whl (76.6 MB)\n",
            "\u001b[K     |████████████████████████████████| 76.6 MB 1.3 MB/s \n",
            "\u001b[?25hRequirement already satisfied: graphviz in /usr/local/lib/python3.7/dist-packages (from catboost) (0.10.1)\n",
            "Requirement already satisfied: numpy>=1.16.0 in /usr/local/lib/python3.7/dist-packages (from catboost) (1.21.6)\n",
            "Requirement already satisfied: scipy in /usr/local/lib/python3.7/dist-packages (from catboost) (1.4.1)\n",
            "Requirement already satisfied: six in /usr/local/lib/python3.7/dist-packages (from catboost) (1.15.0)\n",
            "Requirement already satisfied: pandas>=0.24.0 in /usr/local/lib/python3.7/dist-packages (from catboost) (1.3.5)\n",
            "Requirement already satisfied: matplotlib in /usr/local/lib/python3.7/dist-packages (from catboost) (3.2.2)\n",
            "Requirement already satisfied: plotly in /usr/local/lib/python3.7/dist-packages (from catboost) (5.5.0)\n",
            "Requirement already satisfied: pytz>=2017.3 in /usr/local/lib/python3.7/dist-packages (from pandas>=0.24.0->catboost) (2022.1)\n",
            "Requirement already satisfied: python-dateutil>=2.7.3 in /usr/local/lib/python3.7/dist-packages (from pandas>=0.24.0->catboost) (2.8.2)\n",
            "Requirement already satisfied: cycler>=0.10 in /usr/local/lib/python3.7/dist-packages (from matplotlib->catboost) (0.11.0)\n",
            "Requirement already satisfied: kiwisolver>=1.0.1 in /usr/local/lib/python3.7/dist-packages (from matplotlib->catboost) (1.4.2)\n",
            "Requirement already satisfied: pyparsing!=2.0.4,!=2.1.2,!=2.1.6,>=2.0.1 in /usr/local/lib/python3.7/dist-packages (from matplotlib->catboost) (3.0.9)\n",
            "Requirement already satisfied: typing-extensions in /usr/local/lib/python3.7/dist-packages (from kiwisolver>=1.0.1->matplotlib->catboost) (4.2.0)\n",
            "Requirement already satisfied: tenacity>=6.2.0 in /usr/local/lib/python3.7/dist-packages (from plotly->catboost) (8.0.1)\n",
            "Installing collected packages: catboost\n",
            "Successfully installed catboost-1.0.6\n"
          ]
        }
      ]
    },
    {
      "cell_type": "code",
      "source": [
        "from catboost import CatBoostRegressor, Pool"
      ],
      "metadata": {
        "id": "5PbmUKB0ps6j"
      },
      "execution_count": null,
      "outputs": []
    },
    {
      "cell_type": "code",
      "source": [
        "cb = CatBoostRegressor(n_estimators=200,\n",
        "                       loss_function='RMSE',\n",
        "                       learning_rate=0.3,\n",
        "                       depth=5, task_type='CPU',\n",
        "                       random_state=2022,\n",
        "                       verbose=False)"
      ],
      "metadata": {
        "id": "92-yGLjzf2tC"
      },
      "execution_count": null,
      "outputs": []
    },
    {
      "cell_type": "code",
      "source": [
        "pool_train = Pool(x_train, y_train,\n",
        "                  cat_features = ['방류수 소독방법','목표수질(BOD)', '시도', '운영주체', '지역구분', '세부단위 구역', '수계'])"
      ],
      "metadata": {
        "id": "sw6im4Ddf77T"
      },
      "execution_count": null,
      "outputs": []
    },
    {
      "cell_type": "code",
      "source": [
        "pool_test = Pool(x_test, cat_features = ['방류수 소독방법','목표수질(BOD)', '시도', '운영주체', '지역구분', '세부단위 구역', '수계'])"
      ],
      "metadata": {
        "id": "i2vgpYwmgNtP"
      },
      "execution_count": null,
      "outputs": []
    },
    {
      "cell_type": "code",
      "source": [
        "cb.fit(pool_train)\n",
        "y_pred = cb.predict(pool_test)"
      ],
      "metadata": {
        "id": "BwJdub7WgXVo"
      },
      "execution_count": null,
      "outputs": []
    },
    {
      "cell_type": "code",
      "source": [
        "from sklearn.metrics import mean_squared_error as mse"
      ],
      "metadata": {
        "id": "zUAh8xZDgbwt"
      },
      "execution_count": null,
      "outputs": []
    },
    {
      "cell_type": "code",
      "source": [
        "cb_rmse = np.sqrt(mse(y_test, y_pred))\n",
        "print(\"RMSE in y units:\", np.mean(cb_rmse))"
      ],
      "metadata": {
        "colab": {
          "base_uri": "https://localhost:8080/"
        },
        "id": "w_AbkCRCgeQp",
        "outputId": "7296d46c-9280-4e82-e948-f67a12dabb0e"
      },
      "execution_count": null,
      "outputs": [
        {
          "output_type": "stream",
          "name": "stdout",
          "text": [
            "RMSE in y units: 1.7741868076529321\n"
          ]
        }
      ]
    },
    {
      "cell_type": "code",
      "source": [
        "from sklearn.metrics import r2_score\n",
        "r2_score(y_test, y_pred)"
      ],
      "metadata": {
        "colab": {
          "base_uri": "https://localhost:8080/"
        },
        "id": "qCGiLHtGg2uy",
        "outputId": "1bb316ee-535c-4b96-d940-78952f1c63f8"
      },
      "execution_count": null,
      "outputs": [
        {
          "output_type": "execute_result",
          "data": {
            "text/plain": [
              "0.7600856768585522"
            ]
          },
          "metadata": {},
          "execution_count": 24
        }
      ]
    },
    {
      "cell_type": "code",
      "source": [
        "import matplotlib.pyplot as plt\n",
        "plt.scatter(y_test, y_pred, alpha=0.4)\n",
        "plt.xlabel(\"Actual Efficiency\")\n",
        "plt.ylabel(\"Predicted Efficiency\")\n",
        "\n",
        "plt.title(\"CatBoost Regressor\")\n",
        "plt.show()"
      ],
      "metadata": {
        "colab": {
          "base_uri": "https://localhost:8080/",
          "height": 295
        },
        "id": "V4idlZ52sFX8",
        "outputId": "7f76b434-c3b1-45e7-ba4f-51b2cc40b2e8"
      },
      "execution_count": null,
      "outputs": [
        {
          "output_type": "display_data",
          "data": {
            "text/plain": [
              "<Figure size 432x288 with 1 Axes>"
            ],
            "image/png": "[encoded data removed]"
          },
          "metadata": {
            "needs_background": "light"
          }
        }
      ]
    },
    {
      "cell_type": "code",
      "source": [
        "#no free lunch theorem"
      ],
      "metadata": {
        "id": "-Vi-QeWT8jQU"
      },
      "execution_count": null,
      "outputs": []
    }
  ],
  "metadata": {
    "kernelspec": {
      "display_name": "Python 3",
      "language": "python",
      "name": "python3"
    },
    "language_info": {
      "codemirror_mode": {
        "name": "ipython",
        "version": 3
      },
      "file_extension": ".py",
      "mimetype": "text/x-python",
      "name": "python",
      "nbconvert_exporter": "python",
      "pygments_lexer": "ipython3",
      "version": "3.8.5"
    },
    "colab": {
      "name": "catboost.ipynb",
      "provenance": [],
      "collapsed_sections": [],
      "include_colab_link": true
    }
  },
  "nbformat": 4,
  "nbformat_minor": 0
}
